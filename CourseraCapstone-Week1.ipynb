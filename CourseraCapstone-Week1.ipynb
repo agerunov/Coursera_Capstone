{
 "cells": [
  {
   "cell_type": "markdown",
   "metadata": {},
   "source": [
    "# The Hipster Neighborhoods of Sofia"
   ]
  },
  {
   "cell_type": "markdown",
   "metadata": {},
   "source": [
    "## Introduction"
   ]
  },
  {
   "cell_type": "markdown",
   "metadata": {},
   "source": [
    "The increasing standard of living and the generational shifts globally have produced a plethora of varied lifestyles that are reflected in the architecture, environmental planning, consumption habits, and social expression. One of the most distinct lifestyles is that of a so-called \"hipster\" that is often associated with refined consumption, vintage outlook, and a general ironic attitude towards established social norms and institutions. This has served as a magnet for many across different generations, and particularly Milliennials, and has been widely adopted. The interest in a hipster lifestyle also leads to the formation of specific spatially-delimited communities that are conducive for this lifestyle and feature its outlook, feel, and places and modes of consumption. Those are the so-called \"hipster neigborhoods\" that attract disproportionate interest from buyers and renters that identify or are sympathetic with this subculture. The rise in interest, and thus market demand, is also reflected in the rise of prices and change of community composition that partly fuels the process of gentrification. This is observed in many cities globally but it particularly fascinating in the case of emerging economies as this proceeds both rapidly and chaotically. For this project we take the casee of Bulgaria's capital city Sofia and try to identify its hipster neighborhoods and see whether they remain invariant or shift with the passage of time."
   ]
  },
  {
   "cell_type": "markdown",
   "metadata": {},
   "source": [
    "### Problem Description"
   ]
  },
  {
   "cell_type": "markdown",
   "metadata": {},
   "source": [
    "The desirability of hipster neighbourhoods poses particular challenges for both the supply and the demand side of the housing market. Since it is difficult to define what a hipster neighborhood is there is significant information asymmetry between buyers and sellers and thus pricing cannot be set appropriately to reflect market conditions. Furthermore, the lack of sufficient data may lead to mislabeling a neighborhood as \"not hipster\" (i.e. undesirable) and thus impede its future growth.\n",
    "\n",
    "The key problem therefore is:\n",
    "- **There is no formal definition of hipster neighborhoods using objective criteria (i.e. data) and thus confusion reigns in the market. This results in improperly put price premia, leading to some suboptimal outcomes.** Sometimes sellers suffer as they fail to reach a fair price for a property in a hip cluster; and sometimes buyers suffer as they overpay for a supposedly hip place that is actually not so.\n",
    "\n",
    "\n",
    "To this end we need to complete a number of tasks:\n",
    "1. Study definitions of \"hipster\" and find convergence\n",
    "2. Operationalize the term so that it can be investigated formally\n",
    "3. Collect necessary data as per the term operationalization\n",
    "4. Using data identify and map hipster neighborhoods\n",
    "5. Investigate whether those communities shift over time (i.e. \"a temporal map of coolness\")\n",
    "6. Outline most hipster neighboorhoods in the city of Sofia to inform both buyer and sellers of the possible price premium\n",
    "\n",
    "The problem is a classic asymmetric information one and can thus be fruitfully solved using data science approaches."
   ]
  },
  {
   "cell_type": "markdown",
   "metadata": {},
   "source": [
    "### Background and Related Work"
   ]
  },
  {
   "cell_type": "markdown",
   "metadata": {},
   "source": [
    "What makes a neighborhood hipster has captured the imagination of many observers and as a topic found its distinguished place in both popular and academic discourse. As far back as 2012, *The Atlantic* (Doll, 2012) identified the overwhelming use (and mis-use) of the term and the plethora of popular ways to describe it. The closest to being a data-driven one is the analysis, prepared by travel website *Travel and Leisure* (Hunt, 2013) - *America's Best Cities for Hipsters*. It assessed each area's walkability, number of coffee shops, food trucks, farmer markets, locally owned bars and restaurants, residents in artistic occupations and how often hipster-related words appeared on a given neighborhood's web pages. While an interesting first foray, this analysis includes a very narrow set of indicators, and only focuses on US-American cities. This provides ample opportunity to step and build upon this approach, significantly expanding it, and applying it to a novel location such as Sofia.\n",
    "\n",
    "To to this, we need to better operationalize the term \"hipster\". While this has been amply researched such as in Jake Kinzey's book *The Sacred and the Profane* (Kinzey, 2010), complete consensus has failed to emerge. While authors such as Schiermer (2014), in his Acta Sociologica article *Late-modern Hipsters: New Tendencies in Popular Culture* focuses on behavioral and sociological manifestation of hipster cuture at the individual level, many authors instead focus on externa and enviromental signifiers of this community. Over the past decase, the academic community has observed somewhat of a convergence in views that we will use to operationalize the concept of hipster.\n",
    "\n",
    "For instance, Cronin et al. (2012) focus very much on food consumption as one defining facet of the hipster identify. More specifically, they outline three main practices that hipsters use to distinguish themselves from the mainstream and assert their lifestyle in a narrow and bounded community, namely:\n",
    "- Preference for vegetarian meals (or options);\n",
    "- Choices of specific (craft) brands and avoidance of others (mainstream brands);\n",
    "- Decommodification of the process of consuming food.\n",
    "\n",
    "The authors further point out that those practice serve as points of resistance against the mainstream culture and prevent the co-optation of hipsters into the more established and even mundane lifestyles. \n",
    "\n",
    "Michael (2015) also focuses on consumption choices that are in opposition to the mainstream - particularly the fascination with vintage goods, kitsch retro styles and artisanal production. Hubbard (2016) adds to this definition further venues that are symptomatics a hipster identify such as authentic coffee shops, vintage stores, and bars that serve microbrews. However, while most authors and indeed the general public are rather positive of hipsters, Hubbard (2016) sees them as agents that seek to colonialize ethnic neighboorhoods, gentrify them, and displace the locals through economic means. This further validates the need of appropriately pricing hipster vs. non-hipster neighboorhoods that this project undertakes. Finally, LeBesco and Naccarato (2015) also investigate how hipsters express themselves through their food practices which enables them to compete with other alternative communities and subcultures.\n",
    "\n",
    "The key takeaways from the overview of the research on hipsters and their environment is that **hipster neighborhoods are distinguished by the following:**\n",
    "- Presence of a large variety of ethnic restaurants\n",
    "- Venues with artistic functions (e.g. dance studios, galleries, etc.)\n",
    "- Outlets conducive to activites associated with the subculture (e.g. yoga studios, photography studios)\n",
    "- Coffee shops\n",
    "- Local breweries (esp. micro-breweries)\n",
    "- Shops that offer a variety of non-traditional food options (e.g. organic food stores)\n",
    "- Places where vintage or retro items can be purchases, preferably at low prices (e.g. flea markets but not upscale antique shops)\n",
    "\n",
    "We conjecture that the **larger the concentration of hipster-related venues in a given neighborhood, the more hipster** this neighborhood is."
   ]
  },
  {
   "cell_type": "markdown",
   "metadata": {},
   "source": [
    "## Data"
   ]
  },
  {
   "cell_type": "markdown",
   "metadata": {},
   "source": [
    "The business problem defined - the difficulty in identifying hipster neighborhoods - calls for a data-driven solution. The operationalization of the term naturally calls for a rich database of location and venue data that will help identify, group, and map the different types of neighborhoods. We now review each step of the data pipeline."
   ]
  },
  {
   "cell_type": "markdown",
   "metadata": {},
   "source": [
    "### Analytic Approach"
   ]
  },
  {
   "cell_type": "markdown",
   "metadata": {},
   "source": [
    "The business problem defined is largely exploratory. It builds upon previous work but additional efforts are needed to further operationalize and measure the concept under study (hipster neighborhoods). It will be useful to identify and map those neighborhoods and possibly cluster them together. Those trends need to also be studied over time and their dynamics - precisely measured. Given all this, a **descriptive approach will be most suitable** for this project. It will enable exploration and still ensure that insights can be gleaned through analysis of data."
   ]
  },
  {
   "cell_type": "markdown",
   "metadata": {},
   "source": [
    "### Data Requirement"
   ]
  },
  {
   "cell_type": "markdown",
   "metadata": {},
   "source": [
    "To appropriately address the problem at hand we need three distinct types of data:\n",
    "\n",
    "- **Map data of Sofia** - we need to have an overview of the city and its geography and neighborhoods. This is available out-of-the-box in dedicated Python libraries and can be used directly for the anaysis.\n",
    "\n",
    "\n",
    "- **Neighborhood Coordinates** - to identify hipster neighborhoods we must first be able to identify and separate different neighborhoods in the city. There is a little caveat here that administrative borders of the neighborhoods include a number of regions each with its specific features. We thus need to find the latitude and longitude of those sub-regions, and not merely the administrative regions.\n",
    "\n",
    "\n",
    "- **Data on venues** - since the concept of a hipster neighborhood is largely operationalized by the types and numbers of venues that are located in it, we need to have a rich and detailed database with venues and their coordinates.\n"
   ]
  },
  {
   "cell_type": "markdown",
   "metadata": {},
   "source": [
    "### Data Collection"
   ]
  },
  {
   "cell_type": "markdown",
   "metadata": {},
   "source": [
    "The two major sources of data needed and their possible sources are as follows:\n",
    "\n",
    "- **Neighborhood Coordinates** - a sufficiently detailed database of neighborhood coordinates in Sofia are surprisingly hard to find. An extensive research could not find the necessary data in a structured form. The closest to that which is avaiable can be found on the website *Guide Bulgaria*. On the positive side this data is very detailed with 83 different neighborhood regions (or just neighborhoods from now on) and their respective coordinates. This level of granularity is much higher that admnistrative regions (only 24). On the negative side - this data is not structured and needs to be scraped from the site using a Python libary such as `Beautiful Soup` and then further processed into a `pandas` data frame.\n",
    "\n",
    "\n",
    "- **Data on venues** - the Foursquare location data can be used to obtain a rich list of different venues around given coordinates.  This is furthermore useful as the level of detail of the venue categories is very high with over a hundred different types of venues. Such a level of detail enables us to segment each venue as a \"hipster\" (e.g. flea market) or \"non-hipster\" (e.g. gas station or fast food) venue and thus identify neighborhoods with a higher concentration of the former. This data is easy to obtain from Foursquare's API using Python `requests` libaray after creating a Foursquare developer account to obtain the credentials. This data is then processed and put into a `pandas` data frame."
   ]
  },
  {
   "cell_type": "markdown",
   "metadata": {},
   "source": [
    "### Data Understanding and Preparation"
   ]
  },
  {
   "cell_type": "markdown",
   "metadata": {},
   "source": [
    "The data understanding phases helps answer the question of whether appropriate data has been collected. It thus includes activities to process and gain initial insight into the data. This is done particularly through visualizations and descriptive statistics. Here we will use univariate statistics but will also focus on mapping and creating . In terms of the data preparation, we will need to cleanse the data (being particularly careful about missing values), transform it so that it is suitable for the analytics phase, and then apply domain knowledge to possibly engineer new features.\n",
    "\n",
    "More specifically, the data preparation will need to convert parsed html for Sofia coordinates into a data frame that can be used for further processing. Additionally, location data downloaded from Foursquare is obtained at the individual (venue level), whereas the unit of analysis is the neighborhood. Data will thus have to be aggregated at the neighborhood level and analyzed. Processing will also include sorting out hipster and non-hipster venues. Initial understanding will focus on Sofia's geography and its neighborhoods."
   ]
  },
  {
   "cell_type": "markdown",
   "metadata": {},
   "source": [
    "### Modeling and Evaluation"
   ]
  },
  {
   "cell_type": "markdown",
   "metadata": {},
   "source": [
    "The final phase of the analysis is the modeling and evaluation. This will focus on identifying hipster neighborhoods by means of highest number of hipster venues. We explore the snapshot of the distribution as well as the trends over time. Furthermore, by means of the k-clustering algorithm we group similar neighborhoods and investigate their specific characteristics by investigating the cluster centroids per hipster category. This pahse is aimed to answer the questions posed for the project by identifying hipster neighborhoods, outlining clyster of similar hipster locales and investigating stability over time."
   ]
  },
  {
   "cell_type": "markdown",
   "metadata": {},
   "source": [
    "## References"
   ]
  },
  {
   "cell_type": "markdown",
   "metadata": {},
   "source": [
    "1. Cronin, J. M., McCarthy, M. B., & Collins, A. M. (2014). Covert distinction: how hipsters practice food-based resistance strategies in the production of identity. *Consumption Markets & Culture*, 17(1), 2-28.\n",
    "\n",
    "2. Doll, J. (2012) The Ingredients of a Hipster Neighborhood. *The Atlantic Magazine*: https://www.theatlantic.com/culture/archive/2012/09/ingredients-hipster-neighborhood/323360/ .\n",
    "\n",
    "3. Hubbard, P. (2016). Hipsters on our high streets: Consuming the gentrification frontier. *Sociological Research Online*, 21(3), 1-6.\n",
    "\n",
    "4. Hunt, K. (2013). America's Best Cities for Hipsters. *Travel + Leisure*: https://www.travelandleisure.com/culture-design/americas-best-cities-for-hipsters-2013 .\n",
    "\n",
    "5. Kinzey, J. (2012). *The Sacred and the Profane: an investigation of hipsters*. John Hunt Publishing.\n",
    "\n",
    "6. LeBesco, K., & Naccarato, P. (2015). Distinction, disdain, and gentrification: Hipsters, food people, and the ethnic other in Brooklyn, New York. In *A Place-Based Perspective of Food in Society* (pp. 121-139). Palgrave Macmillan, New York.\n",
    "\n",
    "7. Schiermer, B. (2014). Late-modern hipsters: New tendencies in popular culture. *Acta Sociologica*, 57(2), 167-181."
   ]
  }
 ],
 "metadata": {
  "kernelspec": {
   "display_name": "Python 3",
   "language": "python",
   "name": "python3"
  },
  "language_info": {
   "codemirror_mode": {
    "name": "ipython",
    "version": 3
   },
   "file_extension": ".py",
   "mimetype": "text/x-python",
   "name": "python",
   "nbconvert_exporter": "python",
   "pygments_lexer": "ipython3",
   "version": "3.7.6"
  }
 },
 "nbformat": 4,
 "nbformat_minor": 4
}
