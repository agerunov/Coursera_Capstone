{
 "cells": [
  {
   "cell_type": "markdown",
   "metadata": {},
   "source": [
    "# The Hipster Neighborhoods of Sofia"
   ]
  },
  {
   "cell_type": "markdown",
   "metadata": {},
   "source": [
    "## Introduction"
   ]
  },
  {
   "cell_type": "markdown",
   "metadata": {},
   "source": [
    "The increasing standard of living and the generational shifts globally have produced a plethora of varied lifestyles that are reflected in the architecture, environmental planning, consumption habits, and social expression. One of the most distinct lifestyles is that of a so-called \"hipster\" that is often associated with refined consumption, vintage outlook, and a general ironic attitude towards established social norms and institutions. This has served as a magnet for many across different generations, and particularly Milliennials, and has been widely adopted. The interest in a hipster lifestyle also leads to the formation of specific spatially-delimited communities that are conducive for this lifestyle and feature its outlook, feel, and places and modes of consumption. Those are the so-called \"hipster neigborhoods\" that attract disproportionate interest from buyers and renters that identify or are sympathetic with this subculture. The rise in interest, and thus market demand, is also reflected in the rise of prices and change of community composition that partly fuels the process of gentrification. This is observed in many cities globally but it particularly fascinating in the case of emerging economies as this proceeds both rapidly and chaotically. For this project we take the casee of Bulgaria's capital city Sofia and try to identify its hipster neighborhoods and try to investigate their specifics."
   ]
  },
  {
   "cell_type": "markdown",
   "metadata": {},
   "source": [
    "### Problem Description"
   ]
  },
  {
   "cell_type": "markdown",
   "metadata": {},
   "source": [
    "The desirability of hipster neighbourhoods poses particular challenges for both the supply and the demand side of the housing market. Since it is difficult to define what a hipster neighborhood is there is significant information asymmetry between buyers and sellers and thus pricing cannot be set appropriately to reflect market conditions. Furthermore, the lack of sufficient data may lead to mislabeling a neighborhood as \"not hipster\" (i.e. undesirable) and thus impede its future growth.\n",
    "\n",
    "The key problem therefore is:\n",
    "- **There is no formal definition of hipster neighborhoods using objective criteria (i.e. data) and thus confusion reigns in the market. This results in improperly put price premia, leading to some suboptimal outcomes.** Sometimes sellers suffer as they fail to reach a fair price for a property in a hip cluster; and sometimes buyers suffer as they overpay for a supposedly hip place that is actually not so.\n",
    "\n",
    "\n",
    "To this end we need to complete a number of tasks:\n",
    "1. Study definitions of \"hipster\" and find convergence\n",
    "2. Operationalize the term so that it can be investigated formally\n",
    "3. Collect necessary data as per the term operationalization\n",
    "4. Using data identify and map hipster neighborhoods\n",
    "5. Outline most hipster neighboorhoods in the city of Sofia to inform both buyer and sellers of the possible price premium\n",
    "\n",
    "The problem is a classic asymmetric information one and can thus be fruitfully solved using data science approaches."
   ]
  },
  {
   "cell_type": "markdown",
   "metadata": {},
   "source": [
    "### Background and Related Work"
   ]
  },
  {
   "cell_type": "markdown",
   "metadata": {},
   "source": [
    "What makes a neighborhood hipster has captured the imagination of many observers and as a topic found its distinguished place in both popular and academic discourse. As far back as 2012, *The Atlantic* (Doll, 2012) identified the overwhelming use (and mis-use) of the term and the plethora of popular ways to describe it. The closest to being a data-driven one is the analysis, prepared by travel website *Travel and Leisure* (Hunt, 2013) - *America's Best Cities for Hipsters*. It assessed each area's walkability, number of coffee shops, food trucks, farmer markets, locally owned bars and restaurants, residents in artistic occupations and how often hipster-related words appeared on a given neighborhood's web pages. While an interesting first foray, this analysis includes a very narrow set of indicators, and only focuses on US-American cities. This provides ample opportunity to step and build upon this approach, significantly expanding it, and applying it to a novel location such as Sofia.\n",
    "\n",
    "To to this, we need to better operationalize the term \"hipster\". While this has been amply researched such as in Jake Kinzey's book *The Sacred and the Profane* (Kinzey, 2010), complete consensus has failed to emerge. While authors such as Schiermer (2014), in his Acta Sociologica article *Late-modern Hipsters: New Tendencies in Popular Culture* focuses on behavioral and sociological manifestation of hipster cuture at the individual level, many authors instead focus on externa and enviromental signifiers of this community. Over the past decase, the academic community has observed somewhat of a convergence in views that we will use to operationalize the concept of hipster.\n",
    "\n",
    "For instance, Cronin et al. (2012) focus very much on food consumption as one defining facet of the hipster identify. More specifically, they outline three main practices that hipsters use to distinguish themselves from the mainstream and assert their lifestyle in a narrow and bounded community, namely:\n",
    "- Preference for vegetarian meals (or options);\n",
    "- Choices of specific (craft) brands and avoidance of others (mainstream brands);\n",
    "- Decommodification of the process of consuming food.\n",
    "\n",
    "The authors further point out that those practice serve as points of resistance against the mainstream culture and prevent the co-optation of hipsters into the more established and even mundane lifestyles. \n",
    "\n",
    "Michael (2015) also focuses on consumption choices that are in opposition to the mainstream - particularly the fascination with vintage goods, kitsch retro styles and artisanal production. Hubbard (2016) adds to this definition further venues that are symptomatics a hipster identify such as authentic coffee shops, vintage stores, and bars that serve microbrews. However, while most authors and indeed the general public are rather positive of hipsters, Hubbard (2016) sees them as agents that seek to colonialize ethnic neighboorhoods, gentrify them, and displace the locals through economic means. This further validates the need of appropriately pricing hipster vs. non-hipster neighboorhoods that this project undertakes. Finally, LeBesco and Naccarato (2015) also investigate how hipsters express themselves through their food practices which enables them to compete with other alternative communities and subcultures.\n",
    "\n",
    "The key takeaways from the overview of the research on hipsters and their environment is that **hipster neighborhoods are distinguished by the following:**\n",
    "- Presence of a large variety of ethnic restaurants\n",
    "- Venues with artistic functions (e.g. dance studios, galleries, etc.)\n",
    "- Outlets conducive to activites associated with the subculture (e.g. yoga studios, photography studios)\n",
    "- Coffee shops\n",
    "- Local breweries (esp. micro-breweries)\n",
    "- Shops that offer a variety of non-traditional food options (e.g. organic food stores)\n",
    "- Places where vintage or retro items can be purchases, preferably at low prices (e.g. flea markets but not upscale antique shops)\n",
    "\n",
    "We conjecture that the **larger the concentration of hipster-related venues in a given neighborhood, the more hipster** this neighborhood is."
   ]
  },
  {
   "cell_type": "markdown",
   "metadata": {},
   "source": [
    "## Data"
   ]
  },
  {
   "cell_type": "markdown",
   "metadata": {},
   "source": [
    "The business problem defined - the difficulty in identifying hipster neighborhoods - calls for a data-driven solution. The operationalization of the term naturally calls for a rich database of location and venue data that will help identify, group, and map the different types of neighborhoods. We now review each step of the data pipeline."
   ]
  },
  {
   "cell_type": "markdown",
   "metadata": {},
   "source": [
    "### Analytic Approach"
   ]
  },
  {
   "cell_type": "markdown",
   "metadata": {},
   "source": [
    "The business problem defined is largely exploratory. It builds upon previous work but additional efforts are needed to further operationalize and measure the concept under study (hipster neighborhoods). It will be useful to identify and map those neighborhoods and possibly cluster them together. Those trends need to also be studied over time and their dynamics - precisely measured. Given all this, a **descriptive approach will be most suitable** for this project. It will enable exploration and still ensure that insights can be gleaned through analysis of data."
   ]
  },
  {
   "cell_type": "markdown",
   "metadata": {},
   "source": [
    "### Data Requirement"
   ]
  },
  {
   "cell_type": "markdown",
   "metadata": {},
   "source": [
    "To appropriately address the problem at hand we need three distinct types of data:\n",
    "\n",
    "- **Map data of Sofia** - we need to have an overview of the city and its geography and neighborhoods. This is available out-of-the-box in dedicated Python libraries and can be used directly for the anaysis.\n",
    "\n",
    "\n",
    "- **Neighborhood Coordinates** - to identify hipster neighborhoods we must first be able to identify and separate different neighborhoods in the city. There is a little caveat here that administrative borders of the neighborhoods include a number of regions each with its specific features. We thus need to find the latitude and longitude of those sub-regions, and not merely the administrative regions.\n",
    "\n",
    "\n",
    "- **Data on venues** - since the concept of a hipster neighborhood is largely operationalized by the types and numbers of venues that are located in it, we need to have a rich and detailed database with venues and their coordinates.\n"
   ]
  },
  {
   "cell_type": "markdown",
   "metadata": {},
   "source": [
    "### Data Collection"
   ]
  },
  {
   "cell_type": "markdown",
   "metadata": {},
   "source": [
    "The two major sources of data needed and their possible sources are as follows:\n",
    "\n",
    "- **Neighborhood Coordinates** - a sufficiently detailed database of neighborhood coordinates in Sofia are surprisingly hard to find. An extensive research could not find the necessary data in a structured form. The closest to that which is avaiable can be found on the website *Guide Bulgaria*. On the positive side this data is very detailed with 83 different neighborhood regions (or just neighborhoods from now on) and their respective coordinates. This level of granularity is much higher that admnistrative regions (only 24). On the negative side - this data is not structured and needs to be scraped from the site using a Python libary such as `Beautiful Soup` and then further processed into a `pandas` data frame.\n",
    "\n",
    "\n",
    "- **Data on venues** - the Foursquare location data can be used to obtain a rich list of different venues around given coordinates.  This is furthermore useful as the level of detail of the venue categories is very high with over a hundred different types of venues. Such a level of detail enables us to segment each venue as a \"hipster\" (e.g. flea market) or \"non-hipster\" (e.g. gas station or fast food) venue and thus identify neighborhoods with a higher concentration of the former. This data is easy to obtain from Foursquare's API using Python `requests` libaray after creating a Foursquare developer account to obtain the credentials. This data is then processed and put into a `pandas` data frame."
   ]
  },
  {
   "cell_type": "markdown",
   "metadata": {},
   "source": [
    "### Data Understanding and Preparation"
   ]
  },
  {
   "cell_type": "markdown",
   "metadata": {},
   "source": [
    "The data understanding phases helps answer the question of whether appropriate data has been collected. It thus includes activities to process and gain initial insight into the data. This is done particularly through visualizations and descriptive statistics. Here we will use univariate statistics but will also focus on mapping and creating. In terms of the data preparation, we will need to cleanse the data (being particularly careful about missing values), transform it so that it is suitable for the analytics phase, and then apply domain knowledge to possibly engineer new features.\n",
    "\n",
    "More specifically, the data preparation will need to convert parsed html for Sofia coordinates into a data frame that can be used for further processing. Additionally, location data downloaded from Foursquare is obtained at the individual (venue level), whereas the unit of analysis is the neighborhood. Data will thus have to be aggregated at the neighborhood level and analyzed. Processing will also include sorting out hipster and non-hipster venues. Initial understanding will focus on Sofia's geography and its neighborhoods."
   ]
  },
  {
   "cell_type": "markdown",
   "metadata": {},
   "source": [
    "### Modeling and Evaluation"
   ]
  },
  {
   "cell_type": "markdown",
   "metadata": {},
   "source": [
    "The final phase of the analysis is the modeling and evaluation. This will focus on identifying hipster neighborhoods by means of highest number of hipster venues. We explore the snapshot of the distribution as well as the trends over time. Furthermore, by means of the k-clustering algorithm we group similar neighborhoods and investigate their specific characteristics by investigating the cluster centroids per hipster category. This phase is aimed to answer the questions posed for the project by identifying hipster neighborhoods, outlining clusters of similar hipster locales."
   ]
  },
  {
   "cell_type": "markdown",
   "metadata": {},
   "source": [
    "## Methodology"
   ]
  },
  {
   "cell_type": "markdown",
   "metadata": {},
   "source": [
    "The exploratory nature of the this project means that the methodology used will largely focus on processing and visualizing data. The analytics process goes through its **standard phases** as follows:\n",
    "- Initial Preparation\n",
    "- Obtaining Data\n",
    "- Data Processing\n",
    "- Visualization\n",
    "- Applying Machine Learning Algorithm\n",
    "- Results Interpretation\n",
    "\n",
    "Detailed steps and code follow, and are structured in a way to ensure both transparency and replicability."
   ]
  },
  {
   "cell_type": "markdown",
   "metadata": {},
   "source": [
    "### Initial Preparation"
   ]
  },
  {
   "cell_type": "markdown",
   "metadata": {},
   "source": [
    "We begin by importing the needed Python libraries - in whole, or in part."
   ]
  },
  {
   "cell_type": "code",
   "execution_count": 1,
   "metadata": {},
   "outputs": [],
   "source": [
    "import pandas as pd\n",
    "import numpy as np\n",
    "import re\n",
    "import requests\n",
    "from selenium import webdriver\n",
    "from bs4 import BeautifulSoup\n",
    "from sklearn.cluster import KMeans\n",
    "import matplotlib.cm as cm\n",
    "import matplotlib.colors as colors"
   ]
  },
  {
   "cell_type": "markdown",
   "metadata": {},
   "source": [
    "### Obtaining Coordinates for Sofia Neighborhoods"
   ]
  },
  {
   "cell_type": "markdown",
   "metadata": {},
   "source": [
    "The first step in data collection is scraping the website *Guide Bulgaria* to obtain granular location data for Sofia's neighborhoods. For this purpose we initially get the contents of the page itself and then use Beautiful Soup to parse it and only retain the necessary data."
   ]
  },
  {
   "cell_type": "code",
   "execution_count": 2,
   "metadata": {},
   "outputs": [],
   "source": [
    "res = requests.get(\"http://www.guide-bulgaria.com/SW/sofia-city/stolichna/sofia?t=locations\")\n",
    "htmlpage = res.content\n",
    "soup = BeautifulSoup(htmlpage, 'html.parser')\n",
    "text = soup.find_all(text=True)"
   ]
  },
  {
   "cell_type": "markdown",
   "metadata": {},
   "source": [
    "The data we are looking for are the latitude and longitutude of Sofia's neighborhoods, and this is the data kept in the `coord` object."
   ]
  },
  {
   "cell_type": "code",
   "execution_count": 3,
   "metadata": {},
   "outputs": [],
   "source": [
    "coord = re.findall(\"Quarter .* : .*\", str(soup))\n",
    "coord = re.split(\"<li>\", str(coord))"
   ]
  },
  {
   "cell_type": "markdown",
   "metadata": {},
   "source": [
    "To ease further processing we convert the `coord` object to a `pandas` data frame, stip unnecessary elements and drop irrelevant columns and text. "
   ]
  },
  {
   "cell_type": "code",
   "execution_count": 4,
   "metadata": {},
   "outputs": [],
   "source": [
    "coord = pd.DataFrame(coord)\n",
    "coord[['Neighborhood','Coordinates']] = coord.iloc[:,0].str.split(\":\",expand=True)\n",
    "\n",
    "# Strip remaining unnecessary html elements\n",
    "coord[\"Neighborhood\"] = coord.Neighborhood.str.replace(\"['\", \"\", regex = False)\n",
    "coord[\"Coordinates\"] = coord.Coordinates.str.replace(\"</li>\", \"\", regex = False)\n",
    "coord[\"Coordinates\"] = coord.Coordinates.str.replace(\"</ul>']\", \"\", regex = False)\n",
    "coord[['Longitude','Latitude']] = coord.Coordinates.str.split(\",\",expand=True)\n",
    "\n",
    "#Drop superfluous columns and text\n",
    "coord.columns = [\"all\", 'Neighborhood', 'Coordinates', 'Longitude', 'Latitude']\n",
    "coord[\"Neighborhood\"] = coord.Neighborhood.str.replace(\"Quarter\", \"\", regex = False)\n",
    "coord.drop([\"Coordinates\"], axis = 1, inplace = True)\n",
    "coord.drop([\"all\"], axis = 1, inplace = True)"
   ]
  },
  {
   "cell_type": "markdown",
   "metadata": {},
   "source": [
    "We then proceed to clean the database of missing observations (there is 1) and to convert the coordinates to their appropriate `numeric` format. We also further inspect the data frame itself to make sure the resultant data is suitable for further processing and analysis."
   ]
  },
  {
   "cell_type": "code",
   "execution_count": 20,
   "metadata": {},
   "outputs": [
    {
     "data": {
      "text/html": [
       "<div>\n",
       "<style scoped>\n",
       "    .dataframe tbody tr th:only-of-type {\n",
       "        vertical-align: middle;\n",
       "    }\n",
       "\n",
       "    .dataframe tbody tr th {\n",
       "        vertical-align: top;\n",
       "    }\n",
       "\n",
       "    .dataframe thead th {\n",
       "        text-align: right;\n",
       "    }\n",
       "</style>\n",
       "<table border=\"1\" class=\"dataframe\">\n",
       "  <thead>\n",
       "    <tr style=\"text-align: right;\">\n",
       "      <th></th>\n",
       "      <th>Neighborhood</th>\n",
       "      <th>Longitude</th>\n",
       "      <th>Latitude</th>\n",
       "    </tr>\n",
       "  </thead>\n",
       "  <tbody>\n",
       "    <tr>\n",
       "      <th>0</th>\n",
       "      <td>Bakston</td>\n",
       "      <td>23.270201</td>\n",
       "      <td>42.665660</td>\n",
       "    </tr>\n",
       "    <tr>\n",
       "      <th>1</th>\n",
       "      <td>Banishora</td>\n",
       "      <td>23.308800</td>\n",
       "      <td>42.710190</td>\n",
       "    </tr>\n",
       "    <tr>\n",
       "      <th>2</th>\n",
       "      <td>Beli brezi</td>\n",
       "      <td>23.292072</td>\n",
       "      <td>42.677239</td>\n",
       "    </tr>\n",
       "    <tr>\n",
       "      <th>3</th>\n",
       "      <td>Benkovski</td>\n",
       "      <td>23.342497</td>\n",
       "      <td>42.738117</td>\n",
       "    </tr>\n",
       "    <tr>\n",
       "      <th>4</th>\n",
       "      <td>Borovo</td>\n",
       "      <td>23.286333</td>\n",
       "      <td>42.669876</td>\n",
       "    </tr>\n",
       "  </tbody>\n",
       "</table>\n",
       "</div>"
      ],
      "text/plain": [
       "   Neighborhood  Longitude   Latitude\n",
       "0      Bakston   23.270201  42.665660\n",
       "1    Banishora   23.308800  42.710190\n",
       "2   Beli brezi   23.292072  42.677239\n",
       "3    Benkovski   23.342497  42.738117\n",
       "4       Borovo   23.286333  42.669876"
      ]
     },
     "execution_count": 20,
     "metadata": {},
     "output_type": "execute_result"
    }
   ],
   "source": [
    "coord.dropna(subset=[\"Latitude\"], inplace = True)\n",
    "coord[\"Latitude\"] = pd.to_numeric(coord[\"Latitude\"])\n",
    "coord[\"Longitude\"] = pd.to_numeric(coord[\"Longitude\"])\n",
    "coord.head()"
   ]
  },
  {
   "cell_type": "markdown",
   "metadata": {},
   "source": [
    "### Visualizing Sofia Neibhborhoods"
   ]
  },
  {
   "cell_type": "markdown",
   "metadata": {},
   "source": [
    "As a next step we proceed to visualize Sofia's neighborhoods in order to obtain a feeling of their geographical distribution and relative positions. To this end we use `Nominatim` to obtain the latitude and longitude of the city. Those are also printed below."
   ]
  },
  {
   "cell_type": "code",
   "execution_count": 6,
   "metadata": {},
   "outputs": [
    {
     "name": "stdout",
     "output_type": "stream",
     "text": [
      "The geograpical coordinate of Sofia are 42.6978634, 23.3221789.\n"
     ]
    }
   ],
   "source": [
    "from geopy.geocoders import Nominatim\n",
    "geolocator = Nominatim(user_agent=\"sofia_explorer\")\n",
    "location = geolocator.geocode('Sofia, Bulgaria')\n",
    "latitude = location.latitude\n",
    "longitude = location.longitude\n",
    "print('The geograpical coordinate of Sofia are {}, {}.'.format(latitude, longitude))"
   ]
  },
  {
   "cell_type": "markdown",
   "metadata": {},
   "source": [
    "We create a map of the city using the `folium` library."
   ]
  },
  {
   "cell_type": "code",
   "execution_count": 7,
   "metadata": {},
   "outputs": [],
   "source": [
    "# create map of Sofia using latitude and longitude values\n",
    "import folium\n",
    "map_sofia = folium.Map(location=[latitude, longitude], zoom_start=12)"
   ]
  },
  {
   "cell_type": "markdown",
   "metadata": {},
   "source": [
    "Markers, or indeed pins, for each neighborhood are added to the map and then it is displayed. This enables us to have an overview of this capital, together with a very granular idea of the neighborhoods that form it."
   ]
  },
  {
   "cell_type": "code",
   "execution_count": 8,
   "metadata": {},
   "outputs": [
    {
     "data": {
      "text/html": [
       "<div style=\"width:100%;\"><div style=\"position:relative;width:100%;height:0;padding-bottom:60%;\"><iframe src=\"about:blank\" style=\"position:absolute;width:100%;height:100%;left:0;top:0;border:none !important;\" data-html=PCFET0NUWVBFIGh0bWw+CjxoZWFkPiAgICAKICAgIDxtZXRhIGh0dHAtZXF1aXY9ImNvbnRlbnQtdHlwZSIgY29udGVudD0idGV4dC9odG1sOyBjaGFyc2V0PVVURi04IiAvPgogICAgPHNjcmlwdD5MX1BSRUZFUl9DQU5WQVMgPSBmYWxzZTsgTF9OT19UT1VDSCA9IGZhbHNlOyBMX0RJU0FCTEVfM0QgPSBmYWxzZTs8L3NjcmlwdD4KICAgIDxzY3JpcHQgc3JjPSJodHRwczovL2Nkbi5qc2RlbGl2ci5uZXQvbnBtL2xlYWZsZXRAMS4yLjAvZGlzdC9sZWFmbGV0LmpzIj48L3NjcmlwdD4KICAgIDxzY3JpcHQgc3JjPSJodHRwczovL2FqYXguZ29vZ2xlYXBpcy5jb20vYWpheC9saWJzL2pxdWVyeS8xLjExLjEvanF1ZXJ5Lm1pbi5qcyI+PC9zY3JpcHQ+CiAgICA8c2NyaXB0IHNyYz0iaHR0cHM6Ly9tYXhjZG4uYm9vdHN0cmFwY2RuLmNvbS9ib290c3RyYXAvMy4yLjAvanMvYm9vdHN0cmFwLm1pbi5qcyI+PC9zY3JpcHQ+CiAgICA8c2NyaXB0IHNyYz0iaHR0cHM6Ly9jZG5qcy5jbG91ZGZsYXJlLmNvbS9hamF4L2xpYnMvTGVhZmxldC5hd2Vzb21lLW1hcmtlcnMvMi4wLjIvbGVhZmxldC5hd2Vzb21lLW1hcmtlcnMuanMiPjwvc2NyaXB0PgogICAgPGxpbmsgcmVsPSJzdHlsZXNoZWV0IiBocmVmPSJodHRwczovL2Nkbi5qc2RlbGl2ci5uZXQvbnBtL2xlYWZsZXRAMS4yLjAvZGlzdC9sZWFmbGV0LmNzcyIvPgogICAgPGxpbmsgcmVsPSJzdHlsZXNoZWV0IiBocmVmPSJodHRwczovL21heGNkbi5ib290c3RyYXBjZG4uY29tL2Jvb3RzdHJhcC8zLjIuMC9jc3MvYm9vdHN0cmFwLm1pbi5jc3MiLz4KICAgIDxsaW5rIHJlbD0ic3R5bGVzaGVldCIgaHJlZj0iaHR0cHM6Ly9tYXhjZG4uYm9vdHN0cmFwY2RuLmNvbS9ib290c3RyYXAvMy4yLjAvY3NzL2Jvb3RzdHJhcC10aGVtZS5taW4uY3NzIi8+CiAgICA8bGluayByZWw9InN0eWxlc2hlZXQiIGhyZWY9Imh0dHBzOi8vbWF4Y2RuLmJvb3RzdHJhcGNkbi5jb20vZm9udC1hd2Vzb21lLzQuNi4zL2Nzcy9mb250LWF3ZXNvbWUubWluLmNzcyIvPgogICAgPGxpbmsgcmVsPSJzdHlsZXNoZWV0IiBocmVmPSJodHRwczovL2NkbmpzLmNsb3VkZmxhcmUuY29tL2FqYXgvbGlicy9MZWFmbGV0LmF3ZXNvbWUtbWFya2Vycy8yLjAuMi9sZWFmbGV0LmF3ZXNvbWUtbWFya2Vycy5jc3MiLz4KICAgIDxsaW5rIHJlbD0ic3R5bGVzaGVldCIgaHJlZj0iaHR0cHM6Ly9yYXdnaXQuY29tL3B5dGhvbi12aXN1YWxpemF0aW9uL2ZvbGl1bS9tYXN0ZXIvZm9saXVtL3RlbXBsYXRlcy9sZWFmbGV0LmF3ZXNvbWUucm90YXRlLmNzcyIvPgogICAgPHN0eWxlPmh0bWwsIGJvZHkge3dpZHRoOiAxMDAlO2hlaWdodDogMTAwJTttYXJnaW46IDA7cGFkZGluZzogMDt9PC9zdHlsZT4KICAgIDxzdHlsZT4jbWFwIHtwb3NpdGlvbjphYnNvbHV0ZTt0b3A6MDtib3R0b206MDtyaWdodDowO2xlZnQ6MDt9PC9zdHlsZT4KICAgIAogICAgICAgICAgICA8c3R5bGU+ICNtYXBfMGIwZDY4MTE1MjQ1NGFiMzk2MTU2YWY2ZjAxYWM2MzcgewogICAgICAgICAgICAgICAgcG9zaXRpb24gOiByZWxhdGl2ZTsKICAgICAgICAgICAgICAgIHdpZHRoIDogMTAwLjAlOwogICAgICAgICAgICAgICAgaGVpZ2h0OiAxMDAuMCU7CiAgICAgICAgICAgICAgICBsZWZ0OiAwLjAlOwogICAgICAgICAgICAgICAgdG9wOiAwLjAlOwogICAgICAgICAgICAgICAgfQogICAgICAgICAgICA8L3N0eWxlPgogICAgICAgIAo8L2hlYWQ+Cjxib2R5PiAgICAKICAgIAogICAgICAgICAgICA8ZGl2IGNsYXNzPSJmb2xpdW0tbWFwIiBpZD0ibWFwXzBiMGQ2ODExNTI0NTRhYjM5NjE1NmFmNmYwMWFjNjM3IiA+PC9kaXY+CiAgICAgICAgCjwvYm9keT4KPHNjcmlwdD4gICAgCiAgICAKCiAgICAgICAgICAgIAogICAgICAgICAgICAgICAgdmFyIGJvdW5kcyA9IG51bGw7CiAgICAgICAgICAgIAoKICAgICAgICAgICAgdmFyIG1hcF8wYjBkNjgxMTUyNDU0YWIzOTYxNTZhZjZmMDFhYzYzNyA9IEwubWFwKAogICAgICAgICAgICAgICAgICAgICAgICAgICAgICAgICAgJ21hcF8wYjBkNjgxMTUyNDU0YWIzOTYxNTZhZjZmMDFhYzYzNycsCiAgICAgICAgICAgICAgICAgICAgICAgICAgICAgICAgICB7Y2VudGVyOiBbNDIuNjk3ODYzNCwyMy4zMjIxNzg5XSwKICAgICAgICAgICAgICAgICAgICAgICAgICAgICAgICAgIHpvb206IDEyLAogICAgICAgICAgICAgICAgICAgICAgICAgICAgICAgICAgbWF4Qm91bmRzOiBib3VuZHMsCiAgICAgICAgICAgICAgICAgICAgICAgICAgICAgICAgICBsYXllcnM6IFtdLAogICAgICAgICAgICAgICAgICAgICAgICAgICAgICAgICAgd29ybGRDb3B5SnVtcDogZmFsc2UsCiAgICAgICAgICAgICAgICAgICAgICAgICAgICAgICAgICBjcnM6IEwuQ1JTLkVQU0czODU3CiAgICAgICAgICAgICAgICAgICAgICAgICAgICAgICAgIH0pOwogICAgICAgICAgICAKICAgICAgICAKICAgIAogICAgICAgICAgICB2YXIgdGlsZV9sYXllcl85MzdhOGRmNTRkNmM0NzY1YTZlMzgwY2QwYTYzYTlkYyA9IEwudGlsZUxheWVyKAogICAgICAgICAgICAgICAgJ2h0dHBzOi8ve3N9LnRpbGUub3BlbnN0cmVldG1hcC5vcmcve3p9L3t4fS97eX0ucG5nJywKICAgICAgICAgICAgICAgIHsKICAiYXR0cmlidXRpb24iOiBudWxsLAogICJkZXRlY3RSZXRpbmEiOiBmYWxzZSwKICAibWF4Wm9vbSI6IDE4LAogICJtaW5ab29tIjogMSwKICAibm9XcmFwIjogZmFsc2UsCiAgInN1YmRvbWFpbnMiOiAiYWJjIgp9CiAgICAgICAgICAgICAgICApLmFkZFRvKG1hcF8wYjBkNjgxMTUyNDU0YWIzOTYxNTZhZjZmMDFhYzYzNyk7CiAgICAgICAgCiAgICAKICAgICAgICAgICAgdmFyIGNpcmNsZV9tYXJrZXJfYzYwYTdjMDgyYWI2NDUwMWI0ZmZhYmJhYmE2ZDIwZGEgPSBMLmNpcmNsZU1hcmtlcigKICAgICAgICAgICAgICAgIFs0Mi42NjU2NjAxMDAwMDAwMDQsMjMuMjcwMjAxM10sCiAgICAgICAgICAgICAgICB7CiAgImJ1YmJsaW5nTW91c2VFdmVudHMiOiB0cnVlLAogICJjb2xvciI6ICJibHVlIiwKICAiZGFzaEFycmF5IjogbnVsbCwKICAiZGFzaE9mZnNldCI6IG51bGwsCiAgImZpbGwiOiB0cnVlLAogICJmaWxsQ29sb3IiOiAiIzMxODZjYyIsCiAgImZpbGxPcGFjaXR5IjogMC43LAogICJmaWxsUnVsZSI6ICJldmVub2RkIiwKICAibGluZUNhcCI6ICJyb3VuZCIsCiAgImxpbmVKb2luIjogInJvdW5kIiwKICAib3BhY2l0eSI6IDEuMCwKICAicmFkaXVzIjogNSwKICAic3Ryb2tlIjogdHJ1ZSwKICAid2VpZ2h0IjogMwp9CiAgICAgICAgICAgICAgICApLmFkZFRvKG1hcF8wYjBkNjgxMTUyNDU0YWIzOTYxNTZhZjZmMDFhYzYzNyk7CiAgICAgICAgICAgIAogICAgCiAgICAgICAgICAgIHZhciBwb3B1cF85NzM0ZjYyYzZlZjA0OTZmOTQyMDVkYWJmMzYyNTc5OSA9IEwucG9wdXAoe21heFdpZHRoOiAnMzAwJ30pOwoKICAgICAgICAgICAgCiAgICAgICAgICAgICAgICB2YXIgaHRtbF82ZTE0MjE1ZDRkOTE0ZjlkOTIwYTgxYjcwNzRiZDYwYyA9ICQoJzxkaXYgaWQ9Imh0bWxfNmUxNDIxNWQ0ZDkxNGY5ZDkyMGE4MWI3MDc0YmQ2MGMiIHN0eWxlPSJ3aWR0aDogMTAwLjAlOyBoZWlnaHQ6IDEwMC4wJTsiPiBCYWtzdG9uIDwvZGl2PicpWzBdOwogICAgICAgICAgICAgICAgcG9wdXBfOTczNGY2MmM2ZWYwNDk2Zjk0MjA1ZGFiZjM2MjU3OTkuc2V0Q29udGVudChodG1sXzZlMTQyMTVkNGQ5MTRmOWQ5MjBhODFiNzA3NGJkNjBjKTsKICAgICAgICAgICAgCgogICAgICAgICAgICBjaXJjbGVfbWFya2VyX2M2MGE3YzA4MmFiNjQ1MDFiNGZmYWJiYWJhNmQyMGRhLmJpbmRQb3B1cChwb3B1cF85NzM0ZjYyYzZlZjA0OTZmOTQyMDVkYWJmMzYyNTc5OSk7CgogICAgICAgICAgICAKICAgICAgICAKICAgIAogICAgICAgICAgICB2YXIgY2lyY2xlX21hcmtlcl82MWM2ZTgxZDdiNTY0YmFkYTk0ZTE4OWUzM2JkYTYwNyA9IEwuY2lyY2xlTWFya2VyKAogICAgICAgICAgICAgICAgWzQyLjcxMDE4OTgsMjMuMzA4Nzk5N10sCiAgICAgICAgICAgICAgICB7CiAgImJ1YmJsaW5nTW91c2VFdmVudHMiOiB0cnVlLAogICJjb2xvciI6ICJibHVlIiwKICAiZGFzaEFycmF5IjogbnVsbCwKICAiZGFzaE9mZnNldCI6IG51bGwsCiAgImZpbGwiOiB0cnVlLAogICJmaWxsQ29sb3IiOiAiIzMxODZjYyIsCiAgImZpbGxPcGFjaXR5IjogMC43LAogICJmaWxsUnVsZSI6ICJldmVub2RkIiwKICAibGluZUNhcCI6ICJyb3VuZCIsCiAgImxpbmVKb2luIjogInJvdW5kIiwKICAib3BhY2l0eSI6IDEuMCwKICAicmFkaXVzIjogNSwKICAic3Ryb2tlIjogdHJ1ZSwKICAid2VpZ2h0IjogMwp9CiAgICAgICAgICAgICAgICApLmFkZFRvKG1hcF8wYjBkNjgxMTUyNDU0YWIzOTYxNTZhZjZmMDFhYzYzNyk7CiAgICAgICAgICAgIAogICAgCiAgICAgICAgICAgIHZhciBwb3B1cF8zYzJhM2JmZmRiMWQ0NDM2YTY3MDAzNTBjNTdhYzU5NiA9IEwucG9wdXAoe21heFdpZHRoOiAnMzAwJ30pOwoKICAgICAgICAgICAgCiAgICAgICAgICAgICAgICB2YXIgaHRtbF9jMTU0ZGZjNGM3ZWU0YmYzODdiYzVhNTBkOTA0OWI4OSA9ICQoJzxkaXYgaWQ9Imh0bWxfYzE1NGRmYzRjN2VlNGJmMzg3YmM1YTUwZDkwNDliODkiIHN0eWxlPSJ3aWR0aDogMTAwLjAlOyBoZWlnaHQ6IDEwMC4wJTsiPiBCYW5pc2hvcmEgPC9kaXY+JylbMF07CiAgICAgICAgICAgICAgICBwb3B1cF8zYzJhM2JmZmRiMWQ0NDM2YTY3MDAzNTBjNTdhYzU5Ni5zZXRDb250ZW50KGh0bWxfYzE1NGRmYzRjN2VlNGJmMzg3YmM1YTUwZDkwNDliODkpOwogICAgICAgICAgICAKCiAgICAgICAgICAgIGNpcmNsZV9tYXJrZXJfNjFjNmU4MWQ3YjU2NGJhZGE5NGUxODllMzNiZGE2MDcuYmluZFBvcHVwKHBvcHVwXzNjMmEzYmZmZGIxZDQ0MzZhNjcwMDM1MGM1N2FjNTk2KTsKCiAgICAgICAgICAgIAogICAgICAgIAogICAgCiAgICAgICAgICAgIHZhciBjaXJjbGVfbWFya2VyXzUzNDYxMmNiN2U3YzQ3MWNhM2MyY2Y3NjJlNzA3YjE5ID0gTC5jaXJjbGVNYXJrZXIoCiAgICAgICAgICAgICAgICBbNDIuNjc3MjM4NSwyMy4yOTIwNzIzXSwKICAgICAgICAgICAgICAgIHsKICAiYnViYmxpbmdNb3VzZUV2ZW50cyI6IHRydWUsCiAgImNvbG9yIjogImJsdWUiLAogICJkYXNoQXJyYXkiOiBudWxsLAogICJkYXNoT2Zmc2V0IjogbnVsbCwKICAiZmlsbCI6IHRydWUsCiAgImZpbGxDb2xvciI6ICIjMzE4NmNjIiwKICAiZmlsbE9wYWNpdHkiOiAwLjcsCiAgImZpbGxSdWxlIjogImV2ZW5vZGQiLAogICJsaW5lQ2FwIjogInJvdW5kIiwKICAibGluZUpvaW4iOiAicm91bmQiLAogICJvcGFjaXR5IjogMS4wLAogICJyYWRpdXMiOiA1LAogICJzdHJva2UiOiB0cnVlLAogICJ3ZWlnaHQiOiAzCn0KICAgICAgICAgICAgICAgICkuYWRkVG8obWFwXzBiMGQ2ODExNTI0NTRhYjM5NjE1NmFmNmYwMWFjNjM3KTsKICAgICAgICAgICAgCiAgICAKICAgICAgICAgICAgdmFyIHBvcHVwXzAwM2FiOGE3NTY3ZjQ1OTNhNDMyNjFmZDk3OTYwNTU5ID0gTC5wb3B1cCh7bWF4V2lkdGg6ICczMDAnfSk7CgogICAgICAgICAgICAKICAgICAgICAgICAgICAgIHZhciBodG1sXzMxMDQxZDU2NzcyYTQ2N2U4NDlkNjRmNGZmZWYxOGMxID0gJCgnPGRpdiBpZD0iaHRtbF8zMTA0MWQ1Njc3MmE0NjdlODQ5ZDY0ZjRmZmVmMThjMSIgc3R5bGU9IndpZHRoOiAxMDAuMCU7IGhlaWdodDogMTAwLjAlOyI+IEJlbGkgYnJlemkgPC9kaXY+JylbMF07CiAgICAgICAgICAgICAgICBwb3B1cF8wMDNhYjhhNzU2N2Y0NTkzYTQzMjYxZmQ5Nzk2MDU1OS5zZXRDb250ZW50KGh0bWxfMzEwNDFkNTY3NzJhNDY3ZTg0OWQ2NGY0ZmZlZjE4YzEpOwogICAgICAgICAgICAKCiAgICAgICAgICAgIGNpcmNsZV9tYXJrZXJfNTM0NjEyY2I3ZTdjNDcxY2EzYzJjZjc2MmU3MDdiMTkuYmluZFBvcHVwKHBvcHVwXzAwM2FiOGE3NTY3ZjQ1OTNhNDMyNjFmZDk3OTYwNTU5KTsKCiAgICAgICAgICAgIAogICAgICAgIAogICAgCiAgICAgICAgICAgIHZhciBjaXJjbGVfbWFya2VyX2Y2MjEzZGRkZDM1YTRhODg4NzY3Y2FhNDFjYjZhN2VhID0gTC5jaXJjbGVNYXJrZXIoCiAgICAgICAgICAgICAgICBbNDIuNzM4MTE3MjAwMDAwMDA1LDIzLjM0MjQ5Njg5OTk5OTk5N10sCiAgICAgICAgICAgICAgICB7CiAgImJ1YmJsaW5nTW91c2VFdmVudHMiOiB0cnVlLAogICJjb2xvciI6ICJibHVlIiwKICAiZGFzaEFycmF5IjogbnVsbCwKICAiZGFzaE9mZnNldCI6IG51bGwsCiAgImZpbGwiOiB0cnVlLAogICJmaWxsQ29sb3IiOiAiIzMxODZjYyIsCiAgImZpbGxPcGFjaXR5IjogMC43LAogICJmaWxsUnVsZSI6ICJldmVub2RkIiwKICAibGluZUNhcCI6ICJyb3VuZCIsCiAgImxpbmVKb2luIjogInJvdW5kIiwKICAib3BhY2l0eSI6IDEuMCwKICAicmFkaXVzIjogNSwKICAic3Ryb2tlIjogdHJ1ZSwKICAid2VpZ2h0IjogMwp9CiAgICAgICAgICAgICAgICApLmFkZFRvKG1hcF8wYjBkNjgxMTUyNDU0YWIzOTYxNTZhZjZmMDFhYzYzNyk7CiAgICAgICAgICAgIAogICAgCiAgICAgICAgICAgIHZhciBwb3B1cF81MjE2ZjlkYzQxNjk0Yzk2OTRkZTI4MmQwZTNhMGQ1MSA9IEwucG9wdXAoe21heFdpZHRoOiAnMzAwJ30pOwoKICAgICAgICAgICAgCiAgICAgICAgICAgICAgICB2YXIgaHRtbF83ZTE2OGZiNDZlNmM0MWQwYWEwYTgwYjAyMjllZWE1NSA9ICQoJzxkaXYgaWQ9Imh0bWxfN2UxNjhmYjQ2ZTZjNDFkMGFhMGE4MGIwMjI5ZWVhNTUiIHN0eWxlPSJ3aWR0aDogMTAwLjAlOyBoZWlnaHQ6IDEwMC4wJTsiPiBCZW5rb3Zza2kgPC9kaXY+JylbMF07CiAgICAgICAgICAgICAgICBwb3B1cF81MjE2ZjlkYzQxNjk0Yzk2OTRkZTI4MmQwZTNhMGQ1MS5zZXRDb250ZW50KGh0bWxfN2UxNjhmYjQ2ZTZjNDFkMGFhMGE4MGIwMjI5ZWVhNTUpOwogICAgICAgICAgICAKCiAgICAgICAgICAgIGNpcmNsZV9tYXJrZXJfZjYyMTNkZGRkMzVhNGE4ODg3NjdjYWE0MWNiNmE3ZWEuYmluZFBvcHVwKHBvcHVwXzUyMTZmOWRjNDE2OTRjOTY5NGRlMjgyZDBlM2EwZDUxKTsKCiAgICAgICAgICAgIAogICAgICAgIAogICAgCiAgICAgICAgICAgIHZhciBjaXJjbGVfbWFya2VyXzdiMDA0ODJiYjIwZTRkOWE4NTU4Njg5MTM0YWMzMWFjID0gTC5jaXJjbGVNYXJrZXIoCiAgICAgICAgICAgICAgICBbNDIuNjY5ODc2MSwyMy4yODYzMzMxXSwKICAgICAgICAgICAgICAgIHsKICAiYnViYmxpbmdNb3VzZUV2ZW50cyI6IHRydWUsCiAgImNvbG9yIjogImJsdWUiLAogICJkYXNoQXJyYXkiOiBudWxsLAogICJkYXNoT2Zmc2V0IjogbnVsbCwKICAiZmlsbCI6IHRydWUsCiAgImZpbGxDb2xvciI6ICIjMzE4NmNjIiwKICAiZmlsbE9wYWNpdHkiOiAwLjcsCiAgImZpbGxSdWxlIjogImV2ZW5vZGQiLAogICJsaW5lQ2FwIjogInJvdW5kIiwKICAibGluZUpvaW4iOiAicm91bmQiLAogICJvcGFjaXR5IjogMS4wLAogICJyYWRpdXMiOiA1LAogICJzdHJva2UiOiB0cnVlLAogICJ3ZWlnaHQiOiAzCn0KICAgICAgICAgICAgICAgICkuYWRkVG8obWFwXzBiMGQ2ODExNTI0NTRhYjM5NjE1NmFmNmYwMWFjNjM3KTsKICAgICAgICAgICAgCiAgICAKICAgICAgICAgICAgdmFyIHBvcHVwXzMyNmM4NDEwMWVlMTQzN2NiMmE1NzRkZjAzOGVjN2QyID0gTC5wb3B1cCh7bWF4V2lkdGg6ICczMDAnfSk7CgogICAgICAgICAgICAKICAgICAgICAgICAgICAgIHZhciBodG1sXzQxYmFkYmFlMTY5MTQ1ODdiMGEyZTFiYmQ1NmRhNDY1ID0gJCgnPGRpdiBpZD0iaHRtbF80MWJhZGJhZTE2OTE0NTg3YjBhMmUxYmJkNTZkYTQ2NSIgc3R5bGU9IndpZHRoOiAxMDAuMCU7IGhlaWdodDogMTAwLjAlOyI+IEJvcm92byA8L2Rpdj4nKVswXTsKICAgICAgICAgICAgICAgIHBvcHVwXzMyNmM4NDEwMWVlMTQzN2NiMmE1NzRkZjAzOGVjN2QyLnNldENvbnRlbnQoaHRtbF80MWJhZGJhZTE2OTE0NTg3YjBhMmUxYmJkNTZkYTQ2NSk7CiAgICAgICAgICAgIAoKICAgICAgICAgICAgY2lyY2xlX21hcmtlcl83YjAwNDgyYmIyMGU0ZDlhODU1ODY4OTEzNGFjMzFhYy5iaW5kUG9wdXAocG9wdXBfMzI2Yzg0MTAxZWUxNDM3Y2IyYTU3NGRmMDM4ZWM3ZDIpOwoKICAgICAgICAgICAgCiAgICAgICAgCiAgICAKICAgICAgICAgICAgdmFyIGNpcmNsZV9tYXJrZXJfYTkwMGZmNTM1NGNhNDk2MjkzZGIzMmQ1NDVkYWZhNTYgPSBMLmNpcmNsZU1hcmtlcigKICAgICAgICAgICAgICAgIFs0Mi43Mzk2NDQxLDIzLjUxMTE4OTJdLAogICAgICAgICAgICAgICAgewogICJidWJibGluZ01vdXNlRXZlbnRzIjogdHJ1ZSwKICAiY29sb3IiOiAiYmx1ZSIsCiAgImRhc2hBcnJheSI6IG51bGwsCiAgImRhc2hPZmZzZXQiOiBudWxsLAogICJmaWxsIjogdHJ1ZSwKICAiZmlsbENvbG9yIjogIiMzMTg2Y2MiLAogICJmaWxsT3BhY2l0eSI6IDAuNywKICAiZmlsbFJ1bGUiOiAiZXZlbm9kZCIsCiAgImxpbmVDYXAiOiAicm91bmQiLAogICJsaW5lSm9pbiI6ICJyb3VuZCIsCiAgIm9wYWNpdHkiOiAxLjAsCiAgInJhZGl1cyI6IDUsCiAgInN0cm9rZSI6IHRydWUsCiAgIndlaWdodCI6IDMKfQogICAgICAgICAgICAgICAgKS5hZGRUbyhtYXBfMGIwZDY4MTE1MjQ1NGFiMzk2MTU2YWY2ZjAxYWM2MzcpOwogICAgICAgICAgICAKICAgIAogICAgICAgICAgICB2YXIgcG9wdXBfMTU5MTdjOWNiMTViNDE2YWFjNzAwODUxZmQ1YTgwMWMgPSBMLnBvcHVwKHttYXhXaWR0aDogJzMwMCd9KTsKCiAgICAgICAgICAgIAogICAgICAgICAgICAgICAgdmFyIGh0bWxfM2I5NWE5ZjkwYzQ4NDgzYmEwN2RlYTk1MTg5ZWI0ZjIgPSAkKCc8ZGl2IGlkPSJodG1sXzNiOTVhOWY5MGM0ODQ4M2JhMDdkZWE5NTE4OWViNGYyIiBzdHlsZT0id2lkdGg6IDEwMC4wJTsgaGVpZ2h0OiAxMDAuMCU7Ij4gQm90dW5ldHMgPC9kaXY+JylbMF07CiAgICAgICAgICAgICAgICBwb3B1cF8xNTkxN2M5Y2IxNWI0MTZhYWM3MDA4NTFmZDVhODAxYy5zZXRDb250ZW50KGh0bWxfM2I5NWE5ZjkwYzQ4NDgzYmEwN2RlYTk1MTg5ZWI0ZjIpOwogICAgICAgICAgICAKCiAgICAgICAgICAgIGNpcmNsZV9tYXJrZXJfYTkwMGZmNTM1NGNhNDk2MjkzZGIzMmQ1NDVkYWZhNTYuYmluZFBvcHVwKHBvcHVwXzE1OTE3YzljYjE1YjQxNmFhYzcwMDg1MWZkNWE4MDFjKTsKCiAgICAgICAgICAgIAogICAgICAgIAogICAgCiAgICAgICAgICAgIHZhciBjaXJjbGVfbWFya2VyX2VlMjhlNjMzODdkZTQxNjFiNGFmOWFjNTUwNmYyNWMxID0gTC5jaXJjbGVNYXJrZXIoCiAgICAgICAgICAgICAgICBbNDIuNjUwNzUzLDIzLjI2NDExMjVdLAogICAgICAgICAgICAgICAgewogICJidWJibGluZ01vdXNlRXZlbnRzIjogdHJ1ZSwKICAiY29sb3IiOiAiYmx1ZSIsCiAgImRhc2hBcnJheSI6IG51bGwsCiAgImRhc2hPZmZzZXQiOiBudWxsLAogICJmaWxsIjogdHJ1ZSwKICAiZmlsbENvbG9yIjogIiMzMTg2Y2MiLAogICJmaWxsT3BhY2l0eSI6IDAuNywKICAiZmlsbFJ1bGUiOiAiZXZlbm9kZCIsCiAgImxpbmVDYXAiOiAicm91bmQiLAogICJsaW5lSm9pbiI6ICJyb3VuZCIsCiAgIm9wYWNpdHkiOiAxLjAsCiAgInJhZGl1cyI6IDUsCiAgInN0cm9rZSI6IHRydWUsCiAgIndlaWdodCI6IDMKfQogICAgICAgICAgICAgICAgKS5hZGRUbyhtYXBfMGIwZDY4MTE1MjQ1NGFiMzk2MTU2YWY2ZjAxYWM2MzcpOwogICAgICAgICAgICAKICAgIAogICAgICAgICAgICB2YXIgcG9wdXBfNWMzYzFhOGYzMGM3NDg3MmI5Mzk2YmEzOTUxMTc3MGQgPSBMLnBvcHVwKHttYXhXaWR0aDogJzMwMCd9KTsKCiAgICAgICAgICAgIAogICAgICAgICAgICAgICAgdmFyIGh0bWxfYzNlNDFhMTNhYzkzNDAyYmI3Nzk2ZDc3Y2FiZjk4NGQgPSAkKCc8ZGl2IGlkPSJodG1sX2MzZTQxYTEzYWM5MzQwMmJiNzc5NmQ3N2NhYmY5ODRkIiBzdHlsZT0id2lkdGg6IDEwMC4wJTsgaGVpZ2h0OiAxMDAuMCU7Ij4gQm95YW5hIDwvZGl2PicpWzBdOwogICAgICAgICAgICAgICAgcG9wdXBfNWMzYzFhOGYzMGM3NDg3MmI5Mzk2YmEzOTUxMTc3MGQuc2V0Q29udGVudChodG1sX2MzZTQxYTEzYWM5MzQwMmJiNzc5NmQ3N2NhYmY5ODRkKTsKICAgICAgICAgICAgCgogICAgICAgICAgICBjaXJjbGVfbWFya2VyX2VlMjhlNjMzODdkZTQxNjFiNGFmOWFjNTUwNmYyNWMxLmJpbmRQb3B1cChwb3B1cF81YzNjMWE4ZjMwYzc0ODcyYjkzOTZiYTM5NTExNzcwZCk7CgogICAgICAgICAgICAKICAgICAgICAKICAgIAogICAgICAgICAgICB2YXIgY2lyY2xlX21hcmtlcl82NTk3NGRhYWNhMzE0MTY0OGFkMTFjMzNkOTE2ZmExYyA9IEwuY2lyY2xlTWFya2VyKAogICAgICAgICAgICAgICAgWzQyLjczNTY5MTEwMDAwMDAwNCwyMy40NjEwNDgxMDAwMDAwMDNdLAogICAgICAgICAgICAgICAgewogICJidWJibGluZ01vdXNlRXZlbnRzIjogdHJ1ZSwKICAiY29sb3IiOiAiYmx1ZSIsCiAgImRhc2hBcnJheSI6IG51bGwsCiAgImRhc2hPZmZzZXQiOiBudWxsLAogICJmaWxsIjogdHJ1ZSwKICAiZmlsbENvbG9yIjogIiMzMTg2Y2MiLAogICJmaWxsT3BhY2l0eSI6IDAuNywKICAiZmlsbFJ1bGUiOiAiZXZlbm9kZCIsCiAgImxpbmVDYXAiOiAicm91bmQiLAogICJsaW5lSm9pbiI6ICJyb3VuZCIsCiAgIm9wYWNpdHkiOiAxLjAsCiAgInJhZGl1cyI6IDUsCiAgInN0cm9rZSI6IHRydWUsCiAgIndlaWdodCI6IDMKfQogICAgICAgICAgICAgICAgKS5hZGRUbyhtYXBfMGIwZDY4MTE1MjQ1NGFiMzk2MTU2YWY2ZjAxYWM2MzcpOwogICAgICAgICAgICAKICAgIAogICAgICAgICAgICB2YXIgcG9wdXBfMWViYjgwZWUzYjVhNDY0MGEyMTliMmEwMzJhMzIwMjkgPSBMLnBvcHVwKHttYXhXaWR0aDogJzMwMCd9KTsKCiAgICAgICAgICAgIAogICAgICAgICAgICAgICAgdmFyIGh0bWxfNTU0ZTRhY2NkOTZlNGJjZjljZWYzZjM2YTE3MWU0ZTEgPSAkKCc8ZGl2IGlkPSJodG1sXzU1NGU0YWNjZDk2ZTRiY2Y5Y2VmM2YzNmExNzFlNGUxIiBzdHlsZT0id2lkdGg6IDEwMC4wJTsgaGVpZ2h0OiAxMDAuMCU7Ij4gQ2hlbG9wZWNoZW5lIDwvZGl2PicpWzBdOwogICAgICAgICAgICAgICAgcG9wdXBfMWViYjgwZWUzYjVhNDY0MGEyMTliMmEwMzJhMzIwMjkuc2V0Q29udGVudChodG1sXzU1NGU0YWNjZDk2ZTRiY2Y5Y2VmM2YzNmExNzFlNGUxKTsKICAgICAgICAgICAgCgogICAgICAgICAgICBjaXJjbGVfbWFya2VyXzY1OTc0ZGFhY2EzMTQxNjQ4YWQxMWMzM2Q5MTZmYTFjLmJpbmRQb3B1cChwb3B1cF8xZWJiODBlZTNiNWE0NjQwYTIxOWIyYTAzMmEzMjAyOSk7CgogICAgICAgICAgICAKICAgICAgICAKICAgIAogICAgICAgICAgICB2YXIgY2lyY2xlX21hcmtlcl80MmIyMmQ2NTAwM2E0ZDU0YTk3OWE3YjkyZmZlOWZjNyA9IEwuY2lyY2xlTWFya2VyKAogICAgICAgICAgICAgICAgWzQyLjY1Mzk4NDEsMjMuMzYzMDA4NV0sCiAgICAgICAgICAgICAgICB7CiAgImJ1YmJsaW5nTW91c2VFdmVudHMiOiB0cnVlLAogICJjb2xvciI6ICJibHVlIiwKICAiZGFzaEFycmF5IjogbnVsbCwKICAiZGFzaE9mZnNldCI6IG51bGwsCiAgImZpbGwiOiB0cnVlLAogICJmaWxsQ29sb3IiOiAiIzMxODZjYyIsCiAgImZpbGxPcGFjaXR5IjogMC43LAogICJmaWxsUnVsZSI6ICJldmVub2RkIiwKICAibGluZUNhcCI6ICJyb3VuZCIsCiAgImxpbmVKb2luIjogInJvdW5kIiwKICAib3BhY2l0eSI6IDEuMCwKICAicmFkaXVzIjogNSwKICAic3Ryb2tlIjogdHJ1ZSwKICAid2VpZ2h0IjogMwp9CiAgICAgICAgICAgICAgICApLmFkZFRvKG1hcF8wYjBkNjgxMTUyNDU0YWIzOTYxNTZhZjZmMDFhYzYzNyk7CiAgICAgICAgICAgIAogICAgCiAgICAgICAgICAgIHZhciBwb3B1cF82YWI4YTdlNGRmMTI0NWIzYmU1MTA4NGM2NTFjNGJhMCA9IEwucG9wdXAoe21heFdpZHRoOiAnMzAwJ30pOwoKICAgICAgICAgICAgCiAgICAgICAgICAgICAgICB2YXIgaHRtbF85ZDhjY2U3NTIwYzI0ZDNjOGRiY2U1NjA2NjMwYWU4MCA9ICQoJzxkaXYgaWQ9Imh0bWxfOWQ4Y2NlNzUyMGMyNGQzYzhkYmNlNTYwNjYzMGFlODAiIHN0eWxlPSJ3aWR0aDogMTAwLjAlOyBoZWlnaHQ6IDEwMC4wJTsiPiBEYXJ2ZW5pdHNhIDwvZGl2PicpWzBdOwogICAgICAgICAgICAgICAgcG9wdXBfNmFiOGE3ZTRkZjEyNDViM2JlNTEwODRjNjUxYzRiYTAuc2V0Q29udGVudChodG1sXzlkOGNjZTc1MjBjMjRkM2M4ZGJjZTU2MDY2MzBhZTgwKTsKICAgICAgICAgICAgCgogICAgICAgICAgICBjaXJjbGVfbWFya2VyXzQyYjIyZDY1MDAzYTRkNTRhOTc5YTdiOTJmZmU5ZmM3LmJpbmRQb3B1cChwb3B1cF82YWI4YTdlNGRmMTI0NWIzYmU1MTA4NGM2NTFjNGJhMCk7CgogICAgICAgICAgICAKICAgICAgICAKICAgIAogICAgICAgICAgICB2YXIgY2lyY2xlX21hcmtlcl9iMTFlYmU1YTg1ODA0OTUzOTdmOTY3Mjc2OTM4NzUwNiA9IEwuY2lyY2xlTWFya2VyKAogICAgICAgICAgICAgICAgWzQyLjY2MzEzOTMsMjMuMzQ2MDQwN10sCiAgICAgICAgICAgICAgICB7CiAgImJ1YmJsaW5nTW91c2VFdmVudHMiOiB0cnVlLAogICJjb2xvciI6ICJibHVlIiwKICAiZGFzaEFycmF5IjogbnVsbCwKICAiZGFzaE9mZnNldCI6IG51bGwsCiAgImZpbGwiOiB0cnVlLAogICJmaWxsQ29sb3IiOiAiIzMxODZjYyIsCiAgImZpbGxPcGFjaXR5IjogMC43LAogICJmaWxsUnVsZSI6ICJldmVub2RkIiwKICAibGluZUNhcCI6ICJyb3VuZCIsCiAgImxpbmVKb2luIjogInJvdW5kIiwKICAib3BhY2l0eSI6IDEuMCwKICAicmFkaXVzIjogNSwKICAic3Ryb2tlIjogdHJ1ZSwKICAid2VpZ2h0IjogMwp9CiAgICAgICAgICAgICAgICApLmFkZFRvKG1hcF8wYjBkNjgxMTUyNDU0YWIzOTYxNTZhZjZmMDFhYzYzNyk7CiAgICAgICAgICAgIAogICAgCiAgICAgICAgICAgIHZhciBwb3B1cF81MGNjOGRiODM4Y2Q0ZWRhOTc1ODVkZDdlMjQyYjVlMSA9IEwucG9wdXAoe21heFdpZHRoOiAnMzAwJ30pOwoKICAgICAgICAgICAgCiAgICAgICAgICAgICAgICB2YXIgaHRtbF85MjFjY2M5YjkwZDc0MmRhYmViOTY3YzBlNjI3YTY1NCA9ICQoJzxkaXYgaWQ9Imh0bWxfOTIxY2NjOWI5MGQ3NDJkYWJlYjk2N2MwZTYyN2E2NTQiIHN0eWxlPSJ3aWR0aDogMTAwLjAlOyBoZWlnaHQ6IDEwMC4wJTsiPiBEaWFuYWJhZCA8L2Rpdj4nKVswXTsKICAgICAgICAgICAgICAgIHBvcHVwXzUwY2M4ZGI4MzhjZDRlZGE5NzU4NWRkN2UyNDJiNWUxLnNldENvbnRlbnQoaHRtbF85MjFjY2M5YjkwZDc0MmRhYmViOTY3YzBlNjI3YTY1NCk7CiAgICAgICAgICAgIAoKICAgICAgICAgICAgY2lyY2xlX21hcmtlcl9iMTFlYmU1YTg1ODA0OTUzOTdmOTY3Mjc2OTM4NzUwNi5iaW5kUG9wdXAocG9wdXBfNTBjYzhkYjgzOGNkNGVkYTk3NTg1ZGQ3ZTI0MmI1ZTEpOwoKICAgICAgICAgICAgCiAgICAgICAgCiAgICAKICAgICAgICAgICAgdmFyIGNpcmNsZV9tYXJrZXJfYTFkMjRiZGIxYjBmNGI4YmExZDFmNTQ3ZjA5NWEyNWYgPSBMLmNpcmNsZU1hcmtlcigKICAgICAgICAgICAgICAgIFs0Mi42MTcwMzExLDIzLjMzNTgxOTJdLAogICAgICAgICAgICAgICAgewogICJidWJibGluZ01vdXNlRXZlbnRzIjogdHJ1ZSwKICAiY29sb3IiOiAiYmx1ZSIsCiAgImRhc2hBcnJheSI6IG51bGwsCiAgImRhc2hPZmZzZXQiOiBudWxsLAogICJmaWxsIjogdHJ1ZSwKICAiZmlsbENvbG9yIjogIiMzMTg2Y2MiLAogICJmaWxsT3BhY2l0eSI6IDAuNywKICAiZmlsbFJ1bGUiOiAiZXZlbm9kZCIsCiAgImxpbmVDYXAiOiAicm91bmQiLAogICJsaW5lSm9pbiI6ICJyb3VuZCIsCiAgIm9wYWNpdHkiOiAxLjAsCiAgInJhZGl1cyI6IDUsCiAgInN0cm9rZSI6IHRydWUsCiAgIndlaWdodCI6IDMKfQogICAgICAgICAgICAgICAgKS5hZGRUbyhtYXBfMGIwZDY4MTE1MjQ1NGFiMzk2MTU2YWY2ZjAxYWM2MzcpOwogICAgICAgICAgICAKICAgIAogICAgICAgICAgICB2YXIgcG9wdXBfZTM3ZTliOTM3ZDI0NGRjMGJlOWIyMDUzY2Q2NDExOGYgPSBMLnBvcHVwKHttYXhXaWR0aDogJzMwMCd9KTsKCiAgICAgICAgICAgIAogICAgICAgICAgICAgICAgdmFyIGh0bWxfMThlN2U3YWQzNmUyNDE0MGEzZDMzZjk4YmM4YTkxOWQgPSAkKCc8ZGl2IGlkPSJodG1sXzE4ZTdlN2FkMzZlMjQxNDBhM2QzM2Y5OGJjOGE5MTlkIiBzdHlsZT0id2lkdGg6IDEwMC4wJTsgaGVpZ2h0OiAxMDAuMCU7Ij4gRHJhZ2FsZXZ0c2kgPC9kaXY+JylbMF07CiAgICAgICAgICAgICAgICBwb3B1cF9lMzdlOWI5MzdkMjQ0ZGMwYmU5YjIwNTNjZDY0MTE4Zi5zZXRDb250ZW50KGh0bWxfMThlN2U3YWQzNmUyNDE0MGEzZDMzZjk4YmM4YTkxOWQpOwogICAgICAgICAgICAKCiAgICAgICAgICAgIGNpcmNsZV9tYXJrZXJfYTFkMjRiZGIxYjBmNGI4YmExZDFmNTQ3ZjA5NWEyNWYuYmluZFBvcHVwKHBvcHVwX2UzN2U5YjkzN2QyNDRkYzBiZTliMjA1M2NkNjQxMThmKTsKCiAgICAgICAgICAgIAogICAgICAgIAogICAgCiAgICAgICAgICAgIHZhciBjaXJjbGVfbWFya2VyXzI1OTVmMmI4Y2Y2MjRkNWI4ZDNhYmVmY2VkMWM4MGRjID0gTC5jaXJjbGVNYXJrZXIoCiAgICAgICAgICAgICAgICBbNDIuNjY3OTkxNiwyMy4zOTU0ODQ5XSwKICAgICAgICAgICAgICAgIHsKICAiYnViYmxpbmdNb3VzZUV2ZW50cyI6IHRydWUsCiAgImNvbG9yIjogImJsdWUiLAogICJkYXNoQXJyYXkiOiBudWxsLAogICJkYXNoT2Zmc2V0IjogbnVsbCwKICAiZmlsbCI6IHRydWUsCiAgImZpbGxDb2xvciI6ICIjMzE4NmNjIiwKICAiZmlsbE9wYWNpdHkiOiAwLjcsCiAgImZpbGxSdWxlIjogImV2ZW5vZGQiLAogICJsaW5lQ2FwIjogInJvdW5kIiwKICAibGluZUpvaW4iOiAicm91bmQiLAogICJvcGFjaXR5IjogMS4wLAogICJyYWRpdXMiOiA1LAogICJzdHJva2UiOiB0cnVlLAogICJ3ZWlnaHQiOiAzCn0KICAgICAgICAgICAgICAgICkuYWRkVG8obWFwXzBiMGQ2ODExNTI0NTRhYjM5NjE1NmFmNmYwMWFjNjM3KTsKICAgICAgICAgICAgCiAgICAKICAgICAgICAgICAgdmFyIHBvcHVwXzVmZTMyYmZmMWQzYjQ4OWQ5N2ZiMjFmOTJjOGM3ZjJkID0gTC5wb3B1cCh7bWF4V2lkdGg6ICczMDAnfSk7CgogICAgICAgICAgICAKICAgICAgICAgICAgICAgIHZhciBodG1sXzk1OGNkYTM0OGQ3MjRhZTdiMWE0ZTQxMmU4OWM3MTIyID0gJCgnPGRpdiBpZD0iaHRtbF85NThjZGEzNDhkNzI0YWU3YjFhNGU0MTJlODljNzEyMiIgc3R5bGU9IndpZHRoOiAxMDAuMCU7IGhlaWdodDogMTAwLjAlOyI+IERydWpiYSAxIDwvZGl2PicpWzBdOwogICAgICAgICAgICAgICAgcG9wdXBfNWZlMzJiZmYxZDNiNDg5ZDk3ZmIyMWY5MmM4YzdmMmQuc2V0Q29udGVudChodG1sXzk1OGNkYTM0OGQ3MjRhZTdiMWE0ZTQxMmU4OWM3MTIyKTsKICAgICAgICAgICAgCgogICAgICAgICAgICBjaXJjbGVfbWFya2VyXzI1OTVmMmI4Y2Y2MjRkNWI4ZDNhYmVmY2VkMWM4MGRjLmJpbmRQb3B1cChwb3B1cF81ZmUzMmJmZjFkM2I0ODlkOTdmYjIxZjkyYzhjN2YyZCk7CgogICAgICAgICAgICAKICAgICAgICAKICAgIAogICAgICAgICAgICB2YXIgY2lyY2xlX21hcmtlcl9kYzNhMmNmNDAyZTQ0MzYzYjNlNTllMjFmMTIyZGFiOSA9IEwuY2lyY2xlTWFya2VyKAogICAgICAgICAgICAgICAgWzQyLjY0ODYwMTUsMjMuNDAzOTA5Njk5OTk5OTk2XSwKICAgICAgICAgICAgICAgIHsKICAiYnViYmxpbmdNb3VzZUV2ZW50cyI6IHRydWUsCiAgImNvbG9yIjogImJsdWUiLAogICJkYXNoQXJyYXkiOiBudWxsLAogICJkYXNoT2Zmc2V0IjogbnVsbCwKICAiZmlsbCI6IHRydWUsCiAgImZpbGxDb2xvciI6ICIjMzE4NmNjIiwKICAiZmlsbE9wYWNpdHkiOiAwLjcsCiAgImZpbGxSdWxlIjogImV2ZW5vZGQiLAogICJsaW5lQ2FwIjogInJvdW5kIiwKICAibGluZUpvaW4iOiAicm91bmQiLAogICJvcGFjaXR5IjogMS4wLAogICJyYWRpdXMiOiA1LAogICJzdHJva2UiOiB0cnVlLAogICJ3ZWlnaHQiOiAzCn0KICAgICAgICAgICAgICAgICkuYWRkVG8obWFwXzBiMGQ2ODExNTI0NTRhYjM5NjE1NmFmNmYwMWFjNjM3KTsKICAgICAgICAgICAgCiAgICAKICAgICAgICAgICAgdmFyIHBvcHVwX2MyYjc4YjE0YzVkNjQ4ODY4ZjEyMzFhOWFhOGQ5NzVkID0gTC5wb3B1cCh7bWF4V2lkdGg6ICczMDAnfSk7CgogICAgICAgICAgICAKICAgICAgICAgICAgICAgIHZhciBodG1sXzJlMmMzMDYxMjNkODQ2NGRiYjI0YjNiOTk5ODA1MzE3ID0gJCgnPGRpdiBpZD0iaHRtbF8yZTJjMzA2MTIzZDg0NjRkYmIyNGIzYjk5OTgwNTMxNyIgc3R5bGU9IndpZHRoOiAxMDAuMCU7IGhlaWdodDogMTAwLjAlOyI+IERydWpiYSAyIDwvZGl2PicpWzBdOwogICAgICAgICAgICAgICAgcG9wdXBfYzJiNzhiMTRjNWQ2NDg4NjhmMTIzMWE5YWE4ZDk3NWQuc2V0Q29udGVudChodG1sXzJlMmMzMDYxMjNkODQ2NGRiYjI0YjNiOTk5ODA1MzE3KTsKICAgICAgICAgICAgCgogICAgICAgICAgICBjaXJjbGVfbWFya2VyX2RjM2EyY2Y0MDJlNDQzNjNiM2U1OWUyMWYxMjJkYWI5LmJpbmRQb3B1cChwb3B1cF9jMmI3OGIxNGM1ZDY0ODg2OGYxMjMxYTlhYThkOTc1ZCk7CgogICAgICAgICAgICAKICAgICAgICAKICAgIAogICAgICAgICAgICB2YXIgY2lyY2xlX21hcmtlcl80OGVmZTljNzQ0YmU0ZTU5OWYzNTBjYzQ4NDBkNDY5NCA9IEwuY2lyY2xlTWFya2VyKAogICAgICAgICAgICAgICAgWzQyLjY5Mzc1OTg5OTk5OTk5NiwyMy4yNjgyNjQ4XSwKICAgICAgICAgICAgICAgIHsKICAiYnViYmxpbmdNb3VzZUV2ZW50cyI6IHRydWUsCiAgImNvbG9yIjogImJsdWUiLAogICJkYXNoQXJyYXkiOiBudWxsLAogICJkYXNoT2Zmc2V0IjogbnVsbCwKICAiZmlsbCI6IHRydWUsCiAgImZpbGxDb2xvciI6ICIjMzE4NmNjIiwKICAiZmlsbE9wYWNpdHkiOiAwLjcsCiAgImZpbGxSdWxlIjogImV2ZW5vZGQiLAogICJsaW5lQ2FwIjogInJvdW5kIiwKICAibGluZUpvaW4iOiAicm91bmQiLAogICJvcGFjaXR5IjogMS4wLAogICJyYWRpdXMiOiA1LAogICJzdHJva2UiOiB0cnVlLAogICJ3ZWlnaHQiOiAzCn0KICAgICAgICAgICAgICAgICkuYWRkVG8obWFwXzBiMGQ2ODExNTI0NTRhYjM5NjE1NmFmNmYwMWFjNjM3KTsKICAgICAgICAgICAgCiAgICAKICAgICAgICAgICAgdmFyIHBvcHVwX2NkYWFlOTczZDA4YzQzMTk5YTdkNDMxMmI1MmM4NTY4ID0gTC5wb3B1cCh7bWF4V2lkdGg6ICczMDAnfSk7CgogICAgICAgICAgICAKICAgICAgICAgICAgICAgIHZhciBodG1sXzA5YThmNzAxODdhMTRmMGE4ODlhNWEzMjkzZjdmYThhID0gJCgnPGRpdiBpZD0iaHRtbF8wOWE4ZjcwMTg3YTE0ZjBhODg5YTVhMzI5M2Y3ZmE4YSIgc3R5bGU9IndpZHRoOiAxMDAuMCU7IGhlaWdodDogMTAwLjAlOyI+IEZha3VsdGV0YSA8L2Rpdj4nKVswXTsKICAgICAgICAgICAgICAgIHBvcHVwX2NkYWFlOTczZDA4YzQzMTk5YTdkNDMxMmI1MmM4NTY4LnNldENvbnRlbnQoaHRtbF8wOWE4ZjcwMTg3YTE0ZjBhODg5YTVhMzI5M2Y3ZmE4YSk7CiAgICAgICAgICAgIAoKICAgICAgICAgICAgY2lyY2xlX21hcmtlcl80OGVmZTljNzQ0YmU0ZTU5OWYzNTBjYzQ4NDBkNDY5NC5iaW5kUG9wdXAocG9wdXBfY2RhYWU5NzNkMDhjNDMxOTlhN2Q0MzEyYjUyYzg1NjgpOwoKICAgICAgICAgICAgCiAgICAgICAgCiAgICAKICAgICAgICAgICAgdmFyIGNpcmNsZV9tYXJrZXJfN2NkN2RmNjVhNWMzNGYzMmI2MjU0MWNhOGZjM2JlNmQgPSBMLmNpcmNsZU1hcmtlcigKICAgICAgICAgICAgICAgIFs0Mi43MjA1MzE1LDIzLjIyMjUyMDhdLAogICAgICAgICAgICAgICAgewogICJidWJibGluZ01vdXNlRXZlbnRzIjogdHJ1ZSwKICAiY29sb3IiOiAiYmx1ZSIsCiAgImRhc2hBcnJheSI6IG51bGwsCiAgImRhc2hPZmZzZXQiOiBudWxsLAogICJmaWxsIjogdHJ1ZSwKICAiZmlsbENvbG9yIjogIiMzMTg2Y2MiLAogICJmaWxsT3BhY2l0eSI6IDAuNywKICAiZmlsbFJ1bGUiOiAiZXZlbm9kZCIsCiAgImxpbmVDYXAiOiAicm91bmQiLAogICJsaW5lSm9pbiI6ICJyb3VuZCIsCiAgIm9wYWNpdHkiOiAxLjAsCiAgInJhZGl1cyI6IDUsCiAgInN0cm9rZSI6IHRydWUsCiAgIndlaWdodCI6IDMKfQogICAgICAgICAgICAgICAgKS5hZGRUbyhtYXBfMGIwZDY4MTE1MjQ1NGFiMzk2MTU2YWY2ZjAxYWM2MzcpOwogICAgICAgICAgICAKICAgIAogICAgICAgICAgICB2YXIgcG9wdXBfYzMyMDE1OGViYWMzNGIyMzgwNzMyYWMyNDYwN2U4ZWMgPSBMLnBvcHVwKHttYXhXaWR0aDogJzMwMCd9KTsKCiAgICAgICAgICAgIAogICAgICAgICAgICAgICAgdmFyIGh0bWxfZTc1ZjU2ZjY2YTI0NGI3NDg0YjY1NTQ4N2Y2YTlhNDIgPSAkKCc8ZGl2IGlkPSJodG1sX2U3NWY1NmY2NmEyNDRiNzQ4NGI2NTU0ODdmNmE5YTQyIiBzdHlsZT0id2lkdGg6IDEwMC4wJTsgaGVpZ2h0OiAxMDAuMCU7Ij4gRmlsaXBvdnRzaSA8L2Rpdj4nKVswXTsKICAgICAgICAgICAgICAgIHBvcHVwX2MzMjAxNThlYmFjMzRiMjM4MDczMmFjMjQ2MDdlOGVjLnNldENvbnRlbnQoaHRtbF9lNzVmNTZmNjZhMjQ0Yjc0ODRiNjU1NDg3ZjZhOWE0Mik7CiAgICAgICAgICAgIAoKICAgICAgICAgICAgY2lyY2xlX21hcmtlcl83Y2Q3ZGY2NWE1YzM0ZjMyYjYyNTQxY2E4ZmMzYmU2ZC5iaW5kUG9wdXAocG9wdXBfYzMyMDE1OGViYWMzNGIyMzgwNzMyYWMyNDYwN2U4ZWMpOwoKICAgICAgICAgICAgCiAgICAgICAgCiAgICAKICAgICAgICAgICAgdmFyIGNpcmNsZV9tYXJrZXJfNjY1MWU3ZTAyZGFhNGVjYmJiNGMyNjRkNTQ0ZjcwMmIgPSBMLmNpcmNsZU1hcmtlcigKICAgICAgICAgICAgICAgIFs0Mi42ODE1NDkxMDAwMDAwMDUsMjMuMzYwNDQ1MDAwMDAwMDAyXSwKICAgICAgICAgICAgICAgIHsKICAiYnViYmxpbmdNb3VzZUV2ZW50cyI6IHRydWUsCiAgImNvbG9yIjogImJsdWUiLAogICJkYXNoQXJyYXkiOiBudWxsLAogICJkYXNoT2Zmc2V0IjogbnVsbCwKICAiZmlsbCI6IHRydWUsCiAgImZpbGxDb2xvciI6ICIjMzE4NmNjIiwKICAiZmlsbE9wYWNpdHkiOiAwLjcsCiAgImZpbGxSdWxlIjogImV2ZW5vZGQiLAogICJsaW5lQ2FwIjogInJvdW5kIiwKICAibGluZUpvaW4iOiAicm91bmQiLAogICJvcGFjaXR5IjogMS4wLAogICJyYWRpdXMiOiA1LAogICJzdHJva2UiOiB0cnVlLAogICJ3ZWlnaHQiOiAzCn0KICAgICAgICAgICAgICAgICkuYWRkVG8obWFwXzBiMGQ2ODExNTI0NTRhYjM5NjE1NmFmNmYwMWFjNjM3KTsKICAgICAgICAgICAgCiAgICAKICAgICAgICAgICAgdmFyIHBvcHVwXzU1OTFjZmUwOGMyMjRkODI5MDRjMmMyNDYwNDRmZjMwID0gTC5wb3B1cCh7bWF4V2lkdGg6ICczMDAnfSk7CgogICAgICAgICAgICAKICAgICAgICAgICAgICAgIHZhciBodG1sXzE1YzJiYmQ4OTE5ZjQ0NDhhMmUzZjM2ZWI1OWY0NTBjID0gJCgnPGRpdiBpZD0iaHRtbF8xNWMyYmJkODkxOWY0NDQ4YTJlM2YzNmViNTlmNDUwYyIgc3R5bGU9IndpZHRoOiAxMDAuMCU7IGhlaWdodDogMTAwLjAlOyI+IEdlbyBNaWxldiA8L2Rpdj4nKVswXTsKICAgICAgICAgICAgICAgIHBvcHVwXzU1OTFjZmUwOGMyMjRkODI5MDRjMmMyNDYwNDRmZjMwLnNldENvbnRlbnQoaHRtbF8xNWMyYmJkODkxOWY0NDQ4YTJlM2YzNmViNTlmNDUwYyk7CiAgICAgICAgICAgIAoKICAgICAgICAgICAgY2lyY2xlX21hcmtlcl82NjUxZTdlMDJkYWE0ZWNiYmI0YzI2NGQ1NDRmNzAyYi5iaW5kUG9wdXAocG9wdXBfNTU5MWNmZTA4YzIyNGQ4MjkwNGMyYzI0NjA0NGZmMzApOwoKICAgICAgICAgICAgCiAgICAgICAgCiAgICAKICAgICAgICAgICAgdmFyIGNpcmNsZV9tYXJrZXJfZDZjNjlmYmE1YjMyNGJiOTk1YzAxYzg5MjhiYjEwNDIgPSBMLmNpcmNsZU1hcmtlcigKICAgICAgICAgICAgICAgIFs0Mi42NzY2MDksMjMuMjM0MzIxNl0sCiAgICAgICAgICAgICAgICB7CiAgImJ1YmJsaW5nTW91c2VFdmVudHMiOiB0cnVlLAogICJjb2xvciI6ICJibHVlIiwKICAiZGFzaEFycmF5IjogbnVsbCwKICAiZGFzaE9mZnNldCI6IG51bGwsCiAgImZpbGwiOiB0cnVlLAogICJmaWxsQ29sb3IiOiAiIzMxODZjYyIsCiAgImZpbGxPcGFjaXR5IjogMC43LAogICJmaWxsUnVsZSI6ICJldmVub2RkIiwKICAibGluZUNhcCI6ICJyb3VuZCIsCiAgImxpbmVKb2luIjogInJvdW5kIiwKICAib3BhY2l0eSI6IDEuMCwKICAicmFkaXVzIjogNSwKICAic3Ryb2tlIjogdHJ1ZSwKICAid2VpZ2h0IjogMwp9CiAgICAgICAgICAgICAgICApLmFkZFRvKG1hcF8wYjBkNjgxMTUyNDU0YWIzOTYxNTZhZjZmMDFhYzYzNyk7CiAgICAgICAgICAgIAogICAgCiAgICAgICAgICAgIHZhciBwb3B1cF80MTBhZjMwMmI0ODg0NjUzYTJhYzdjZTc3MWQ2MWFkYSA9IEwucG9wdXAoe21heFdpZHRoOiAnMzAwJ30pOwoKICAgICAgICAgICAgCiAgICAgICAgICAgICAgICB2YXIgaHRtbF82ODQwZmFlZjhlMWU0MjRkYTM0MzkwZTFhMDRkYjAyMiA9ICQoJzxkaXYgaWQ9Imh0bWxfNjg0MGZhZWY4ZTFlNDI0ZGEzNDM5MGUxYTA0ZGIwMjIiIHN0eWxlPSJ3aWR0aDogMTAwLjAlOyBoZWlnaHQ6IDEwMC4wJTsiPiBHb3JuYSBCYW55YSA8L2Rpdj4nKVswXTsKICAgICAgICAgICAgICAgIHBvcHVwXzQxMGFmMzAyYjQ4ODQ2NTNhMmFjN2NlNzcxZDYxYWRhLnNldENvbnRlbnQoaHRtbF82ODQwZmFlZjhlMWU0MjRkYTM0MzkwZTFhMDRkYjAyMik7CiAgICAgICAgICAgIAoKICAgICAgICAgICAgY2lyY2xlX21hcmtlcl9kNmM2OWZiYTViMzI0YmI5OTVjMDFjODkyOGJiMTA0Mi5iaW5kUG9wdXAocG9wdXBfNDEwYWYzMDJiNDg4NDY1M2EyYWM3Y2U3NzFkNjFhZGEpOwoKICAgICAgICAgICAgCiAgICAgICAgCiAgICAKICAgICAgICAgICAgdmFyIGNpcmNsZV9tYXJrZXJfZWExNTMxNGZmZTgxNDA5NmFhYzU5N2I5NjE3MTBmNGUgPSBMLmNpcmNsZU1hcmtlcigKICAgICAgICAgICAgICAgIFs0Mi42MzAzNzExLDIzLjQwNjgzOTM5OTk5OTk5Nl0sCiAgICAgICAgICAgICAgICB7CiAgImJ1YmJsaW5nTW91c2VFdmVudHMiOiB0cnVlLAogICJjb2xvciI6ICJibHVlIiwKICAiZGFzaEFycmF5IjogbnVsbCwKICAiZGFzaE9mZnNldCI6IG51bGwsCiAgImZpbGwiOiB0cnVlLAogICJmaWxsQ29sb3IiOiAiIzMxODZjYyIsCiAgImZpbGxPcGFjaXR5IjogMC43LAogICJmaWxsUnVsZSI6ICJldmVub2RkIiwKICAibGluZUNhcCI6ICJyb3VuZCIsCiAgImxpbmVKb2luIjogInJvdW5kIiwKICAib3BhY2l0eSI6IDEuMCwKICAicmFkaXVzIjogNSwKICAic3Ryb2tlIjogdHJ1ZSwKICAid2VpZ2h0IjogMwp9CiAgICAgICAgICAgICAgICApLmFkZFRvKG1hcF8wYjBkNjgxMTUyNDU0YWIzOTYxNTZhZjZmMDFhYzYzNyk7CiAgICAgICAgICAgIAogICAgCiAgICAgICAgICAgIHZhciBwb3B1cF80YTQ3ZTllNjBkNGU0MmZlOWQ2MzljZmYzNzAwYTEwZSA9IEwucG9wdXAoe21heFdpZHRoOiAnMzAwJ30pOwoKICAgICAgICAgICAgCiAgICAgICAgICAgICAgICB2YXIgaHRtbF9mYWUxODYyNjg3YTQ0MjZhODU2NjE2MzAxNDI2NGJmMSA9ICQoJzxkaXYgaWQ9Imh0bWxfZmFlMTg2MjY4N2E0NDI2YTg1NjYxNjMwMTQyNjRiZjEiIHN0eWxlPSJ3aWR0aDogMTAwLjAlOyBoZWlnaHQ6IDEwMC4wJTsiPiBHb3J1Ymx5YW5lIDwvZGl2PicpWzBdOwogICAgICAgICAgICAgICAgcG9wdXBfNGE0N2U5ZTYwZDRlNDJmZTlkNjM5Y2ZmMzcwMGExMGUuc2V0Q29udGVudChodG1sX2ZhZTE4NjI2ODdhNDQyNmE4NTY2MTYzMDE0MjY0YmYxKTsKICAgICAgICAgICAgCgogICAgICAgICAgICBjaXJjbGVfbWFya2VyX2VhMTUzMTRmZmU4MTQwOTZhYWM1OTdiOTYxNzEwZjRlLmJpbmRQb3B1cChwb3B1cF80YTQ3ZTllNjBkNGU0MmZlOWQ2MzljZmYzNzAwYTEwZSk7CgogICAgICAgICAgICAKICAgICAgICAKICAgIAogICAgICAgICAgICB2YXIgY2lyY2xlX21hcmtlcl84NWQxMTc0YWNhZTg0ZjJlODIxZTgyZDc3OWFlYTM2MCA9IEwuY2lyY2xlTWFya2VyKAogICAgICAgICAgICAgICAgWzQyLjY2MjIzOTEsMjMuMjk5NjQwN10sCiAgICAgICAgICAgICAgICB7CiAgImJ1YmJsaW5nTW91c2VFdmVudHMiOiB0cnVlLAogICJjb2xvciI6ICJibHVlIiwKICAiZGFzaEFycmF5IjogbnVsbCwKICAiZGFzaE9mZnNldCI6IG51bGwsCiAgImZpbGwiOiB0cnVlLAogICJmaWxsQ29sb3IiOiAiIzMxODZjYyIsCiAgImZpbGxPcGFjaXR5IjogMC43LAogICJmaWxsUnVsZSI6ICJldmVub2RkIiwKICAibGluZUNhcCI6ICJyb3VuZCIsCiAgImxpbmVKb2luIjogInJvdW5kIiwKICAib3BhY2l0eSI6IDEuMCwKICAicmFkaXVzIjogNSwKICAic3Ryb2tlIjogdHJ1ZSwKICAid2VpZ2h0IjogMwp9CiAgICAgICAgICAgICAgICApLmFkZFRvKG1hcF8wYjBkNjgxMTUyNDU0YWIzOTYxNTZhZjZmMDFhYzYzNyk7CiAgICAgICAgICAgIAogICAgCiAgICAgICAgICAgIHZhciBwb3B1cF9lYzY2NTU1MGYxZWY0NDY2OWEwNGY5NjE1NDUyMzVhOCA9IEwucG9wdXAoe21heFdpZHRoOiAnMzAwJ30pOwoKICAgICAgICAgICAgCiAgICAgICAgICAgICAgICB2YXIgaHRtbF85YmJmMzQzNTIzZTQ0ZTA2YjAwN2Y0ZjNmMTIwNmM0ZSA9ICQoJzxkaXYgaWQ9Imh0bWxfOWJiZjM0MzUyM2U0NGUwNmIwMDdmNGYzZjEyMDZjNGUiIHN0eWxlPSJ3aWR0aDogMTAwLjAlOyBoZWlnaHQ6IDEwMC4wJTsiPiBHb3RzZSBEZWxjaGV2IDwvZGl2PicpWzBdOwogICAgICAgICAgICAgICAgcG9wdXBfZWM2NjU1NTBmMWVmNDQ2NjlhMDRmOTYxNTQ1MjM1YTguc2V0Q29udGVudChodG1sXzliYmYzNDM1MjNlNDRlMDZiMDA3ZjRmM2YxMjA2YzRlKTsKICAgICAgICAgICAgCgogICAgICAgICAgICBjaXJjbGVfbWFya2VyXzg1ZDExNzRhY2FlODRmMmU4MjFlODJkNzc5YWVhMzYwLmJpbmRQb3B1cChwb3B1cF9lYzY2NTU1MGYxZWY0NDY2OWEwNGY5NjE1NDUyMzVhOCk7CgogICAgICAgICAgICAKICAgICAgICAKICAgIAogICAgICAgICAgICB2YXIgY2lyY2xlX21hcmtlcl85Y2FmZDdiMTdjODI0OWIwOTcyNzI3ZGRjMDNkZTRmMiA9IEwuY2lyY2xlTWFya2VyKAogICAgICAgICAgICAgICAgWzQyLjcwNzk0NjgsMjMuMzUwOTIxNjAwMDAwMDAzXSwKICAgICAgICAgICAgICAgIHsKICAiYnViYmxpbmdNb3VzZUV2ZW50cyI6IHRydWUsCiAgImNvbG9yIjogImJsdWUiLAogICJkYXNoQXJyYXkiOiBudWxsLAogICJkYXNoT2Zmc2V0IjogbnVsbCwKICAiZmlsbCI6IHRydWUsCiAgImZpbGxDb2xvciI6ICIjMzE4NmNjIiwKICAiZmlsbE9wYWNpdHkiOiAwLjcsCiAgImZpbGxSdWxlIjogImV2ZW5vZGQiLAogICJsaW5lQ2FwIjogInJvdW5kIiwKICAibGluZUpvaW4iOiAicm91bmQiLAogICJvcGFjaXR5IjogMS4wLAogICJyYWRpdXMiOiA1LAogICJzdHJva2UiOiB0cnVlLAogICJ3ZWlnaHQiOiAzCn0KICAgICAgICAgICAgICAgICkuYWRkVG8obWFwXzBiMGQ2ODExNTI0NTRhYjM5NjE1NmFmNmYwMWFjNjM3KTsKICAgICAgICAgICAgCiAgICAKICAgICAgICAgICAgdmFyIHBvcHVwX2FiODE5ZjZmNTJkYTQ3ZWRhNDQ2ZjE5OWQzYTNhNDhmID0gTC5wb3B1cCh7bWF4V2lkdGg6ICczMDAnfSk7CgogICAgICAgICAgICAKICAgICAgICAgICAgICAgIHZhciBodG1sXzZjMzU2MWNlZTIwNzQ0YmRhZjFiMDA2NjIxZGMyYjA2ID0gJCgnPGRpdiBpZD0iaHRtbF82YzM1NjFjZWUyMDc0NGJkYWYxYjAwNjYyMWRjMmIwNiIgc3R5bGU9IndpZHRoOiAxMDAuMCU7IGhlaWdodDogMTAwLjAlOyI+IEhhZGppIERpbWl0YXIgPC9kaXY+JylbMF07CiAgICAgICAgICAgICAgICBwb3B1cF9hYjgxOWY2ZjUyZGE0N2VkYTQ0NmYxOTlkM2EzYTQ4Zi5zZXRDb250ZW50KGh0bWxfNmMzNTYxY2VlMjA3NDRiZGFmMWIwMDY2MjFkYzJiMDYpOwogICAgICAgICAgICAKCiAgICAgICAgICAgIGNpcmNsZV9tYXJrZXJfOWNhZmQ3YjE3YzgyNDliMDk3MjcyN2RkYzAzZGU0ZjIuYmluZFBvcHVwKHBvcHVwX2FiODE5ZjZmNTJkYTQ3ZWRhNDQ2ZjE5OWQzYTNhNDhmKTsKCiAgICAgICAgICAgIAogICAgICAgIAogICAgCiAgICAgICAgICAgIHZhciBjaXJjbGVfbWFya2VyXzQwMzZjNWQwYzVhNzQyYjViOGI4NWIxOTgyMjM1NTQzID0gTC5jaXJjbGVNYXJrZXIoCiAgICAgICAgICAgICAgICBbNDIuNjgwNzQwNCwyMy4yOTU3MzA2MDAwMDAwMDJdLAogICAgICAgICAgICAgICAgewogICJidWJibGluZ01vdXNlRXZlbnRzIjogdHJ1ZSwKICAiY29sb3IiOiAiYmx1ZSIsCiAgImRhc2hBcnJheSI6IG51bGwsCiAgImRhc2hPZmZzZXQiOiBudWxsLAogICJmaWxsIjogdHJ1ZSwKICAiZmlsbENvbG9yIjogIiMzMTg2Y2MiLAogICJmaWxsT3BhY2l0eSI6IDAuNywKICAiZmlsbFJ1bGUiOiAiZXZlbm9kZCIsCiAgImxpbmVDYXAiOiAicm91bmQiLAogICJsaW5lSm9pbiI6ICJyb3VuZCIsCiAgIm9wYWNpdHkiOiAxLjAsCiAgInJhZGl1cyI6IDUsCiAgInN0cm9rZSI6IHRydWUsCiAgIndlaWdodCI6IDMKfQogICAgICAgICAgICAgICAgKS5hZGRUbyhtYXBfMGIwZDY4MTE1MjQ1NGFiMzk2MTU2YWY2ZjAxYWM2MzcpOwogICAgICAgICAgICAKICAgIAogICAgICAgICAgICB2YXIgcG9wdXBfZjIzYWE5YTEyODdmNGNjNWJjYjViYzU3M2FkYjM4YjMgPSBMLnBvcHVwKHttYXhXaWR0aDogJzMwMCd9KTsKCiAgICAgICAgICAgIAogICAgICAgICAgICAgICAgdmFyIGh0bWxfMDkyMDIzMmIxMGFhNDU3YTlhZjIyM2YxYjliM2Y0MTggPSAkKCc8ZGl2IGlkPSJodG1sXzA5MjAyMzJiMTBhYTQ1N2E5YWYyMjNmMWI5YjNmNDE4IiBzdHlsZT0id2lkdGg6IDEwMC4wJTsgaGVpZ2h0OiAxMDAuMCU7Ij4gSGlwb2RydW1hIDwvZGl2PicpWzBdOwogICAgICAgICAgICAgICAgcG9wdXBfZjIzYWE5YTEyODdmNGNjNWJjYjViYzU3M2FkYjM4YjMuc2V0Q29udGVudChodG1sXzA5MjAyMzJiMTBhYTQ1N2E5YWYyMjNmMWI5YjNmNDE4KTsKICAgICAgICAgICAgCgogICAgICAgICAgICBjaXJjbGVfbWFya2VyXzQwMzZjNWQwYzVhNzQyYjViOGI4NWIxOTgyMjM1NTQzLmJpbmRQb3B1cChwb3B1cF9mMjNhYTlhMTI4N2Y0Y2M1YmNiNWJjNTczYWRiMzhiMyk7CgogICAgICAgICAgICAKICAgICAgICAKICAgIAogICAgICAgICAgICB2YXIgY2lyY2xlX21hcmtlcl9iODA2ODJiZDY1OWI0ZjE2YTU5YWVmNGU4N2U0MzAxMyA9IEwuY2lyY2xlTWFya2VyKAogICAgICAgICAgICAgICAgWzQyLjY2MTc5NjYsMjMuMzE1MDI1M10sCiAgICAgICAgICAgICAgICB7CiAgImJ1YmJsaW5nTW91c2VFdmVudHMiOiB0cnVlLAogICJjb2xvciI6ICJibHVlIiwKICAiZGFzaEFycmF5IjogbnVsbCwKICAiZGFzaE9mZnNldCI6IG51bGwsCiAgImZpbGwiOiB0cnVlLAogICJmaWxsQ29sb3IiOiAiIzMxODZjYyIsCiAgImZpbGxPcGFjaXR5IjogMC43LAogICJmaWxsUnVsZSI6ICJldmVub2RkIiwKICAibGluZUNhcCI6ICJyb3VuZCIsCiAgImxpbmVKb2luIjogInJvdW5kIiwKICAib3BhY2l0eSI6IDEuMCwKICAicmFkaXVzIjogNSwKICAic3Ryb2tlIjogdHJ1ZSwKICAid2VpZ2h0IjogMwp9CiAgICAgICAgICAgICAgICApLmFkZFRvKG1hcF8wYjBkNjgxMTUyNDU0YWIzOTYxNTZhZjZmMDFhYzYzNyk7CiAgICAgICAgICAgIAogICAgCiAgICAgICAgICAgIHZhciBwb3B1cF80NGIxNjg4MjQwYTA0MTk4YjBiNzU1OTg4YjgwNWUyOCA9IEwucG9wdXAoe21heFdpZHRoOiAnMzAwJ30pOwoKICAgICAgICAgICAgCiAgICAgICAgICAgICAgICB2YXIgaHRtbF8yYTA0ZTUxYjYxY2Y0OWQxYTYxYjM3MjU0YWUxZDgxZiA9ICQoJzxkaXYgaWQ9Imh0bWxfMmEwNGU1MWI2MWNmNDlkMWE2MWIzNzI1NGFlMWQ4MWYiIHN0eWxlPSJ3aWR0aDogMTAwLjAlOyBoZWlnaHQ6IDEwMC4wJTsiPiBIbGFkaWxuaWthIDwvZGl2PicpWzBdOwogICAgICAgICAgICAgICAgcG9wdXBfNDRiMTY4ODI0MGEwNDE5OGIwYjc1NTk4OGI4MDVlMjguc2V0Q29udGVudChodG1sXzJhMDRlNTFiNjFjZjQ5ZDFhNjFiMzcyNTRhZTFkODFmKTsKICAgICAgICAgICAgCgogICAgICAgICAgICBjaXJjbGVfbWFya2VyX2I4MDY4MmJkNjU5YjRmMTZhNTlhZWY0ZTg3ZTQzMDEzLmJpbmRQb3B1cChwb3B1cF80NGIxNjg4MjQwYTA0MTk4YjBiNzU1OTg4YjgwNWUyOCk7CgogICAgICAgICAgICAKICAgICAgICAKICAgIAogICAgICAgICAgICB2YXIgY2lyY2xlX21hcmtlcl82OTZhZjkxOThhOGE0ZGQ2OWYxMjc1MDRiYTk1NDJhOSA9IEwuY2lyY2xlTWFya2VyKAogICAgICAgICAgICAgICAgWzQyLjY5MTE1ODMsMjMuMzgwNzEwNjAwMDAwMDA0XSwKICAgICAgICAgICAgICAgIHsKICAiYnViYmxpbmdNb3VzZUV2ZW50cyI6IHRydWUsCiAgImNvbG9yIjogImJsdWUiLAogICJkYXNoQXJyYXkiOiBudWxsLAogICJkYXNoT2Zmc2V0IjogbnVsbCwKICAiZmlsbCI6IHRydWUsCiAgImZpbGxDb2xvciI6ICIjMzE4NmNjIiwKICAiZmlsbE9wYWNpdHkiOiAwLjcsCiAgImZpbGxSdWxlIjogImV2ZW5vZGQiLAogICJsaW5lQ2FwIjogInJvdW5kIiwKICAibGluZUpvaW4iOiAicm91bmQiLAogICJvcGFjaXR5IjogMS4wLAogICJyYWRpdXMiOiA1LAogICJzdHJva2UiOiB0cnVlLAogICJ3ZWlnaHQiOiAzCn0KICAgICAgICAgICAgICAgICkuYWRkVG8obWFwXzBiMGQ2ODExNTI0NTRhYjM5NjE1NmFmNmYwMWFjNjM3KTsKICAgICAgICAgICAgCiAgICAKICAgICAgICAgICAgdmFyIHBvcHVwXzNlYjU2NDYwODA4MDRlYWE5MmJmNDU4MmFkN2VhNGMzID0gTC5wb3B1cCh7bWF4V2lkdGg6ICczMDAnfSk7CgogICAgICAgICAgICAKICAgICAgICAgICAgICAgIHZhciBodG1sX2YyOTNkZDhjMWZkYjQ0YjNiYzQ2ZDc5ZDQzYTRlZDU5ID0gJCgnPGRpdiBpZD0iaHRtbF9mMjkzZGQ4YzFmZGI0NGIzYmM0NmQ3OWQ0M2E0ZWQ1OSIgc3R5bGU9IndpZHRoOiAxMDAuMCU7IGhlaWdodDogMTAwLjAlOyI+IEhyaXN0byBCb3RldiA8L2Rpdj4nKVswXTsKICAgICAgICAgICAgICAgIHBvcHVwXzNlYjU2NDYwODA4MDRlYWE5MmJmNDU4MmFkN2VhNGMzLnNldENvbnRlbnQoaHRtbF9mMjkzZGQ4YzFmZGI0NGIzYmM0NmQ3OWQ0M2E0ZWQ1OSk7CiAgICAgICAgICAgIAoKICAgICAgICAgICAgY2lyY2xlX21hcmtlcl82OTZhZjkxOThhOGE0ZGQ2OWYxMjc1MDRiYTk1NDJhOS5iaW5kUG9wdXAocG9wdXBfM2ViNTY0NjA4MDgwNGVhYTkyYmY0NTgyYWQ3ZWE0YzMpOwoKICAgICAgICAgICAgCiAgICAgICAgCiAgICAKICAgICAgICAgICAgdmFyIGNpcmNsZV9tYXJrZXJfNzc5YTMyOTcyYTJiNDIyNTgzYTdiNzAxMzIzYzM3NjMgPSBMLmNpcmNsZU1hcmtlcigKICAgICAgICAgICAgICAgIFs0Mi43NTA1OTUxLDIzLjMxNjM2ODEwMDAwMDAwMl0sCiAgICAgICAgICAgICAgICB7CiAgImJ1YmJsaW5nTW91c2VFdmVudHMiOiB0cnVlLAogICJjb2xvciI6ICJibHVlIiwKICAiZGFzaEFycmF5IjogbnVsbCwKICAiZGFzaE9mZnNldCI6IG51bGwsCiAgImZpbGwiOiB0cnVlLAogICJmaWxsQ29sb3IiOiAiIzMxODZjYyIsCiAgImZpbGxPcGFjaXR5IjogMC43LAogICJmaWxsUnVsZSI6ICJldmVub2RkIiwKICAibGluZUNhcCI6ICJyb3VuZCIsCiAgImxpbmVKb2luIjogInJvdW5kIiwKICAib3BhY2l0eSI6IDEuMCwKICAicmFkaXVzIjogNSwKICAic3Ryb2tlIjogdHJ1ZSwKICAid2VpZ2h0IjogMwp9CiAgICAgICAgICAgICAgICApLmFkZFRvKG1hcF8wYjBkNjgxMTUyNDU0YWIzOTYxNTZhZjZmMDFhYzYzNyk7CiAgICAgICAgICAgIAogICAgCiAgICAgICAgICAgIHZhciBwb3B1cF9lZWE3NjI1ZDRhZDc0YThlOWQxYjU3NTZmYmQxNWQ5NiA9IEwucG9wdXAoe21heFdpZHRoOiAnMzAwJ30pOwoKICAgICAgICAgICAgCiAgICAgICAgICAgICAgICB2YXIgaHRtbF9kNzExMmI2N2QzZmU0NDc2YTkxZjA2NDQ0YWM5ZDUyZCA9ICQoJzxkaXYgaWQ9Imh0bWxfZDcxMTJiNjdkM2ZlNDQ3NmE5MWYwNjQ0NGFjOWQ1MmQiIHN0eWxlPSJ3aWR0aDogMTAwLjAlOyBoZWlnaHQ6IDEwMC4wJTsiPiBJbGlhbnRzaSA8L2Rpdj4nKVswXTsKICAgICAgICAgICAgICAgIHBvcHVwX2VlYTc2MjVkNGFkNzRhOGU5ZDFiNTc1NmZiZDE1ZDk2LnNldENvbnRlbnQoaHRtbF9kNzExMmI2N2QzZmU0NDc2YTkxZjA2NDQ0YWM5ZDUyZCk7CiAgICAgICAgICAgIAoKICAgICAgICAgICAgY2lyY2xlX21hcmtlcl83NzlhMzI5NzJhMmI0MjI1ODNhN2I3MDEzMjNjMzc2My5iaW5kUG9wdXAocG9wdXBfZWVhNzYyNWQ0YWQ3NGE4ZTlkMWI1NzU2ZmJkMTVkOTYpOwoKICAgICAgICAgICAgCiAgICAgICAgCiAgICAKICAgICAgICAgICAgdmFyIGNpcmNsZV9tYXJrZXJfNGVjNDIxMzBiMTQ4NDYxMTllNjc3YTZlNzI5MThjZWIgPSBMLmNpcmNsZU1hcmtlcigKICAgICAgICAgICAgICAgIFs0Mi42Nzc5NTk0LDIzLjMwOTE2Nl0sCiAgICAgICAgICAgICAgICB7CiAgImJ1YmJsaW5nTW91c2VFdmVudHMiOiB0cnVlLAogICJjb2xvciI6ICJibHVlIiwKICAiZGFzaEFycmF5IjogbnVsbCwKICAiZGFzaE9mZnNldCI6IG51bGwsCiAgImZpbGwiOiB0cnVlLAogICJmaWxsQ29sb3IiOiAiIzMxODZjYyIsCiAgImZpbGxPcGFjaXR5IjogMC43LAogICJmaWxsUnVsZSI6ICJldmVub2RkIiwKICAibGluZUNhcCI6ICJyb3VuZCIsCiAgImxpbmVKb2luIjogInJvdW5kIiwKICAib3BhY2l0eSI6IDEuMCwKICAicmFkaXVzIjogNSwKICAic3Ryb2tlIjogdHJ1ZSwKICAid2VpZ2h0IjogMwp9CiAgICAgICAgICAgICAgICApLmFkZFRvKG1hcF8wYjBkNjgxMTUyNDU0YWIzOTYxNTZhZjZmMDFhYzYzNyk7CiAgICAgICAgICAgIAogICAgCiAgICAgICAgICAgIHZhciBwb3B1cF8wZjg4NTA5MGYzNjk0MzU5YWU0M2EzMTkxZTcyMTJlZiA9IEwucG9wdXAoe21heFdpZHRoOiAnMzAwJ30pOwoKICAgICAgICAgICAgCiAgICAgICAgICAgICAgICB2YXIgaHRtbF9iNjI2ZTVjNmJhM2E0MDQzYjlkYjgwNzgyMjBkYjA4MyA9ICQoJzxkaXYgaWQ9Imh0bWxfYjYyNmU1YzZiYTNhNDA0M2I5ZGI4MDc4MjIwZGIwODMiIHN0eWxlPSJ3aWR0aDogMTAwLjAlOyBoZWlnaHQ6IDEwMC4wJTsiPiBJdmFuIFZhem92IDwvZGl2PicpWzBdOwogICAgICAgICAgICAgICAgcG9wdXBfMGY4ODUwOTBmMzY5NDM1OWFlNDNhMzE5MWU3MjEyZWYuc2V0Q29udGVudChodG1sX2I2MjZlNWM2YmEzYTQwNDNiOWRiODA3ODIyMGRiMDgzKTsKICAgICAgICAgICAgCgogICAgICAgICAgICBjaXJjbGVfbWFya2VyXzRlYzQyMTMwYjE0ODQ2MTE5ZTY3N2E2ZTcyOTE4Y2ViLmJpbmRQb3B1cChwb3B1cF8wZjg4NTA5MGYzNjk0MzU5YWU0M2EzMTkxZTcyMTJlZik7CgogICAgICAgICAgICAKICAgICAgICAKICAgIAogICAgICAgICAgICB2YXIgY2lyY2xlX21hcmtlcl82ODRmZGI3YTRmZTY0MDJjODg5MjEwZjVlYTMzMzEyZCA9IEwuY2lyY2xlTWFya2VyKAogICAgICAgICAgICAgICAgWzQyLjY3OTE0OTYsMjMuMzU0MzcwMV0sCiAgICAgICAgICAgICAgICB7CiAgImJ1YmJsaW5nTW91c2VFdmVudHMiOiB0cnVlLAogICJjb2xvciI6ICJibHVlIiwKICAiZGFzaEFycmF5IjogbnVsbCwKICAiZGFzaE9mZnNldCI6IG51bGwsCiAgImZpbGwiOiB0cnVlLAogICJmaWxsQ29sb3IiOiAiIzMxODZjYyIsCiAgImZpbGxPcGFjaXR5IjogMC43LAogICJmaWxsUnVsZSI6ICJldmVub2RkIiwKICAibGluZUNhcCI6ICJyb3VuZCIsCiAgImxpbmVKb2luIjogInJvdW5kIiwKICAib3BhY2l0eSI6IDEuMCwKICAicmFkaXVzIjogNSwKICAic3Ryb2tlIjogdHJ1ZSwKICAid2VpZ2h0IjogMwp9CiAgICAgICAgICAgICAgICApLmFkZFRvKG1hcF8wYjBkNjgxMTUyNDU0YWIzOTYxNTZhZjZmMDFhYzYzNyk7CiAgICAgICAgICAgIAogICAgCiAgICAgICAgICAgIHZhciBwb3B1cF9lN2MxODY5ZTIyMDA0MWQxYjJhMzZiYmNiNjMwYmY4NiA9IEwucG9wdXAoe21heFdpZHRoOiAnMzAwJ30pOwoKICAgICAgICAgICAgCiAgICAgICAgICAgICAgICB2YXIgaHRtbF8yMWRjMDk5ZGIxNDA0OWMxYTYxYmQ2NGY4Y2JkZmQ0MyA9ICQoJzxkaXYgaWQ9Imh0bWxfMjFkYzA5OWRiMTQwNDljMWE2MWJkNjRmOGNiZGZkNDMiIHN0eWxlPSJ3aWR0aDogMTAwLjAlOyBoZWlnaHQ6IDEwMC4wJTsiPiBJemdyZXYgPC9kaXY+JylbMF07CiAgICAgICAgICAgICAgICBwb3B1cF9lN2MxODY5ZTIyMDA0MWQxYjJhMzZiYmNiNjMwYmY4Ni5zZXRDb250ZW50KGh0bWxfMjFkYzA5OWRiMTQwNDljMWE2MWJkNjRmOGNiZGZkNDMpOwogICAgICAgICAgICAKCiAgICAgICAgICAgIGNpcmNsZV9tYXJrZXJfNjg0ZmRiN2E0ZmU2NDAyYzg4OTIxMGY1ZWEzMzMxMmQuYmluZFBvcHVwKHBvcHVwX2U3YzE4NjllMjIwMDQxZDFiMmEzNmJiY2I2MzBiZjg2KTsKCiAgICAgICAgICAgIAogICAgICAgIAogICAgCiAgICAgICAgICAgIHZhciBjaXJjbGVfbWFya2VyXzhhZjU1NDIyMGYxZDQ4NzlhNjY0YjE5ZDVlYzg1OGFmID0gTC5jaXJjbGVNYXJrZXIoCiAgICAgICAgICAgICAgICBbNDIuNjczNzM2NjAwMDAwMDA1LDIzLjM1NDA5NTVdLAogICAgICAgICAgICAgICAgewogICJidWJibGluZ01vdXNlRXZlbnRzIjogdHJ1ZSwKICAiY29sb3IiOiAiYmx1ZSIsCiAgImRhc2hBcnJheSI6IG51bGwsCiAgImRhc2hPZmZzZXQiOiBudWxsLAogICJmaWxsIjogdHJ1ZSwKICAiZmlsbENvbG9yIjogIiMzMTg2Y2MiLAogICJmaWxsT3BhY2l0eSI6IDAuNywKICAiZmlsbFJ1bGUiOiAiZXZlbm9kZCIsCiAgImxpbmVDYXAiOiAicm91bmQiLAogICJsaW5lSm9pbiI6ICJyb3VuZCIsCiAgIm9wYWNpdHkiOiAxLjAsCiAgInJhZGl1cyI6IDUsCiAgInN0cm9rZSI6IHRydWUsCiAgIndlaWdodCI6IDMKfQogICAgICAgICAgICAgICAgKS5hZGRUbyhtYXBfMGIwZDY4MTE1MjQ1NGFiMzk2MTU2YWY2ZjAxYWM2MzcpOwogICAgICAgICAgICAKICAgIAogICAgICAgICAgICB2YXIgcG9wdXBfMjZlMjkyZGQwYmE5NDFkMDhjMjI3ZmNhODQzYWIwZDkgPSBMLnBvcHVwKHttYXhXaWR0aDogJzMwMCd9KTsKCiAgICAgICAgICAgIAogICAgICAgICAgICAgICAgdmFyIGh0bWxfOTAzYmExMzM3MzU1NGVlYjg1Yzk5MTcwMDhmY2M2N2QgPSAkKCc8ZGl2IGlkPSJodG1sXzkwM2JhMTMzNzM1NTRlZWI4NWM5OTE3MDA4ZmNjNjdkIiBzdHlsZT0id2lkdGg6IDEwMC4wJTsgaGVpZ2h0OiAxMDAuMCU7Ij4gSXp0b2sgPC9kaXY+JylbMF07CiAgICAgICAgICAgICAgICBwb3B1cF8yNmUyOTJkZDBiYTk0MWQwOGMyMjdmY2E4NDNhYjBkOS5zZXRDb250ZW50KGh0bWxfOTAzYmExMzM3MzU1NGVlYjg1Yzk5MTcwMDhmY2M2N2QpOwogICAgICAgICAgICAKCiAgICAgICAgICAgIGNpcmNsZV9tYXJrZXJfOGFmNTU0MjIwZjFkNDg3OWE2NjRiMTlkNWVjODU4YWYuYmluZFBvcHVwKHBvcHVwXzI2ZTI5MmRkMGJhOTQxZDA4YzIyN2ZjYTg0M2FiMGQ5KTsKCiAgICAgICAgICAgIAogICAgICAgIAogICAgCiAgICAgICAgICAgIHZhciBjaXJjbGVfbWFya2VyX2ZlYmVkMTk1ZDZkODQ5YTQ4NTExNThjNThlNWVlNzZjID0gTC5jaXJjbGVNYXJrZXIoCiAgICAgICAgICAgICAgICBbNDIuNjY1Mjk4NSwyMy4yNDUwNjU3XSwKICAgICAgICAgICAgICAgIHsKICAiYnViYmxpbmdNb3VzZUV2ZW50cyI6IHRydWUsCiAgImNvbG9yIjogImJsdWUiLAogICJkYXNoQXJyYXkiOiBudWxsLAogICJkYXNoT2Zmc2V0IjogbnVsbCwKICAiZmlsbCI6IHRydWUsCiAgImZpbGxDb2xvciI6ICIjMzE4NmNjIiwKICAiZmlsbE9wYWNpdHkiOiAwLjcsCiAgImZpbGxSdWxlIjogImV2ZW5vZGQiLAogICJsaW5lQ2FwIjogInJvdW5kIiwKICAibGluZUpvaW4iOiAicm91bmQiLAogICJvcGFjaXR5IjogMS4wLAogICJyYWRpdXMiOiA1LAogICJzdHJva2UiOiB0cnVlLAogICJ3ZWlnaHQiOiAzCn0KICAgICAgICAgICAgICAgICkuYWRkVG8obWFwXzBiMGQ2ODExNTI0NTRhYjM5NjE1NmFmNmYwMWFjNjM3KTsKICAgICAgICAgICAgCiAgICAKICAgICAgICAgICAgdmFyIHBvcHVwXzkyOTgxYTU0MDg5MTQ3NjU4NWRjYTJhNGMxMTcyOTM3ID0gTC5wb3B1cCh7bWF4V2lkdGg6ICczMDAnfSk7CgogICAgICAgICAgICAKICAgICAgICAgICAgICAgIHZhciBodG1sXzVjMjZiMTRhNDdmZDRmMWNhYTUxNDdhN2NkODQxZThiID0gJCgnPGRpdiBpZD0iaHRtbF81YzI2YjE0YTQ3ZmQ0ZjFjYWE1MTQ3YTdjZDg0MWU4YiIgc3R5bGU9IndpZHRoOiAxMDAuMCU7IGhlaWdodDogMTAwLjAlOyI+IEtueWFqZXZvIDwvZGl2PicpWzBdOwogICAgICAgICAgICAgICAgcG9wdXBfOTI5ODFhNTQwODkxNDc2NTg1ZGNhMmE0YzExNzI5Mzcuc2V0Q29udGVudChodG1sXzVjMjZiMTRhNDdmZDRmMWNhYTUxNDdhN2NkODQxZThiKTsKICAgICAgICAgICAgCgogICAgICAgICAgICBjaXJjbGVfbWFya2VyX2ZlYmVkMTk1ZDZkODQ5YTQ4NTExNThjNThlNWVlNzZjLmJpbmRQb3B1cChwb3B1cF85Mjk4MWE1NDA4OTE0NzY1ODVkY2EyYTRjMTE3MjkzNyk7CgogICAgICAgICAgICAKICAgICAgICAKICAgIAogICAgICAgICAgICB2YXIgY2lyY2xlX21hcmtlcl84ZWIxOTJlYTgwNzM0NjI4OTk1YWVkMDZlYjZmYjg2NyA9IEwuY2lyY2xlTWFya2VyKAogICAgICAgICAgICAgICAgWzQyLjcwMTM1ODgsMjMuMjg4Nzg3Nzk5OTk5OTk4XSwKICAgICAgICAgICAgICAgIHsKICAiYnViYmxpbmdNb3VzZUV2ZW50cyI6IHRydWUsCiAgImNvbG9yIjogImJsdWUiLAogICJkYXNoQXJyYXkiOiBudWxsLAogICJkYXNoT2Zmc2V0IjogbnVsbCwKICAiZmlsbCI6IHRydWUsCiAgImZpbGxDb2xvciI6ICIjMzE4NmNjIiwKICAiZmlsbE9wYWNpdHkiOiAwLjcsCiAgImZpbGxSdWxlIjogImV2ZW5vZGQiLAogICJsaW5lQ2FwIjogInJvdW5kIiwKICAibGluZUpvaW4iOiAicm91bmQiLAogICJvcGFjaXR5IjogMS4wLAogICJyYWRpdXMiOiA1LAogICJzdHJva2UiOiB0cnVlLAogICJ3ZWlnaHQiOiAzCn0KICAgICAgICAgICAgICAgICkuYWRkVG8obWFwXzBiMGQ2ODExNTI0NTRhYjM5NjE1NmFmNmYwMWFjNjM3KTsKICAgICAgICAgICAgCiAgICAKICAgICAgICAgICAgdmFyIHBvcHVwXzQwYzBmZDA2N2I4YzRjMTc4ODIzZjZhOGM2Mzk3MDlkID0gTC5wb3B1cCh7bWF4V2lkdGg6ICczMDAnfSk7CgogICAgICAgICAgICAKICAgICAgICAgICAgICAgIHZhciBodG1sX2U1OGVmMzgzNTNmZTRiZDdhOTljZDA3ODk3NzgwM2ZkID0gJCgnPGRpdiBpZD0iaHRtbF9lNThlZjM4MzUzZmU0YmQ3YTk5Y2QwNzg5Nzc4MDNmZCIgc3R5bGU9IndpZHRoOiAxMDAuMCU7IGhlaWdodDogMTAwLjAlOyI+IEtyYXNuYSBQb2x5YW5hIDwvZGl2PicpWzBdOwogICAgICAgICAgICAgICAgcG9wdXBfNDBjMGZkMDY3YjhjNGMxNzg4MjNmNmE4YzYzOTcwOWQuc2V0Q29udGVudChodG1sX2U1OGVmMzgzNTNmZTRiZDdhOTljZDA3ODk3NzgwM2ZkKTsKICAgICAgICAgICAgCgogICAgICAgICAgICBjaXJjbGVfbWFya2VyXzhlYjE5MmVhODA3MzQ2Mjg5OTVhZWQwNmViNmZiODY3LmJpbmRQb3B1cChwb3B1cF80MGMwZmQwNjdiOGM0YzE3ODgyM2Y2YThjNjM5NzA5ZCk7CgogICAgICAgICAgICAKICAgICAgICAKICAgIAogICAgICAgICAgICB2YXIgY2lyY2xlX21hcmtlcl8wZTNkMWQxODIwNDY0NDlhYTFiYmM2Mzc1YzFjYWExYyA9IEwuY2lyY2xlTWFya2VyKAogICAgICAgICAgICAgICAgWzQyLjY3MzE5ODcsMjMuMjgxMzI4Ml0sCiAgICAgICAgICAgICAgICB7CiAgImJ1YmJsaW5nTW91c2VFdmVudHMiOiB0cnVlLAogICJjb2xvciI6ICJibHVlIiwKICAiZGFzaEFycmF5IjogbnVsbCwKICAiZGFzaE9mZnNldCI6IG51bGwsCiAgImZpbGwiOiB0cnVlLAogICJmaWxsQ29sb3IiOiAiIzMxODZjYyIsCiAgImZpbGxPcGFjaXR5IjogMC43LAogICJmaWxsUnVsZSI6ICJldmVub2RkIiwKICAibGluZUNhcCI6ICJyb3VuZCIsCiAgImxpbmVKb2luIjogInJvdW5kIiwKICAib3BhY2l0eSI6IDEuMCwKICAicmFkaXVzIjogNSwKICAic3Ryb2tlIjogdHJ1ZSwKICAid2VpZ2h0IjogMwp9CiAgICAgICAgICAgICAgICApLmFkZFRvKG1hcF8wYjBkNjgxMTUyNDU0YWIzOTYxNTZhZjZmMDFhYzYzNyk7CiAgICAgICAgICAgIAogICAgCiAgICAgICAgICAgIHZhciBwb3B1cF9jODdlNTM3ZWU5NjI0ODFkODI0ODdjOTExMDlhNGQ2ZCA9IEwucG9wdXAoe21heFdpZHRoOiAnMzAwJ30pOwoKICAgICAgICAgICAgCiAgICAgICAgICAgICAgICB2YXIgaHRtbF9jZTdkYWNmYjVlYjM0ZjE2YTFjODBjZGQ5MjVjY2VjYyA9ICQoJzxkaXYgaWQ9Imh0bWxfY2U3ZGFjZmI1ZWIzNGYxNmExYzgwY2RkOTI1Y2NlY2MiIHN0eWxlPSJ3aWR0aDogMTAwLjAlOyBoZWlnaHQ6IDEwMC4wJTsiPiBLcmFzbm8gU2VsbyA8L2Rpdj4nKVswXTsKICAgICAgICAgICAgICAgIHBvcHVwX2M4N2U1MzdlZTk2MjQ4MWQ4MjQ4N2M5MTEwOWE0ZDZkLnNldENvbnRlbnQoaHRtbF9jZTdkYWNmYjVlYjM0ZjE2YTFjODBjZGQ5MjVjY2VjYyk7CiAgICAgICAgICAgIAoKICAgICAgICAgICAgY2lyY2xlX21hcmtlcl8wZTNkMWQxODIwNDY0NDlhYTFiYmM2Mzc1YzFjYWExYy5iaW5kUG9wdXAocG9wdXBfYzg3ZTUzN2VlOTYyNDgxZDgyNDg3YzkxMTA5YTRkNmQpOwoKICAgICAgICAgICAgCiAgICAgICAgCiAgICAKICAgICAgICAgICAgdmFyIGNpcmNsZV9tYXJrZXJfZTgyMTBlN2IzZTU3NDBlNDk3OTdkMWU1MjI0YmNmMTggPSBMLmNpcmNsZU1hcmtlcigKICAgICAgICAgICAgICAgIFs0Mi43ODMzMjg5OTk5OTk5OTUsMjMuNV0sCiAgICAgICAgICAgICAgICB7CiAgImJ1YmJsaW5nTW91c2VFdmVudHMiOiB0cnVlLAogICJjb2xvciI6ICJibHVlIiwKICAiZGFzaEFycmF5IjogbnVsbCwKICAiZGFzaE9mZnNldCI6IG51bGwsCiAgImZpbGwiOiB0cnVlLAogICJmaWxsQ29sb3IiOiAiIzMxODZjYyIsCiAgImZpbGxPcGFjaXR5IjogMC43LAogICJmaWxsUnVsZSI6ICJldmVub2RkIiwKICAibGluZUNhcCI6ICJyb3VuZCIsCiAgImxpbmVKb2luIjogInJvdW5kIiwKICAib3BhY2l0eSI6IDEuMCwKICAicmFkaXVzIjogNSwKICAic3Ryb2tlIjogdHJ1ZSwKICAid2VpZ2h0IjogMwp9CiAgICAgICAgICAgICAgICApLmFkZFRvKG1hcF8wYjBkNjgxMTUyNDU0YWIzOTYxNTZhZjZmMDFhYzYzNyk7CiAgICAgICAgICAgIAogICAgCiAgICAgICAgICAgIHZhciBwb3B1cF9jODIzZjZlOTM3YjM0NjZhOTE3ZDBlNGQ5MTg4ZjdmMyA9IEwucG9wdXAoe21heFdpZHRoOiAnMzAwJ30pOwoKICAgICAgICAgICAgCiAgICAgICAgICAgICAgICB2YXIgaHRtbF9iYmZmNzdjYWM1ZjM0ZDVkYmJmYzhkYjRlYzhiZDQwNyA9ICQoJzxkaXYgaWQ9Imh0bWxfYmJmZjc3Y2FjNWYzNGQ1ZGJiZmM4ZGI0ZWM4YmQ0MDciIHN0eWxlPSJ3aWR0aDogMTAwLjAlOyBoZWlnaHQ6IDEwMC4wJTsiPiBLcmVtaWtvdnRzaSA8L2Rpdj4nKVswXTsKICAgICAgICAgICAgICAgIHBvcHVwX2M4MjNmNmU5MzdiMzQ2NmE5MTdkMGU0ZDkxODhmN2YzLnNldENvbnRlbnQoaHRtbF9iYmZmNzdjYWM1ZjM0ZDVkYmJmYzhkYjRlYzhiZDQwNyk7CiAgICAgICAgICAgIAoKICAgICAgICAgICAgY2lyY2xlX21hcmtlcl9lODIxMGU3YjNlNTc0MGU0OTc5N2QxZTUyMjRiY2YxOC5iaW5kUG9wdXAocG9wdXBfYzgyM2Y2ZTkzN2IzNDY2YTkxN2QwZTRkOTE4OGY3ZjMpOwoKICAgICAgICAgICAgCiAgICAgICAgCiAgICAKICAgICAgICAgICAgdmFyIGNpcmNsZV9tYXJrZXJfYjQ3MjM1MDI1ZGQ4NDU5MzgzNmFhMDU2MDcyZjYzODggPSBMLmNpcmNsZU1hcmtlcigKICAgICAgICAgICAgICAgIFs0Mi42ODMzNDU4LDIzLjI4NzU1MzhdLAogICAgICAgICAgICAgICAgewogICJidWJibGluZ01vdXNlRXZlbnRzIjogdHJ1ZSwKICAiY29sb3IiOiAiYmx1ZSIsCiAgImRhc2hBcnJheSI6IG51bGwsCiAgImRhc2hPZmZzZXQiOiBudWxsLAogICJmaWxsIjogdHJ1ZSwKICAiZmlsbENvbG9yIjogIiMzMTg2Y2MiLAogICJmaWxsT3BhY2l0eSI6IDAuNywKICAiZmlsbFJ1bGUiOiAiZXZlbm9kZCIsCiAgImxpbmVDYXAiOiAicm91bmQiLAogICJsaW5lSm9pbiI6ICJyb3VuZCIsCiAgIm9wYWNpdHkiOiAxLjAsCiAgInJhZGl1cyI6IDUsCiAgInN0cm9rZSI6IHRydWUsCiAgIndlaWdodCI6IDMKfQogICAgICAgICAgICAgICAgKS5hZGRUbyhtYXBfMGIwZDY4MTE1MjQ1NGFiMzk2MTU2YWY2ZjAxYWM2MzcpOwogICAgICAgICAgICAKICAgIAogICAgICAgICAgICB2YXIgcG9wdXBfNDhhYjNlMWMyZDE2NDViMTk4Y2Q2YTE0YmIwOWU4YzggPSBMLnBvcHVwKHttYXhXaWR0aDogJzMwMCd9KTsKCiAgICAgICAgICAgIAogICAgICAgICAgICAgICAgdmFyIGh0bWxfODdhZDUyOWEyYzc2NGE3ZGEzODA5YTRlNmRhMDUxN2IgPSAkKCc8ZGl2IGlkPSJodG1sXzg3YWQ1MjlhMmM3NjRhN2RhMzgwOWE0ZTZkYTA1MTdiIiBzdHlsZT0id2lkdGg6IDEwMC4wJTsgaGVpZ2h0OiAxMDAuMCU7Ij4gTGFnZXJhIDwvZGl2PicpWzBdOwogICAgICAgICAgICAgICAgcG9wdXBfNDhhYjNlMWMyZDE2NDViMTk4Y2Q2YTE0YmIwOWU4Yzguc2V0Q29udGVudChodG1sXzg3YWQ1MjlhMmM3NjRhN2RhMzgwOWE0ZTZkYTA1MTdiKTsKICAgICAgICAgICAgCgogICAgICAgICAgICBjaXJjbGVfbWFya2VyX2I0NzIzNTAyNWRkODQ1OTM4MzZhYTA1NjA3MmY2Mzg4LmJpbmRQb3B1cChwb3B1cF80OGFiM2UxYzJkMTY0NWIxOThjZDZhMTRiYjA5ZThjOCk7CgogICAgICAgICAgICAKICAgICAgICAKICAgIAogICAgICAgICAgICB2YXIgY2lyY2xlX21hcmtlcl81ZDRhYzRkYzlhMjI0YjhiYWJhMWNiM2NlNjM4YTQ4ZiA9IEwuY2lyY2xlTWFya2VyKAogICAgICAgICAgICAgICAgWzQyLjcwMzI1NDcsMjMuMzc4OTUwMV0sCiAgICAgICAgICAgICAgICB7CiAgImJ1YmJsaW5nTW91c2VFdmVudHMiOiB0cnVlLAogICJjb2xvciI6ICJibHVlIiwKICAiZGFzaEFycmF5IjogbnVsbCwKICAiZGFzaE9mZnNldCI6IG51bGwsCiAgImZpbGwiOiB0cnVlLAogICJmaWxsQ29sb3IiOiAiIzMxODZjYyIsCiAgImZpbGxPcGFjaXR5IjogMC43LAogICJmaWxsUnVsZSI6ICJldmVub2RkIiwKICAibGluZUNhcCI6ICJyb3VuZCIsCiAgImxpbmVKb2luIjogInJvdW5kIiwKICAib3BhY2l0eSI6IDEuMCwKICAicmFkaXVzIjogNSwKICAic3Ryb2tlIjogdHJ1ZSwKICAid2VpZ2h0IjogMwp9CiAgICAgICAgICAgICAgICApLmFkZFRvKG1hcF8wYjBkNjgxMTUyNDU0YWIzOTYxNTZhZjZmMDFhYzYzNyk7CiAgICAgICAgICAgIAogICAgCiAgICAgICAgICAgIHZhciBwb3B1cF9hY2MxMzI2NGQ4MmQ0YTdlYmMwM2UzMmU2MWZjNTAyYSA9IEwucG9wdXAoe21heFdpZHRoOiAnMzAwJ30pOwoKICAgICAgICAgICAgCiAgICAgICAgICAgICAgICB2YXIgaHRtbF8xYmY5NzM4MDYwNTI0ZjBmYjYxZDI0M2EyNjI0NzA0MyA9ICQoJzxkaXYgaWQ9Imh0bWxfMWJmOTczODA2MDUyNGYwZmI2MWQyNDNhMjYyNDcwNDMiIHN0eWxlPSJ3aWR0aDogMTAwLjAlOyBoZWlnaHQ6IDEwMC4wJTsiPiBMZXZza2kgPC9kaXY+JylbMF07CiAgICAgICAgICAgICAgICBwb3B1cF9hY2MxMzI2NGQ4MmQ0YTdlYmMwM2UzMmU2MWZjNTAyYS5zZXRDb250ZW50KGh0bWxfMWJmOTczODA2MDUyNGYwZmI2MWQyNDNhMjYyNDcwNDMpOwogICAgICAgICAgICAKCiAgICAgICAgICAgIGNpcmNsZV9tYXJrZXJfNWQ0YWM0ZGM5YTIyNGI4YmFiYTFjYjNjZTYzOGE0OGYuYmluZFBvcHVwKHBvcHVwX2FjYzEzMjY0ZDgyZDRhN2ViYzAzZTMyZTYxZmM1MDJhKTsKCiAgICAgICAgICAgIAogICAgICAgIAogICAgCiAgICAgICAgICAgIHZhciBjaXJjbGVfbWFya2VyXzlkYTc1MmJjMzM1MDQxNjlhZGIzZjhjMjRlOTc4MGFjID0gTC5jaXJjbGVNYXJrZXIoCiAgICAgICAgICAgICAgICBbNDIuNjc3MTM5MywyMy4zMjIxMjA3XSwKICAgICAgICAgICAgICAgIHsKICAiYnViYmxpbmdNb3VzZUV2ZW50cyI6IHRydWUsCiAgImNvbG9yIjogImJsdWUiLAogICJkYXNoQXJyYXkiOiBudWxsLAogICJkYXNoT2Zmc2V0IjogbnVsbCwKICAiZmlsbCI6IHRydWUsCiAgImZpbGxDb2xvciI6ICIjMzE4NmNjIiwKICAiZmlsbE9wYWNpdHkiOiAwLjcsCiAgImZpbGxSdWxlIjogImV2ZW5vZGQiLAogICJsaW5lQ2FwIjogInJvdW5kIiwKICAibGluZUpvaW4iOiAicm91bmQiLAogICJvcGFjaXR5IjogMS4wLAogICJyYWRpdXMiOiA1LAogICJzdHJva2UiOiB0cnVlLAogICJ3ZWlnaHQiOiAzCn0KICAgICAgICAgICAgICAgICkuYWRkVG8obWFwXzBiMGQ2ODExNTI0NTRhYjM5NjE1NmFmNmYwMWFjNjM3KTsKICAgICAgICAgICAgCiAgICAKICAgICAgICAgICAgdmFyIHBvcHVwXzQzYWE1ZDMzNjY3MDRiODRhYTEwMDA0MjQ1YTJiNDI3ID0gTC5wb3B1cCh7bWF4V2lkdGg6ICczMDAnfSk7CgogICAgICAgICAgICAKICAgICAgICAgICAgICAgIHZhciBodG1sXzA2NGQ3NzY0ZDliYjRiMmNiMzk4YTU0NzQxZTViOWYwID0gJCgnPGRpdiBpZD0iaHRtbF8wNjRkNzc2NGQ5YmI0YjJjYjM5OGE1NDc0MWU1YjlmMCIgc3R5bGU9IndpZHRoOiAxMDAuMCU7IGhlaWdodDogMTAwLjAlOyI+IExvemVuZXRzIDwvZGl2PicpWzBdOwogICAgICAgICAgICAgICAgcG9wdXBfNDNhYTVkMzM2NjcwNGI4NGFhMTAwMDQyNDVhMmI0Mjcuc2V0Q29udGVudChodG1sXzA2NGQ3NzY0ZDliYjRiMmNiMzk4YTU0NzQxZTViOWYwKTsKICAgICAgICAgICAgCgogICAgICAgICAgICBjaXJjbGVfbWFya2VyXzlkYTc1MmJjMzM1MDQxNjlhZGIzZjhjMjRlOTc4MGFjLmJpbmRQb3B1cChwb3B1cF80M2FhNWQzMzY2NzA0Yjg0YWExMDAwNDI0NWEyYjQyNyk7CgogICAgICAgICAgICAKICAgICAgICAKICAgIAogICAgICAgICAgICB2YXIgY2lyY2xlX21hcmtlcl85N2UwODU5ZWM1MDc0OTE0YTU0OGZlMWU5YTllMTE0NyA9IEwuY2lyY2xlTWFya2VyKAogICAgICAgICAgICAgICAgWzQyLjczMDQ5OTMsMjMuMjUxNTc5M10sCiAgICAgICAgICAgICAgICB7CiAgImJ1YmJsaW5nTW91c2VFdmVudHMiOiB0cnVlLAogICJjb2xvciI6ICJibHVlIiwKICAiZGFzaEFycmF5IjogbnVsbCwKICAiZGFzaE9mZnNldCI6IG51bGwsCiAgImZpbGwiOiB0cnVlLAogICJmaWxsQ29sb3IiOiAiIzMxODZjYyIsCiAgImZpbGxPcGFjaXR5IjogMC43LAogICJmaWxsUnVsZSI6ICJldmVub2RkIiwKICAibGluZUNhcCI6ICJyb3VuZCIsCiAgImxpbmVKb2luIjogInJvdW5kIiwKICAib3BhY2l0eSI6IDEuMCwKICAicmFkaXVzIjogNSwKICAic3Ryb2tlIjogdHJ1ZSwKICAid2VpZ2h0IjogMwp9CiAgICAgICAgICAgICAgICApLmFkZFRvKG1hcF8wYjBkNjgxMTUyNDU0YWIzOTYxNTZhZjZmMDFhYzYzNyk7CiAgICAgICAgICAgIAogICAgCiAgICAgICAgICAgIHZhciBwb3B1cF8wMGQ5ZDUzM2Y1NWE0NmY4OWYzMTljODc5OWM5YTJiYSA9IEwucG9wdXAoe21heFdpZHRoOiAnMzAwJ30pOwoKICAgICAgICAgICAgCiAgICAgICAgICAgICAgICB2YXIgaHRtbF80MTY3MjYwYmM1YjM0YWJjYjMxZjI1ZmQ4ZGU0NThhMiA9ICQoJzxkaXYgaWQ9Imh0bWxfNDE2NzI2MGJjNWIzNGFiY2IzMWYyNWZkOGRlNDU4YTIiIHN0eWxlPSJ3aWR0aDogMTAwLjAlOyBoZWlnaHQ6IDEwMC4wJTsiPiBMeXVsaW4gMSA8L2Rpdj4nKVswXTsKICAgICAgICAgICAgICAgIHBvcHVwXzAwZDlkNTMzZjU1YTQ2Zjg5ZjMxOWM4Nzk5YzlhMmJhLnNldENvbnRlbnQoaHRtbF80MTY3MjYwYmM1YjM0YWJjYjMxZjI1ZmQ4ZGU0NThhMik7CiAgICAgICAgICAgIAoKICAgICAgICAgICAgY2lyY2xlX21hcmtlcl85N2UwODU5ZWM1MDc0OTE0YTU0OGZlMWU5YTllMTE0Ny5iaW5kUG9wdXAocG9wdXBfMDBkOWQ1MzNmNTVhNDZmODlmMzE5Yzg3OTljOWEyYmEpOwoKICAgICAgICAgICAgCiAgICAgICAgCiAgICAKICAgICAgICAgICAgdmFyIGNpcmNsZV9tYXJrZXJfNmUyMmEyNzNkNDIxNDhjZmI1MTgzMGViNDA1YjY0ZjcgPSBMLmNpcmNsZU1hcmtlcigKICAgICAgICAgICAgICAgIFs0Mi43MTQ5ODEwOTk5OTk5OTYsMjMuMjc0MDU5M10sCiAgICAgICAgICAgICAgICB7CiAgImJ1YmJsaW5nTW91c2VFdmVudHMiOiB0cnVlLAogICJjb2xvciI6ICJibHVlIiwKICAiZGFzaEFycmF5IjogbnVsbCwKICAiZGFzaE9mZnNldCI6IG51bGwsCiAgImZpbGwiOiB0cnVlLAogICJmaWxsQ29sb3IiOiAiIzMxODZjYyIsCiAgImZpbGxPcGFjaXR5IjogMC43LAogICJmaWxsUnVsZSI6ICJldmVub2RkIiwKICAibGluZUNhcCI6ICJyb3VuZCIsCiAgImxpbmVKb2luIjogInJvdW5kIiwKICAib3BhY2l0eSI6IDEuMCwKICAicmFkaXVzIjogNSwKICAic3Ryb2tlIjogdHJ1ZSwKICAid2VpZ2h0IjogMwp9CiAgICAgICAgICAgICAgICApLmFkZFRvKG1hcF8wYjBkNjgxMTUyNDU0YWIzOTYxNTZhZjZmMDFhYzYzNyk7CiAgICAgICAgICAgIAogICAgCiAgICAgICAgICAgIHZhciBwb3B1cF80NmVlZGQ0ODEzODU0Y2NmYmY5MTlhMzNlYTYxN2RjZiA9IEwucG9wdXAoe21heFdpZHRoOiAnMzAwJ30pOwoKICAgICAgICAgICAgCiAgICAgICAgICAgICAgICB2YXIgaHRtbF83NWYwMzk4Y2E1Yzc0ZGUxOGE1Mjk3MmQ4MzI5Yjk1OCA9ICQoJzxkaXYgaWQ9Imh0bWxfNzVmMDM5OGNhNWM3NGRlMThhNTI5NzJkODMyOWI5NTgiIHN0eWxlPSJ3aWR0aDogMTAwLjAlOyBoZWlnaHQ6IDEwMC4wJTsiPiBMeXVsaW4gMTAgPC9kaXY+JylbMF07CiAgICAgICAgICAgICAgICBwb3B1cF80NmVlZGQ0ODEzODU0Y2NmYmY5MTlhMzNlYTYxN2RjZi5zZXRDb250ZW50KGh0bWxfNzVmMDM5OGNhNWM3NGRlMThhNTI5NzJkODMyOWI5NTgpOwogICAgICAgICAgICAKCiAgICAgICAgICAgIGNpcmNsZV9tYXJrZXJfNmUyMmEyNzNkNDIxNDhjZmI1MTgzMGViNDA1YjY0ZjcuYmluZFBvcHVwKHBvcHVwXzQ2ZWVkZDQ4MTM4NTRjY2ZiZjkxOWEzM2VhNjE3ZGNmKTsKCiAgICAgICAgICAgIAogICAgICAgIAogICAgCiAgICAgICAgICAgIHZhciBjaXJjbGVfbWFya2VyX2FmNmE3YWNmM2M5YjQxNmE4NmYzZTIyNWZmMzg5ZTU0ID0gTC5jaXJjbGVNYXJrZXIoCiAgICAgICAgICAgICAgICBbNDIuNzIzMTIxNiwyMy4yNTM1NDk2MDAwMDAwMDNdLAogICAgICAgICAgICAgICAgewogICJidWJibGluZ01vdXNlRXZlbnRzIjogdHJ1ZSwKICAiY29sb3IiOiAiYmx1ZSIsCiAgImRhc2hBcnJheSI6IG51bGwsCiAgImRhc2hPZmZzZXQiOiBudWxsLAogICJmaWxsIjogdHJ1ZSwKICAiZmlsbENvbG9yIjogIiMzMTg2Y2MiLAogICJmaWxsT3BhY2l0eSI6IDAuNywKICAiZmlsbFJ1bGUiOiAiZXZlbm9kZCIsCiAgImxpbmVDYXAiOiAicm91bmQiLAogICJsaW5lSm9pbiI6ICJyb3VuZCIsCiAgIm9wYWNpdHkiOiAxLjAsCiAgInJhZGl1cyI6IDUsCiAgInN0cm9rZSI6IHRydWUsCiAgIndlaWdodCI6IDMKfQogICAgICAgICAgICAgICAgKS5hZGRUbyhtYXBfMGIwZDY4MTE1MjQ1NGFiMzk2MTU2YWY2ZjAxYWM2MzcpOwogICAgICAgICAgICAKICAgIAogICAgICAgICAgICB2YXIgcG9wdXBfZTFmY2VjZTY4NDZhNDkxYzhkZDY3Njg5NzdmMGViOGIgPSBMLnBvcHVwKHttYXhXaWR0aDogJzMwMCd9KTsKCiAgICAgICAgICAgIAogICAgICAgICAgICAgICAgdmFyIGh0bWxfZjRkMDZmYWYwZGM5NGMzYmI1Mjk4MjFjMTI0YTRhMzQgPSAkKCc8ZGl2IGlkPSJodG1sX2Y0ZDA2ZmFmMGRjOTRjM2JiNTI5ODIxYzEyNGE0YTM0IiBzdHlsZT0id2lkdGg6IDEwMC4wJTsgaGVpZ2h0OiAxMDAuMCU7Ij4gTHl1bGluIDIgPC9kaXY+JylbMF07CiAgICAgICAgICAgICAgICBwb3B1cF9lMWZjZWNlNjg0NmE0OTFjOGRkNjc2ODk3N2YwZWI4Yi5zZXRDb250ZW50KGh0bWxfZjRkMDZmYWYwZGM5NGMzYmI1Mjk4MjFjMTI0YTRhMzQpOwogICAgICAgICAgICAKCiAgICAgICAgICAgIGNpcmNsZV9tYXJrZXJfYWY2YTdhY2YzYzliNDE2YTg2ZjNlMjI1ZmYzODllNTQuYmluZFBvcHVwKHBvcHVwX2UxZmNlY2U2ODQ2YTQ5MWM4ZGQ2NzY4OTc3ZjBlYjhiKTsKCiAgICAgICAgICAgIAogICAgICAgIAogICAgCiAgICAgICAgICAgIHZhciBjaXJjbGVfbWFya2VyXzg2MGYzMzI0ZTA0OTQ2OTFiZWMwOTNkZTJmZjA4NmJjID0gTC5jaXJjbGVNYXJrZXIoCiAgICAgICAgICAgICAgICBbNDIuNzIyNjc5MSwyMy4yNDUxNDAxXSwKICAgICAgICAgICAgICAgIHsKICAiYnViYmxpbmdNb3VzZUV2ZW50cyI6IHRydWUsCiAgImNvbG9yIjogImJsdWUiLAogICJkYXNoQXJyYXkiOiBudWxsLAogICJkYXNoT2Zmc2V0IjogbnVsbCwKICAiZmlsbCI6IHRydWUsCiAgImZpbGxDb2xvciI6ICIjMzE4NmNjIiwKICAiZmlsbE9wYWNpdHkiOiAwLjcsCiAgImZpbGxSdWxlIjogImV2ZW5vZGQiLAogICJsaW5lQ2FwIjogInJvdW5kIiwKICAibGluZUpvaW4iOiAicm91bmQiLAogICJvcGFjaXR5IjogMS4wLAogICJyYWRpdXMiOiA1LAogICJzdHJva2UiOiB0cnVlLAogICJ3ZWlnaHQiOiAzCn0KICAgICAgICAgICAgICAgICkuYWRkVG8obWFwXzBiMGQ2ODExNTI0NTRhYjM5NjE1NmFmNmYwMWFjNjM3KTsKICAgICAgICAgICAgCiAgICAKICAgICAgICAgICAgdmFyIHBvcHVwXzAzOTMxYjgyYTIwMjQxYmRhYjM4YjI5MTY3MzZlYjE0ID0gTC5wb3B1cCh7bWF4V2lkdGg6ICczMDAnfSk7CgogICAgICAgICAgICAKICAgICAgICAgICAgICAgIHZhciBodG1sX2E4NGE1YzVlYzYzZDQxYWZhNGJhZWZmZGZiNjM5ZDE3ID0gJCgnPGRpdiBpZD0iaHRtbF9hODRhNWM1ZWM2M2Q0MWFmYTRiYWVmZmRmYjYzOWQxNyIgc3R5bGU9IndpZHRoOiAxMDAuMCU7IGhlaWdodDogMTAwLjAlOyI+IEx5dWxpbiAzIDwvZGl2PicpWzBdOwogICAgICAgICAgICAgICAgcG9wdXBfMDM5MzFiODJhMjAyNDFiZGFiMzhiMjkxNjczNmViMTQuc2V0Q29udGVudChodG1sX2E4NGE1YzVlYzYzZDQxYWZhNGJhZWZmZGZiNjM5ZDE3KTsKICAgICAgICAgICAgCgogICAgICAgICAgICBjaXJjbGVfbWFya2VyXzg2MGYzMzI0ZTA0OTQ2OTFiZWMwOTNkZTJmZjA4NmJjLmJpbmRQb3B1cChwb3B1cF8wMzkzMWI4MmEyMDI0MWJkYWIzOGIyOTE2NzM2ZWIxNCk7CgogICAgICAgICAgICAKICAgICAgICAKICAgIAogICAgICAgICAgICB2YXIgY2lyY2xlX21hcmtlcl8wOTA3MWNkYzJhY2E0ODI2ODAzZGRmMmY2OTQ4Zjg0NiA9IEwuY2lyY2xlTWFya2VyKAogICAgICAgICAgICAgICAgWzQyLjcxNjg4ODM5OTk5OTk5NSwyMy4yNDUzOTk0OTk5OTk5OThdLAogICAgICAgICAgICAgICAgewogICJidWJibGluZ01vdXNlRXZlbnRzIjogdHJ1ZSwKICAiY29sb3IiOiAiYmx1ZSIsCiAgImRhc2hBcnJheSI6IG51bGwsCiAgImRhc2hPZmZzZXQiOiBudWxsLAogICJmaWxsIjogdHJ1ZSwKICAiZmlsbENvbG9yIjogIiMzMTg2Y2MiLAogICJmaWxsT3BhY2l0eSI6IDAuNywKICAiZmlsbFJ1bGUiOiAiZXZlbm9kZCIsCiAgImxpbmVDYXAiOiAicm91bmQiLAogICJsaW5lSm9pbiI6ICJyb3VuZCIsCiAgIm9wYWNpdHkiOiAxLjAsCiAgInJhZGl1cyI6IDUsCiAgInN0cm9rZSI6IHRydWUsCiAgIndlaWdodCI6IDMKfQogICAgICAgICAgICAgICAgKS5hZGRUbyhtYXBfMGIwZDY4MTE1MjQ1NGFiMzk2MTU2YWY2ZjAxYWM2MzcpOwogICAgICAgICAgICAKICAgIAogICAgICAgICAgICB2YXIgcG9wdXBfZTYyODJhN2FlZTM4NDJkMDgwOWU0NGU1OWMyOGMwNjkgPSBMLnBvcHVwKHttYXhXaWR0aDogJzMwMCd9KTsKCiAgICAgICAgICAgIAogICAgICAgICAgICAgICAgdmFyIGh0bWxfMDhjZTM2ZTdkMGVkNGI2NmJmNWU2NjkwMjM5NzY4ZDYgPSAkKCc8ZGl2IGlkPSJodG1sXzA4Y2UzNmU3ZDBlZDRiNjZiZjVlNjY5MDIzOTc2OGQ2IiBzdHlsZT0id2lkdGg6IDEwMC4wJTsgaGVpZ2h0OiAxMDAuMCU7Ij4gTHl1bGluIDQgPC9kaXY+JylbMF07CiAgICAgICAgICAgICAgICBwb3B1cF9lNjI4MmE3YWVlMzg0MmQwODA5ZTQ0ZTU5YzI4YzA2OS5zZXRDb250ZW50KGh0bWxfMDhjZTM2ZTdkMGVkNGI2NmJmNWU2NjkwMjM5NzY4ZDYpOwogICAgICAgICAgICAKCiAgICAgICAgICAgIGNpcmNsZV9tYXJrZXJfMDkwNzFjZGMyYWNhNDgyNjgwM2RkZjJmNjk0OGY4NDYuYmluZFBvcHVwKHBvcHVwX2U2MjgyYTdhZWUzODQyZDA4MDllNDRlNTljMjhjMDY5KTsKCiAgICAgICAgICAgIAogICAgICAgIAogICAgCiAgICAgICAgICAgIHZhciBjaXJjbGVfbWFya2VyXzA0YmIxNjk0OTQ5ZTQyMmViMjg4MTUzYzMxMmNjN2I0ID0gTC5jaXJjbGVNYXJrZXIoCiAgICAgICAgICAgICAgICBbNDIuNzE0MDM4OCwyMy4yNDA4NTA0XSwKICAgICAgICAgICAgICAgIHsKICAiYnViYmxpbmdNb3VzZUV2ZW50cyI6IHRydWUsCiAgImNvbG9yIjogImJsdWUiLAogICJkYXNoQXJyYXkiOiBudWxsLAogICJkYXNoT2Zmc2V0IjogbnVsbCwKICAiZmlsbCI6IHRydWUsCiAgImZpbGxDb2xvciI6ICIjMzE4NmNjIiwKICAiZmlsbE9wYWNpdHkiOiAwLjcsCiAgImZpbGxSdWxlIjogImV2ZW5vZGQiLAogICJsaW5lQ2FwIjogInJvdW5kIiwKICAibGluZUpvaW4iOiAicm91bmQiLAogICJvcGFjaXR5IjogMS4wLAogICJyYWRpdXMiOiA1LAogICJzdHJva2UiOiB0cnVlLAogICJ3ZWlnaHQiOiAzCn0KICAgICAgICAgICAgICAgICkuYWRkVG8obWFwXzBiMGQ2ODExNTI0NTRhYjM5NjE1NmFmNmYwMWFjNjM3KTsKICAgICAgICAgICAgCiAgICAKICAgICAgICAgICAgdmFyIHBvcHVwXzM3ZjY2MmUxNjMzNjRmYmFhODM1MzEyNWYyMDdmM2I0ID0gTC5wb3B1cCh7bWF4V2lkdGg6ICczMDAnfSk7CgogICAgICAgICAgICAKICAgICAgICAgICAgICAgIHZhciBodG1sXzkzMzNmMjQ1MjRhMzRlYWJiMmIyZDI1Y2Q0NmJmNWQxID0gJCgnPGRpdiBpZD0iaHRtbF85MzMzZjI0NTI0YTM0ZWFiYjJiMmQyNWNkNDZiZjVkMSIgc3R5bGU9IndpZHRoOiAxMDAuMCU7IGhlaWdodDogMTAwLjAlOyI+IEx5dWxpbiA1IDwvZGl2PicpWzBdOwogICAgICAgICAgICAgICAgcG9wdXBfMzdmNjYyZTE2MzM2NGZiYWE4MzUzMTI1ZjIwN2YzYjQuc2V0Q29udGVudChodG1sXzkzMzNmMjQ1MjRhMzRlYWJiMmIyZDI1Y2Q0NmJmNWQxKTsKICAgICAgICAgICAgCgogICAgICAgICAgICBjaXJjbGVfbWFya2VyXzA0YmIxNjk0OTQ5ZTQyMmViMjg4MTUzYzMxMmNjN2I0LmJpbmRQb3B1cChwb3B1cF8zN2Y2NjJlMTYzMzY0ZmJhYTgzNTMxMjVmMjA3ZjNiNCk7CgogICAgICAgICAgICAKICAgICAgICAKICAgIAogICAgICAgICAgICB2YXIgY2lyY2xlX21hcmtlcl8wYWM2MDM5YjI5NTU0YjMxOTBmM2ViNjYyMjhjMTMwMCA9IEwuY2lyY2xlTWFya2VyKAogICAgICAgICAgICAgICAgWzQyLjcxMDM4MDYsMjMuMjU0MzIwMV0sCiAgICAgICAgICAgICAgICB7CiAgImJ1YmJsaW5nTW91c2VFdmVudHMiOiB0cnVlLAogICJjb2xvciI6ICJibHVlIiwKICAiZGFzaEFycmF5IjogbnVsbCwKICAiZGFzaE9mZnNldCI6IG51bGwsCiAgImZpbGwiOiB0cnVlLAogICJmaWxsQ29sb3IiOiAiIzMxODZjYyIsCiAgImZpbGxPcGFjaXR5IjogMC43LAogICJmaWxsUnVsZSI6ICJldmVub2RkIiwKICAibGluZUNhcCI6ICJyb3VuZCIsCiAgImxpbmVKb2luIjogInJvdW5kIiwKICAib3BhY2l0eSI6IDEuMCwKICAicmFkaXVzIjogNSwKICAic3Ryb2tlIjogdHJ1ZSwKICAid2VpZ2h0IjogMwp9CiAgICAgICAgICAgICAgICApLmFkZFRvKG1hcF8wYjBkNjgxMTUyNDU0YWIzOTYxNTZhZjZmMDFhYzYzNyk7CiAgICAgICAgICAgIAogICAgCiAgICAgICAgICAgIHZhciBwb3B1cF8xNmM5ODY0MTkwNTQ0ZjIxYjViYTU5YjkzMTJkNTk2MyA9IEwucG9wdXAoe21heFdpZHRoOiAnMzAwJ30pOwoKICAgICAgICAgICAgCiAgICAgICAgICAgICAgICB2YXIgaHRtbF81MGVjYzQ1ZTFmZmE0MzgyOGRmNWQwNmQ4ODQ4ZWRiNCA9ICQoJzxkaXYgaWQ9Imh0bWxfNTBlY2M0NWUxZmZhNDM4MjhkZjVkMDZkODg0OGVkYjQiIHN0eWxlPSJ3aWR0aDogMTAwLjAlOyBoZWlnaHQ6IDEwMC4wJTsiPiBMeXVsaW4gNiA8L2Rpdj4nKVswXTsKICAgICAgICAgICAgICAgIHBvcHVwXzE2Yzk4NjQxOTA1NDRmMjFiNWJhNTliOTMxMmQ1OTYzLnNldENvbnRlbnQoaHRtbF81MGVjYzQ1ZTFmZmE0MzgyOGRmNWQwNmQ4ODQ4ZWRiNCk7CiAgICAgICAgICAgIAoKICAgICAgICAgICAgY2lyY2xlX21hcmtlcl8wYWM2MDM5YjI5NTU0YjMxOTBmM2ViNjYyMjhjMTMwMC5iaW5kUG9wdXAocG9wdXBfMTZjOTg2NDE5MDU0NGYyMWI1YmE1OWI5MzEyZDU5NjMpOwoKICAgICAgICAgICAgCiAgICAgICAgCiAgICAKICAgICAgICAgICAgdmFyIGNpcmNsZV9tYXJrZXJfMDBkMGQ4Mzk4MTQwNDY5ZWFkYjRlODIxNjk4ZTdmZmIgPSBMLmNpcmNsZU1hcmtlcigKICAgICAgICAgICAgICAgIFs0Mi43MTEyMDA3MDAwMDAwMDYsMjMuMjYzMDgwNjAwMDAwMDAyXSwKICAgICAgICAgICAgICAgIHsKICAiYnViYmxpbmdNb3VzZUV2ZW50cyI6IHRydWUsCiAgImNvbG9yIjogImJsdWUiLAogICJkYXNoQXJyYXkiOiBudWxsLAogICJkYXNoT2Zmc2V0IjogbnVsbCwKICAiZmlsbCI6IHRydWUsCiAgImZpbGxDb2xvciI6ICIjMzE4NmNjIiwKICAiZmlsbE9wYWNpdHkiOiAwLjcsCiAgImZpbGxSdWxlIjogImV2ZW5vZGQiLAogICJsaW5lQ2FwIjogInJvdW5kIiwKICAibGluZUpvaW4iOiAicm91bmQiLAogICJvcGFjaXR5IjogMS4wLAogICJyYWRpdXMiOiA1LAogICJzdHJva2UiOiB0cnVlLAogICJ3ZWlnaHQiOiAzCn0KICAgICAgICAgICAgICAgICkuYWRkVG8obWFwXzBiMGQ2ODExNTI0NTRhYjM5NjE1NmFmNmYwMWFjNjM3KTsKICAgICAgICAgICAgCiAgICAKICAgICAgICAgICAgdmFyIHBvcHVwXzU0MmYzODI4MTc3MDQ5Y2ZhODQyYjA4MmUyNTNlZTI5ID0gTC5wb3B1cCh7bWF4V2lkdGg6ICczMDAnfSk7CgogICAgICAgICAgICAKICAgICAgICAgICAgICAgIHZhciBodG1sXzI5OGNhYjljNDEwYzQzYWQ4ZTI2N2Y1YWI0YzhiYjZjID0gJCgnPGRpdiBpZD0iaHRtbF8yOThjYWI5YzQxMGM0M2FkOGUyNjdmNWFiNGM4YmI2YyIgc3R5bGU9IndpZHRoOiAxMDAuMCU7IGhlaWdodDogMTAwLjAlOyI+IEx5dWxpbiA3IDwvZGl2PicpWzBdOwogICAgICAgICAgICAgICAgcG9wdXBfNTQyZjM4MjgxNzcwNDljZmE4NDJiMDgyZTI1M2VlMjkuc2V0Q29udGVudChodG1sXzI5OGNhYjljNDEwYzQzYWQ4ZTI2N2Y1YWI0YzhiYjZjKTsKICAgICAgICAgICAgCgogICAgICAgICAgICBjaXJjbGVfbWFya2VyXzAwZDBkODM5ODE0MDQ2OWVhZGI0ZTgyMTY5OGU3ZmZiLmJpbmRQb3B1cChwb3B1cF81NDJmMzgyODE3NzA0OWNmYTg0MmIwODJlMjUzZWUyOSk7CgogICAgICAgICAgICAKICAgICAgICAKICAgIAogICAgICAgICAgICB2YXIgY2lyY2xlX21hcmtlcl80M2RjNDYwMzViZTE0OTMzYjBlNjdhYjBlOWI3ZDFkZSA9IEwuY2lyY2xlTWFya2VyKAogICAgICAgICAgICAgICAgWzQyLjcyMTIyOTYsMjMuMjYwMzMwMl0sCiAgICAgICAgICAgICAgICB7CiAgImJ1YmJsaW5nTW91c2VFdmVudHMiOiB0cnVlLAogICJjb2xvciI6ICJibHVlIiwKICAiZGFzaEFycmF5IjogbnVsbCwKICAiZGFzaE9mZnNldCI6IG51bGwsCiAgImZpbGwiOiB0cnVlLAogICJmaWxsQ29sb3IiOiAiIzMxODZjYyIsCiAgImZpbGxPcGFjaXR5IjogMC43LAogICJmaWxsUnVsZSI6ICJldmVub2RkIiwKICAibGluZUNhcCI6ICJyb3VuZCIsCiAgImxpbmVKb2luIjogInJvdW5kIiwKICAib3BhY2l0eSI6IDEuMCwKICAicmFkaXVzIjogNSwKICAic3Ryb2tlIjogdHJ1ZSwKICAid2VpZ2h0IjogMwp9CiAgICAgICAgICAgICAgICApLmFkZFRvKG1hcF8wYjBkNjgxMTUyNDU0YWIzOTYxNTZhZjZmMDFhYzYzNyk7CiAgICAgICAgICAgIAogICAgCiAgICAgICAgICAgIHZhciBwb3B1cF83ZDIwYjYyZjQxMDU0NWY4Yjk1NDUxNjVmZDM4ZjYzNyA9IEwucG9wdXAoe21heFdpZHRoOiAnMzAwJ30pOwoKICAgICAgICAgICAgCiAgICAgICAgICAgICAgICB2YXIgaHRtbF9lMGMzODhjNDA5NWY0NmU1OWE4MzhhZjk1MzM1MDBmOSA9ICQoJzxkaXYgaWQ9Imh0bWxfZTBjMzg4YzQwOTVmNDZlNTlhODM4YWY5NTMzNTAwZjkiIHN0eWxlPSJ3aWR0aDogMTAwLjAlOyBoZWlnaHQ6IDEwMC4wJTsiPiBMeXVsaW4gOCA8L2Rpdj4nKVswXTsKICAgICAgICAgICAgICAgIHBvcHVwXzdkMjBiNjJmNDEwNTQ1ZjhiOTU0NTE2NWZkMzhmNjM3LnNldENvbnRlbnQoaHRtbF9lMGMzODhjNDA5NWY0NmU1OWE4MzhhZjk1MzM1MDBmOSk7CiAgICAgICAgICAgIAoKICAgICAgICAgICAgY2lyY2xlX21hcmtlcl80M2RjNDYwMzViZTE0OTMzYjBlNjdhYjBlOWI3ZDFkZS5iaW5kUG9wdXAocG9wdXBfN2QyMGI2MmY0MTA1NDVmOGI5NTQ1MTY1ZmQzOGY2MzcpOwoKICAgICAgICAgICAgCiAgICAgICAgCiAgICAKICAgICAgICAgICAgdmFyIGNpcmNsZV9tYXJrZXJfZmEzM2VhYWQ5MDU4NDYyY2EwZWI5OTNmODZmY2EzMjAgPSBMLmNpcmNsZU1hcmtlcigKICAgICAgICAgICAgICAgIFs0Mi43MTgwNzEsMjMuMjY4NDg5OF0sCiAgICAgICAgICAgICAgICB7CiAgImJ1YmJsaW5nTW91c2VFdmVudHMiOiB0cnVlLAogICJjb2xvciI6ICJibHVlIiwKICAiZGFzaEFycmF5IjogbnVsbCwKICAiZGFzaE9mZnNldCI6IG51bGwsCiAgImZpbGwiOiB0cnVlLAogICJmaWxsQ29sb3IiOiAiIzMxODZjYyIsCiAgImZpbGxPcGFjaXR5IjogMC43LAogICJmaWxsUnVsZSI6ICJldmVub2RkIiwKICAibGluZUNhcCI6ICJyb3VuZCIsCiAgImxpbmVKb2luIjogInJvdW5kIiwKICAib3BhY2l0eSI6IDEuMCwKICAicmFkaXVzIjogNSwKICAic3Ryb2tlIjogdHJ1ZSwKICAid2VpZ2h0IjogMwp9CiAgICAgICAgICAgICAgICApLmFkZFRvKG1hcF8wYjBkNjgxMTUyNDU0YWIzOTYxNTZhZjZmMDFhYzYzNyk7CiAgICAgICAgICAgIAogICAgCiAgICAgICAgICAgIHZhciBwb3B1cF8xMWYwZDdhYzUyODk0NTBjYTlhYzcxNzlkOTBiMzJjMiA9IEwucG9wdXAoe21heFdpZHRoOiAnMzAwJ30pOwoKICAgICAgICAgICAgCiAgICAgICAgICAgICAgICB2YXIgaHRtbF9kMmY1NGVmNDE0ZmY0MzcxYWI3NDFiYjI2NDQ5NzMxZiA9ICQoJzxkaXYgaWQ9Imh0bWxfZDJmNTRlZjQxNGZmNDM3MWFiNzQxYmIyNjQ0OTczMWYiIHN0eWxlPSJ3aWR0aDogMTAwLjAlOyBoZWlnaHQ6IDEwMC4wJTsiPiBMeXVsaW4gOSA8L2Rpdj4nKVswXTsKICAgICAgICAgICAgICAgIHBvcHVwXzExZjBkN2FjNTI4OTQ1MGNhOWFjNzE3OWQ5MGIzMmMyLnNldENvbnRlbnQoaHRtbF9kMmY1NGVmNDE0ZmY0MzcxYWI3NDFiYjI2NDQ5NzMxZik7CiAgICAgICAgICAgIAoKICAgICAgICAgICAgY2lyY2xlX21hcmtlcl9mYTMzZWFhZDkwNTg0NjJjYTBlYjk5M2Y4NmZjYTMyMC5iaW5kUG9wdXAocG9wdXBfMTFmMGQ3YWM1Mjg5NDUwY2E5YWM3MTc5ZDkwYjMyYzIpOwoKICAgICAgICAgICAgCiAgICAgICAgCiAgICAKICAgICAgICAgICAgdmFyIGNpcmNsZV9tYXJrZXJfMTlhNmJjOTU5OTdlNDc5Mzk5MGU0OGNlYWVkN2Q1ODIgPSBMLmNpcmNsZU1hcmtlcigKICAgICAgICAgICAgICAgIFs0Mi43MDMyNTQ3LDIzLjM0ODI2NDddLAogICAgICAgICAgICAgICAgewogICJidWJibGluZ01vdXNlRXZlbnRzIjogdHJ1ZSwKICAiY29sb3IiOiAiYmx1ZSIsCiAgImRhc2hBcnJheSI6IG51bGwsCiAgImRhc2hPZmZzZXQiOiBudWxsLAogICJmaWxsIjogdHJ1ZSwKICAiZmlsbENvbG9yIjogIiMzMTg2Y2MiLAogICJmaWxsT3BhY2l0eSI6IDAuNywKICAiZmlsbFJ1bGUiOiAiZXZlbm9kZCIsCiAgImxpbmVDYXAiOiAicm91bmQiLAogICJsaW5lSm9pbiI6ICJyb3VuZCIsCiAgIm9wYWNpdHkiOiAxLjAsCiAgInJhZGl1cyI6IDUsCiAgInN0cm9rZSI6IHRydWUsCiAgIndlaWdodCI6IDMKfQogICAgICAgICAgICAgICAgKS5hZGRUbyhtYXBfMGIwZDY4MTE1MjQ1NGFiMzk2MTU2YWY2ZjAxYWM2MzcpOwogICAgICAgICAgICAKICAgIAogICAgICAgICAgICB2YXIgcG9wdXBfMzczZDA3Y2UxZmMyNDc1YmE1NDUzZDI4NzFlZjM5NzEgPSBMLnBvcHVwKHttYXhXaWR0aDogJzMwMCd9KTsKCiAgICAgICAgICAgIAogICAgICAgICAgICAgICAgdmFyIGh0bWxfZTQ1NzAzNWNmYmEwNDlhMTk0YjFkMTlhNjNjYmEyODUgPSAkKCc8ZGl2IGlkPSJodG1sX2U0NTcwMzVjZmJhMDQ5YTE5NGIxZDE5YTYzY2JhMjg1IiBzdHlsZT0id2lkdGg6IDEwMC4wJTsgaGVpZ2h0OiAxMDAuMCU7Ij4gTWFsYXNoZXZ0c2kgPC9kaXY+JylbMF07CiAgICAgICAgICAgICAgICBwb3B1cF8zNzNkMDdjZTFmYzI0NzViYTU0NTNkMjg3MWVmMzk3MS5zZXRDb250ZW50KGh0bWxfZTQ1NzAzNWNmYmEwNDlhMTk0YjFkMTlhNjNjYmEyODUpOwogICAgICAgICAgICAKCiAgICAgICAgICAgIGNpcmNsZV9tYXJrZXJfMTlhNmJjOTU5OTdlNDc5Mzk5MGU0OGNlYWVkN2Q1ODIuYmluZFBvcHVwKHBvcHVwXzM3M2QwN2NlMWZjMjQ3NWJhNTQ1M2QyODcxZWYzOTcxKTsKCiAgICAgICAgICAgIAogICAgICAgIAogICAgCiAgICAgICAgICAgIHZhciBjaXJjbGVfbWFya2VyX2ZiMDVmZGMxOGFlOTQ4ZWFhOTliYzBiNGI3M2Q3ZGY0ID0gTC5jaXJjbGVNYXJrZXIoCiAgICAgICAgICAgICAgICBbNDIuNjM2Mjk1MywyMy4zNTIyNTQ5XSwKICAgICAgICAgICAgICAgIHsKICAiYnViYmxpbmdNb3VzZUV2ZW50cyI6IHRydWUsCiAgImNvbG9yIjogImJsdWUiLAogICJkYXNoQXJyYXkiOiBudWxsLAogICJkYXNoT2Zmc2V0IjogbnVsbCwKICAiZmlsbCI6IHRydWUsCiAgImZpbGxDb2xvciI6ICIjMzE4NmNjIiwKICAiZmlsbE9wYWNpdHkiOiAwLjcsCiAgImZpbGxSdWxlIjogImV2ZW5vZGQiLAogICJsaW5lQ2FwIjogInJvdW5kIiwKICAibGluZUpvaW4iOiAicm91bmQiLAogICJvcGFjaXR5IjogMS4wLAogICJyYWRpdXMiOiA1LAogICJzdHJva2UiOiB0cnVlLAogICJ3ZWlnaHQiOiAzCn0KICAgICAgICAgICAgICAgICkuYWRkVG8obWFwXzBiMGQ2ODExNTI0NTRhYjM5NjE1NmFmNmYwMWFjNjM3KTsKICAgICAgICAgICAgCiAgICAKICAgICAgICAgICAgdmFyIHBvcHVwX2IwOTNkNGUwYzI2YzQ5MWRhNzcxYjJmNTJmZWVkMGMxID0gTC5wb3B1cCh7bWF4V2lkdGg6ICczMDAnfSk7CgogICAgICAgICAgICAKICAgICAgICAgICAgICAgIHZhciBodG1sX2NiYjgyMjQ4NDYyMDQ4ZTY4YTY4OWIwNzEwYzJjMmUwID0gJCgnPGRpdiBpZD0iaHRtbF9jYmI4MjI0ODQ2MjA0OGU2OGE2ODliMDcxMGMyYzJlMCIgc3R5bGU9IndpZHRoOiAxMDAuMCU7IGhlaWdodDogMTAwLjAlOyI+IE1hbGlub3ZhIERvbGluYSA8L2Rpdj4nKVswXTsKICAgICAgICAgICAgICAgIHBvcHVwX2IwOTNkNGUwYzI2YzQ5MWRhNzcxYjJmNTJmZWVkMGMxLnNldENvbnRlbnQoaHRtbF9jYmI4MjI0ODQ2MjA0OGU2OGE2ODliMDcxMGMyYzJlMCk7CiAgICAgICAgICAgIAoKICAgICAgICAgICAgY2lyY2xlX21hcmtlcl9mYjA1ZmRjMThhZTk0OGVhYTk5YmMwYjRiNzNkN2RmNC5iaW5kUG9wdXAocG9wdXBfYjA5M2Q0ZTBjMjZjNDkxZGE3NzFiMmY1MmZlZWQwYzEpOwoKICAgICAgICAgICAgCiAgICAgICAgCiAgICAKICAgICAgICAgICAgdmFyIGNpcmNsZV9tYXJrZXJfNDZlYjczN2Y2OGU0NGIxOGEzYTVhZDViNjA3ZjU4ODcgPSBMLmNpcmNsZU1hcmtlcigKICAgICAgICAgICAgICAgIFs0Mi42NTY2ODExLDIzLjI5MjQ0MDM5OTk5OTk5N10sCiAgICAgICAgICAgICAgICB7CiAgImJ1YmJsaW5nTW91c2VFdmVudHMiOiB0cnVlLAogICJjb2xvciI6ICJibHVlIiwKICAiZGFzaEFycmF5IjogbnVsbCwKICAiZGFzaE9mZnNldCI6IG51bGwsCiAgImZpbGwiOiB0cnVlLAogICJmaWxsQ29sb3IiOiAiIzMxODZjYyIsCiAgImZpbGxPcGFjaXR5IjogMC43LAogICJmaWxsUnVsZSI6ICJldmVub2RkIiwKICAibGluZUNhcCI6ICJyb3VuZCIsCiAgImxpbmVKb2luIjogInJvdW5kIiwKICAib3BhY2l0eSI6IDEuMCwKICAicmFkaXVzIjogNSwKICAic3Ryb2tlIjogdHJ1ZSwKICAid2VpZ2h0IjogMwp9CiAgICAgICAgICAgICAgICApLmFkZFRvKG1hcF8wYjBkNjgxMTUyNDU0YWIzOTYxNTZhZjZmMDFhYzYzNyk7CiAgICAgICAgICAgIAogICAgCiAgICAgICAgICAgIHZhciBwb3B1cF8yMTY0YTM0MTY5MGM0YjhiOTJmNTkxMjE0MTU4NjA1OCA9IEwucG9wdXAoe21heFdpZHRoOiAnMzAwJ30pOwoKICAgICAgICAgICAgCiAgICAgICAgICAgICAgICB2YXIgaHRtbF9jYTJmMWI3Y2I3MzM0ZmY4ODBlMjg2ODZlNzIxMDU4MiA9ICQoJzxkaXYgaWQ9Imh0bWxfY2EyZjFiN2NiNzMzNGZmODgwZTI4Njg2ZTcyMTA1ODIiIHN0eWxlPSJ3aWR0aDogMTAwLjAlOyBoZWlnaHQ6IDEwMC4wJTsiPiBNYW5hc3RpcnNraSBMaXZhZGkgPC9kaXY+JylbMF07CiAgICAgICAgICAgICAgICBwb3B1cF8yMTY0YTM0MTY5MGM0YjhiOTJmNTkxMjE0MTU4NjA1OC5zZXRDb250ZW50KGh0bWxfY2EyZjFiN2NiNzMzNGZmODgwZTI4Njg2ZTcyMTA1ODIpOwogICAgICAgICAgICAKCiAgICAgICAgICAgIGNpcmNsZV9tYXJrZXJfNDZlYjczN2Y2OGU0NGIxOGEzYTVhZDViNjA3ZjU4ODcuYmluZFBvcHVwKHBvcHVwXzIxNjRhMzQxNjkwYzRiOGI5MmY1OTEyMTQxNTg2MDU4KTsKCiAgICAgICAgICAgIAogICAgICAgIAogICAgCiAgICAgICAgICAgIHZhciBjaXJjbGVfbWFya2VyXzI4ZDViNGFlNWI0YzQ0YzU4ZTQ2MDJmNmUwOTJjYzM1ID0gTC5jaXJjbGVNYXJrZXIoCiAgICAgICAgICAgICAgICBbNDIuNjU3MjE1MSwyMy4zNzU1ODM2MDAwMDAwMDJdLAogICAgICAgICAgICAgICAgewogICJidWJibGluZ01vdXNlRXZlbnRzIjogdHJ1ZSwKICAiY29sb3IiOiAiYmx1ZSIsCiAgImRhc2hBcnJheSI6IG51bGwsCiAgImRhc2hPZmZzZXQiOiBudWxsLAogICJmaWxsIjogdHJ1ZSwKICAiZmlsbENvbG9yIjogIiMzMTg2Y2MiLAogICJmaWxsT3BhY2l0eSI6IDAuNywKICAiZmlsbFJ1bGUiOiAiZXZlbm9kZCIsCiAgImxpbmVDYXAiOiAicm91bmQiLAogICJsaW5lSm9pbiI6ICJyb3VuZCIsCiAgIm9wYWNpdHkiOiAxLjAsCiAgInJhZGl1cyI6IDUsCiAgInN0cm9rZSI6IHRydWUsCiAgIndlaWdodCI6IDMKfQogICAgICAgICAgICAgICAgKS5hZGRUbyhtYXBfMGIwZDY4MTE1MjQ1NGFiMzk2MTU2YWY2ZjAxYWM2MzcpOwogICAgICAgICAgICAKICAgIAogICAgICAgICAgICB2YXIgcG9wdXBfOWNhMTEwOWYwYjhiNDlkYWFkNWU2ZjdmYTllYmM2NWQgPSBMLnBvcHVwKHttYXhXaWR0aDogJzMwMCd9KTsKCiAgICAgICAgICAgIAogICAgICAgICAgICAgICAgdmFyIGh0bWxfMzc3N2YwYzdlNmE2NGViMWExYjUzZjZkYWUxMTNlNzggPSAkKCc8ZGl2IGlkPSJodG1sXzM3NzdmMGM3ZTZhNjRlYjFhMWI1M2Y2ZGFlMTEzZTc4IiBzdHlsZT0id2lkdGg6IDEwMC4wJTsgaGVpZ2h0OiAxMDAuMCU7Ij4gTWxhZG9zdCAxIDwvZGl2PicpWzBdOwogICAgICAgICAgICAgICAgcG9wdXBfOWNhMTEwOWYwYjhiNDlkYWFkNWU2ZjdmYTllYmM2NWQuc2V0Q29udGVudChodG1sXzM3NzdmMGM3ZTZhNjRlYjFhMWI1M2Y2ZGFlMTEzZTc4KTsKICAgICAgICAgICAgCgogICAgICAgICAgICBjaXJjbGVfbWFya2VyXzI4ZDViNGFlNWI0YzQ0YzU4ZTQ2MDJmNmUwOTJjYzM1LmJpbmRQb3B1cChwb3B1cF85Y2ExMTA5ZjBiOGI0OWRhYWQ1ZTZmN2ZhOWViYzY1ZCk7CgogICAgICAgICAgICAKICAgICAgICAKICAgIAogICAgICAgICAgICB2YXIgY2lyY2xlX21hcmtlcl81YzVhZmI2YmU1MTA0ZjgyYmY4Mzc0YTBhNmM1NmNkMCA9IEwuY2lyY2xlTWFya2VyKAogICAgICAgICAgICAgICAgWzQyLjY0NDQ2NjQsMjMuMzY5NDc4Ml0sCiAgICAgICAgICAgICAgICB7CiAgImJ1YmJsaW5nTW91c2VFdmVudHMiOiB0cnVlLAogICJjb2xvciI6ICJibHVlIiwKICAiZGFzaEFycmF5IjogbnVsbCwKICAiZGFzaE9mZnNldCI6IG51bGwsCiAgImZpbGwiOiB0cnVlLAogICJmaWxsQ29sb3IiOiAiIzMxODZjYyIsCiAgImZpbGxPcGFjaXR5IjogMC43LAogICJmaWxsUnVsZSI6ICJldmVub2RkIiwKICAibGluZUNhcCI6ICJyb3VuZCIsCiAgImxpbmVKb2luIjogInJvdW5kIiwKICAib3BhY2l0eSI6IDEuMCwKICAicmFkaXVzIjogNSwKICAic3Ryb2tlIjogdHJ1ZSwKICAid2VpZ2h0IjogMwp9CiAgICAgICAgICAgICAgICApLmFkZFRvKG1hcF8wYjBkNjgxMTUyNDU0YWIzOTYxNTZhZjZmMDFhYzYzNyk7CiAgICAgICAgICAgIAogICAgCiAgICAgICAgICAgIHZhciBwb3B1cF81Mzg0NDlhNTA0NDY0MjZlODdlYzE0OTY5ZGI2Njc1YiA9IEwucG9wdXAoe21heFdpZHRoOiAnMzAwJ30pOwoKICAgICAgICAgICAgCiAgICAgICAgICAgICAgICB2YXIgaHRtbF9lMTk1MjE5OTgzZmM0ZGNiODcxNjlkZDZiNDVhMWI5OCA9ICQoJzxkaXYgaWQ9Imh0bWxfZTE5NTIxOTk4M2ZjNGRjYjg3MTY5ZGQ2YjQ1YTFiOTgiIHN0eWxlPSJ3aWR0aDogMTAwLjAlOyBoZWlnaHQ6IDEwMC4wJTsiPiBNbGFkb3N0IDIgPC9kaXY+JylbMF07CiAgICAgICAgICAgICAgICBwb3B1cF81Mzg0NDlhNTA0NDY0MjZlODdlYzE0OTY5ZGI2Njc1Yi5zZXRDb250ZW50KGh0bWxfZTE5NTIxOTk4M2ZjNGRjYjg3MTY5ZGQ2YjQ1YTFiOTgpOwogICAgICAgICAgICAKCiAgICAgICAgICAgIGNpcmNsZV9tYXJrZXJfNWM1YWZiNmJlNTEwNGY4MmJmODM3NGEwYTZjNTZjZDAuYmluZFBvcHVwKHBvcHVwXzUzODQ0OWE1MDQ0NjQyNmU4N2VjMTQ5NjlkYjY2NzViKTsKCiAgICAgICAgICAgIAogICAgICAgIAogICAgCiAgICAgICAgICAgIHZhciBjaXJjbGVfbWFya2VyX2FkNDAwZjNlODMwNDQyNmVhM2NkZThmMTE4Yzc4YjhjID0gTC5jaXJjbGVNYXJrZXIoCiAgICAgICAgICAgICAgICBbNDIuNjQwMTU1Nzk5OTk5OTk1LDIzLjM4MTgxMTFdLAogICAgICAgICAgICAgICAgewogICJidWJibGluZ01vdXNlRXZlbnRzIjogdHJ1ZSwKICAiY29sb3IiOiAiYmx1ZSIsCiAgImRhc2hBcnJheSI6IG51bGwsCiAgImRhc2hPZmZzZXQiOiBudWxsLAogICJmaWxsIjogdHJ1ZSwKICAiZmlsbENvbG9yIjogIiMzMTg2Y2MiLAogICJmaWxsT3BhY2l0eSI6IDAuNywKICAiZmlsbFJ1bGUiOiAiZXZlbm9kZCIsCiAgImxpbmVDYXAiOiAicm91bmQiLAogICJsaW5lSm9pbiI6ICJyb3VuZCIsCiAgIm9wYWNpdHkiOiAxLjAsCiAgInJhZGl1cyI6IDUsCiAgInN0cm9rZSI6IHRydWUsCiAgIndlaWdodCI6IDMKfQogICAgICAgICAgICAgICAgKS5hZGRUbyhtYXBfMGIwZDY4MTE1MjQ1NGFiMzk2MTU2YWY2ZjAxYWM2MzcpOwogICAgICAgICAgICAKICAgIAogICAgICAgICAgICB2YXIgcG9wdXBfZDNkYmNlYjM1ZGY3NDU5Mzk3ODdiZDUxN2JlZWRiMmUgPSBMLnBvcHVwKHttYXhXaWR0aDogJzMwMCd9KTsKCiAgICAgICAgICAgIAogICAgICAgICAgICAgICAgdmFyIGh0bWxfMzU2ODc5MTRhNDE0NDBhNWE1MGZjMTU3OThkZTc5ODkgPSAkKCc8ZGl2IGlkPSJodG1sXzM1Njg3OTE0YTQxNDQwYTVhNTBmYzE1Nzk4ZGU3OTg5IiBzdHlsZT0id2lkdGg6IDEwMC4wJTsgaGVpZ2h0OiAxMDAuMCU7Ij4gTWxhZG9zdCAzIDwvZGl2PicpWzBdOwogICAgICAgICAgICAgICAgcG9wdXBfZDNkYmNlYjM1ZGY3NDU5Mzk3ODdiZDUxN2JlZWRiMmUuc2V0Q29udGVudChodG1sXzM1Njg3OTE0YTQxNDQwYTVhNTBmYzE1Nzk4ZGU3OTg5KTsKICAgICAgICAgICAgCgogICAgICAgICAgICBjaXJjbGVfbWFya2VyX2FkNDAwZjNlODMwNDQyNmVhM2NkZThmMTE4Yzc4YjhjLmJpbmRQb3B1cChwb3B1cF9kM2RiY2ViMzVkZjc0NTkzOTc4N2JkNTE3YmVlZGIyZSk7CgogICAgICAgICAgICAKICAgICAgICAKICAgIAogICAgICAgICAgICB2YXIgY2lyY2xlX21hcmtlcl9mNTk0NzFmZGQyMzg0MTdhOGUyYjQ0OWRmYWU5NTRiZSA9IEwuY2lyY2xlTWFya2VyKAogICAgICAgICAgICAgICAgWzQyLjYzMTgwNTQsMjMuMzgwNzEyNV0sCiAgICAgICAgICAgICAgICB7CiAgImJ1YmJsaW5nTW91c2VFdmVudHMiOiB0cnVlLAogICJjb2xvciI6ICJibHVlIiwKICAiZGFzaEFycmF5IjogbnVsbCwKICAiZGFzaE9mZnNldCI6IG51bGwsCiAgImZpbGwiOiB0cnVlLAogICJmaWxsQ29sb3IiOiAiIzMxODZjYyIsCiAgImZpbGxPcGFjaXR5IjogMC43LAogICJmaWxsUnVsZSI6ICJldmVub2RkIiwKICAibGluZUNhcCI6ICJyb3VuZCIsCiAgImxpbmVKb2luIjogInJvdW5kIiwKICAib3BhY2l0eSI6IDEuMCwKICAicmFkaXVzIjogNSwKICAic3Ryb2tlIjogdHJ1ZSwKICAid2VpZ2h0IjogMwp9CiAgICAgICAgICAgICAgICApLmFkZFRvKG1hcF8wYjBkNjgxMTUyNDU0YWIzOTYxNTZhZjZmMDFhYzYzNyk7CiAgICAgICAgICAgIAogICAgCiAgICAgICAgICAgIHZhciBwb3B1cF8xYmI0ZmY0ZTM1MzQ0ZWVjYmYyOTg3YjYyYWEwYTgwNiA9IEwucG9wdXAoe21heFdpZHRoOiAnMzAwJ30pOwoKICAgICAgICAgICAgCiAgICAgICAgICAgICAgICB2YXIgaHRtbF9kMjNiOTlhYTExMGQ0NDcyODlmMGY1MTk5ZmMwZmNhNSA9ICQoJzxkaXYgaWQ9Imh0bWxfZDIzYjk5YWExMTBkNDQ3Mjg5ZjBmNTE5OWZjMGZjYTUiIHN0eWxlPSJ3aWR0aDogMTAwLjAlOyBoZWlnaHQ6IDEwMC4wJTsiPiBNbGFkb3N0IDQgPC9kaXY+JylbMF07CiAgICAgICAgICAgICAgICBwb3B1cF8xYmI0ZmY0ZTM1MzQ0ZWVjYmYyOTg3YjYyYWEwYTgwNi5zZXRDb250ZW50KGh0bWxfZDIzYjk5YWExMTBkNDQ3Mjg5ZjBmNTE5OWZjMGZjYTUpOwogICAgICAgICAgICAKCiAgICAgICAgICAgIGNpcmNsZV9tYXJrZXJfZjU5NDcxZmRkMjM4NDE3YThlMmI0NDlkZmFlOTU0YmUuYmluZFBvcHVwKHBvcHVwXzFiYjRmZjRlMzUzNDRlZWNiZjI5ODdiNjJhYTBhODA2KTsKCiAgICAgICAgICAgIAogICAgICAgIAogICAgCiAgICAgICAgICAgIHZhciBjaXJjbGVfbWFya2VyXzQ2MzNjNjYyY2RiNzQ0ZmM5NTg1MjdkNzMwMzc0OWFjID0gTC5jaXJjbGVNYXJrZXIoCiAgICAgICAgICAgICAgICBbNDIuNzI1MDk3NywyMy4yNzQwMDIxXSwKICAgICAgICAgICAgICAgIHsKICAiYnViYmxpbmdNb3VzZUV2ZW50cyI6IHRydWUsCiAgImNvbG9yIjogImJsdWUiLAogICJkYXNoQXJyYXkiOiBudWxsLAogICJkYXNoT2Zmc2V0IjogbnVsbCwKICAiZmlsbCI6IHRydWUsCiAgImZpbGxDb2xvciI6ICIjMzE4NmNjIiwKICAiZmlsbE9wYWNpdHkiOiAwLjcsCiAgImZpbGxSdWxlIjogImV2ZW5vZGQiLAogICJsaW5lQ2FwIjogInJvdW5kIiwKICAibGluZUpvaW4iOiAicm91bmQiLAogICJvcGFjaXR5IjogMS4wLAogICJyYWRpdXMiOiA1LAogICJzdHJva2UiOiB0cnVlLAogICJ3ZWlnaHQiOiAzCn0KICAgICAgICAgICAgICAgICkuYWRkVG8obWFwXzBiMGQ2ODExNTI0NTRhYjM5NjE1NmFmNmYwMWFjNjM3KTsKICAgICAgICAgICAgCiAgICAKICAgICAgICAgICAgdmFyIHBvcHVwXzBlZGQ3ZWNiNzM4YTRkZDJhOTIxYzY1ZWY4MTIzMDE3ID0gTC5wb3B1cCh7bWF4V2lkdGg6ICczMDAnfSk7CgogICAgICAgICAgICAKICAgICAgICAgICAgICAgIHZhciBodG1sXzljMTNlYTgzOGE2YzQ2MmZiNzAwZTg5ZDY2MDk2YmM4ID0gJCgnPGRpdiBpZD0iaHRtbF85YzEzZWE4MzhhNmM0NjJmYjcwMGU4OWQ2NjA5NmJjOCIgc3R5bGU9IndpZHRoOiAxMDAuMCU7IGhlaWdodDogMTAwLjAlOyI+IE1vZGVybm8gcHJlZGdyYWRpZSA8L2Rpdj4nKVswXTsKICAgICAgICAgICAgICAgIHBvcHVwXzBlZGQ3ZWNiNzM4YTRkZDJhOTIxYzY1ZWY4MTIzMDE3LnNldENvbnRlbnQoaHRtbF85YzEzZWE4MzhhNmM0NjJmYjcwMGU4OWQ2NjA5NmJjOCk7CiAgICAgICAgICAgIAoKICAgICAgICAgICAgY2lyY2xlX21hcmtlcl80NjMzYzY2MmNkYjc0NGZjOTU4NTI3ZDczMDM3NDlhYy5iaW5kUG9wdXAocG9wdXBfMGVkZDdlY2I3MzhhNGRkMmE5MjFjNjVlZjgxMjMwMTcpOwoKICAgICAgICAgICAgCiAgICAgICAgCiAgICAKICAgICAgICAgICAgdmFyIGNpcmNsZV9tYXJrZXJfOWYxNTNjOGU3MWQ0NGJlMmI3ODcwNTJiMmM1ZmZiZGMgPSBMLmNpcmNsZU1hcmtlcigKICAgICAgICAgICAgICAgIFs0Mi42Njc0NSwyMy4yOTUyNDk4OTk5OTk5OThdLAogICAgICAgICAgICAgICAgewogICJidWJibGluZ01vdXNlRXZlbnRzIjogdHJ1ZSwKICAiY29sb3IiOiAiYmx1ZSIsCiAgImRhc2hBcnJheSI6IG51bGwsCiAgImRhc2hPZmZzZXQiOiBudWxsLAogICJmaWxsIjogdHJ1ZSwKICAiZmlsbENvbG9yIjogIiMzMTg2Y2MiLAogICJmaWxsT3BhY2l0eSI6IDAuNywKICAiZmlsbFJ1bGUiOiAiZXZlbm9kZCIsCiAgImxpbmVDYXAiOiAicm91bmQiLAogICJsaW5lSm9pbiI6ICJyb3VuZCIsCiAgIm9wYWNpdHkiOiAxLjAsCiAgInJhZGl1cyI6IDUsCiAgInN0cm9rZSI6IHRydWUsCiAgIndlaWdodCI6IDMKfQogICAgICAgICAgICAgICAgKS5hZGRUbyhtYXBfMGIwZDY4MTE1MjQ1NGFiMzk2MTU2YWY2ZjAxYWM2MzcpOwogICAgICAgICAgICAKICAgIAogICAgICAgICAgICB2YXIgcG9wdXBfYmEwNzg1NDFkYjc3NDhhMmE5ODgxMzc4NDA2NGQ2M2YgPSBMLnBvcHVwKHttYXhXaWR0aDogJzMwMCd9KTsKCiAgICAgICAgICAgIAogICAgICAgICAgICAgICAgdmFyIGh0bWxfMzBjNzRmNDdjMjY0NDI0MWI0OGI1MjQwMjkwZDY4MzggPSAkKCc8ZGl2IGlkPSJodG1sXzMwYzc0ZjQ3YzI2NDQyNDFiNDhiNTI0MDI5MGQ2ODM4IiBzdHlsZT0id2lkdGg6IDEwMC4wJTsgaGVpZ2h0OiAxMDAuMCU7Ij4gTW90b3Bpc3RhIDwvZGl2PicpWzBdOwogICAgICAgICAgICAgICAgcG9wdXBfYmEwNzg1NDFkYjc3NDhhMmE5ODgxMzc4NDA2NGQ2M2Yuc2V0Q29udGVudChodG1sXzMwYzc0ZjQ3YzI2NDQyNDFiNDhiNTI0MDI5MGQ2ODM4KTsKICAgICAgICAgICAgCgogICAgICAgICAgICBjaXJjbGVfbWFya2VyXzlmMTUzYzhlNzFkNDRiZTJiNzg3MDUyYjJjNWZmYmRjLmJpbmRQb3B1cChwb3B1cF9iYTA3ODU0MWRiNzc0OGEyYTk4ODEzNzg0MDY0ZDYzZik7CgogICAgICAgICAgICAKICAgICAgICAKICAgIAogICAgICAgICAgICB2YXIgY2lyY2xlX21hcmtlcl8yZGE4NmY3M2M5N2Q0MmZiOThlZWUxMDk0YmNiYmI4OCA9IEwuY2lyY2xlTWFya2VyKAogICAgICAgICAgICAgICAgWzQyLjY2MjI0MjksMjMuMzY0NzE3NDk5OTk5OTk4XSwKICAgICAgICAgICAgICAgIHsKICAiYnViYmxpbmdNb3VzZUV2ZW50cyI6IHRydWUsCiAgImNvbG9yIjogImJsdWUiLAogICJkYXNoQXJyYXkiOiBudWxsLAogICJkYXNoT2Zmc2V0IjogbnVsbCwKICAiZmlsbCI6IHRydWUsCiAgImZpbGxDb2xvciI6ICIjMzE4NmNjIiwKICAiZmlsbE9wYWNpdHkiOiAwLjcsCiAgImZpbGxSdWxlIjogImV2ZW5vZGQiLAogICJsaW5lQ2FwIjogInJvdW5kIiwKICAibGluZUpvaW4iOiAicm91bmQiLAogICJvcGFjaXR5IjogMS4wLAogICJyYWRpdXMiOiA1LAogICJzdHJva2UiOiB0cnVlLAogICJ3ZWlnaHQiOiAzCn0KICAgICAgICAgICAgICAgICkuYWRkVG8obWFwXzBiMGQ2ODExNTI0NTRhYjM5NjE1NmFmNmYwMWFjNjM3KTsKICAgICAgICAgICAgCiAgICAKICAgICAgICAgICAgdmFyIHBvcHVwX2IwNWI5ZjFiMDgwYzRjYzBiNmE3OGZhM2MzMTQzYmQwID0gTC5wb3B1cCh7bWF4V2lkdGg6ICczMDAnfSk7CgogICAgICAgICAgICAKICAgICAgICAgICAgICAgIHZhciBodG1sX2Q0YjA4NDY3N2E5OTRkOGViODBmNTYxM2E1OTg1NDI0ID0gJCgnPGRpdiBpZD0iaHRtbF9kNGIwODQ2NzdhOTk0ZDhlYjgwZjU2MTNhNTk4NTQyNCIgc3R5bGU9IndpZHRoOiAxMDAuMCU7IGhlaWdodDogMTAwLjAlOyI+IE11c2FnZW5pdHNhIDwvZGl2PicpWzBdOwogICAgICAgICAgICAgICAgcG9wdXBfYjA1YjlmMWIwODBjNGNjMGI2YTc4ZmEzYzMxNDNiZDAuc2V0Q29udGVudChodG1sX2Q0YjA4NDY3N2E5OTRkOGViODBmNTYxM2E1OTg1NDI0KTsKICAgICAgICAgICAgCgogICAgICAgICAgICBjaXJjbGVfbWFya2VyXzJkYTg2ZjczYzk3ZDQyZmI5OGVlZTEwOTRiY2JiYjg4LmJpbmRQb3B1cChwb3B1cF9iMDViOWYxYjA4MGM0Y2MwYjZhNzhmYTNjMzE0M2JkMCk7CgogICAgICAgICAgICAKICAgICAgICAKICAgIAogICAgICAgICAgICB2YXIgY2lyY2xlX21hcmtlcl9mOGU1ZmQ2NTdiZjg0OTkwOWUyYzY4OTNmMDViYTIyMiA9IEwuY2lyY2xlTWFya2VyKAogICAgICAgICAgICAgICAgWzQyLjcyNzg1MTksMjMuMjk1NjkwNV0sCiAgICAgICAgICAgICAgICB7CiAgImJ1YmJsaW5nTW91c2VFdmVudHMiOiB0cnVlLAogICJjb2xvciI6ICJibHVlIiwKICAiZGFzaEFycmF5IjogbnVsbCwKICAiZGFzaE9mZnNldCI6IG51bGwsCiAgImZpbGwiOiB0cnVlLAogICJmaWxsQ29sb3IiOiAiIzMxODZjYyIsCiAgImZpbGxPcGFjaXR5IjogMC43LAogICJmaWxsUnVsZSI6ICJldmVub2RkIiwKICAibGluZUNhcCI6ICJyb3VuZCIsCiAgImxpbmVKb2luIjogInJvdW5kIiwKICAib3BhY2l0eSI6IDEuMCwKICAicmFkaXVzIjogNSwKICAic3Ryb2tlIjogdHJ1ZSwKICAid2VpZ2h0IjogMwp9CiAgICAgICAgICAgICAgICApLmFkZFRvKG1hcF8wYjBkNjgxMTUyNDU0YWIzOTYxNTZhZjZmMDFhYzYzNyk7CiAgICAgICAgICAgIAogICAgCiAgICAgICAgICAgIHZhciBwb3B1cF8wYmMzN2NjYmQyMzA0Yzc2OTc3MzM3OGIxNWMxODJkYSA9IEwucG9wdXAoe21heFdpZHRoOiAnMzAwJ30pOwoKICAgICAgICAgICAgCiAgICAgICAgICAgICAgICB2YXIgaHRtbF9mYmQwZGJhM2QxMzM0YmVkYTYyNTI3NzI4ZjcxMzVhOSA9ICQoJzxkaXYgaWQ9Imh0bWxfZmJkMGRiYTNkMTMzNGJlZGE2MjUyNzcyOGY3MTM1YTkiIHN0eWxlPSJ3aWR0aDogMTAwLjAlOyBoZWlnaHQ6IDEwMC4wJTsiPiBOYWRlamRhIDwvZGl2PicpWzBdOwogICAgICAgICAgICAgICAgcG9wdXBfMGJjMzdjY2JkMjMwNGM3Njk3NzMzNzhiMTVjMTgyZGEuc2V0Q29udGVudChodG1sX2ZiZDBkYmEzZDEzMzRiZWRhNjI1Mjc3MjhmNzEzNWE5KTsKICAgICAgICAgICAgCgogICAgICAgICAgICBjaXJjbGVfbWFya2VyX2Y4ZTVmZDY1N2JmODQ5OTA5ZTJjNjg5M2YwNWJhMjIyLmJpbmRQb3B1cChwb3B1cF8wYmMzN2NjYmQyMzA0Yzc2OTc3MzM3OGIxNWMxODJkYSk7CgogICAgICAgICAgICAKICAgICAgICAKICAgIAogICAgICAgICAgICB2YXIgY2lyY2xlX21hcmtlcl8wNWI4Njk3Y2E4NTY0NjQxYTQ4MmY2NGExYjIxYzQ1MSA9IEwuY2lyY2xlTWFya2VyKAogICAgICAgICAgICAgICAgWzQyLjczMTQ3MiwyMy4yOTE5NTAyXSwKICAgICAgICAgICAgICAgIHsKICAiYnViYmxpbmdNb3VzZUV2ZW50cyI6IHRydWUsCiAgImNvbG9yIjogImJsdWUiLAogICJkYXNoQXJyYXkiOiBudWxsLAogICJkYXNoT2Zmc2V0IjogbnVsbCwKICAiZmlsbCI6IHRydWUsCiAgImZpbGxDb2xvciI6ICIjMzE4NmNjIiwKICAiZmlsbE9wYWNpdHkiOiAwLjcsCiAgImZpbGxSdWxlIjogImV2ZW5vZGQiLAogICJsaW5lQ2FwIjogInJvdW5kIiwKICAibGluZUpvaW4iOiAicm91bmQiLAogICJvcGFjaXR5IjogMS4wLAogICJyYWRpdXMiOiA1LAogICJzdHJva2UiOiB0cnVlLAogICJ3ZWlnaHQiOiAzCn0KICAgICAgICAgICAgICAgICkuYWRkVG8obWFwXzBiMGQ2ODExNTI0NTRhYjM5NjE1NmFmNmYwMWFjNjM3KTsKICAgICAgICAgICAgCiAgICAKICAgICAgICAgICAgdmFyIHBvcHVwX2MzODU3YjY1ZmZjOTQxNWI4YTFmMGU4MTIwMzJlNzU2ID0gTC5wb3B1cCh7bWF4V2lkdGg6ICczMDAnfSk7CgogICAgICAgICAgICAKICAgICAgICAgICAgICAgIHZhciBodG1sXzc4M2YxYjdhOTY3OTQ0NjY5ZTQyODdiZDQyN2M3OWM1ID0gJCgnPGRpdiBpZD0iaHRtbF83ODNmMWI3YTk2Nzk0NDY2OWU0Mjg3YmQ0MjdjNzljNSIgc3R5bGU9IndpZHRoOiAxMDAuMCU7IGhlaWdodDogMTAwLjAlOyI+IE5hZGVqZGEgMyA8L2Rpdj4nKVswXTsKICAgICAgICAgICAgICAgIHBvcHVwX2MzODU3YjY1ZmZjOTQxNWI4YTFmMGU4MTIwMzJlNzU2LnNldENvbnRlbnQoaHRtbF83ODNmMWI3YTk2Nzk0NDY2OWU0Mjg3YmQ0MjdjNzljNSk7CiAgICAgICAgICAgIAoKICAgICAgICAgICAgY2lyY2xlX21hcmtlcl8wNWI4Njk3Y2E4NTY0NjQxYTQ4MmY2NGExYjIxYzQ1MS5iaW5kUG9wdXAocG9wdXBfYzM4NTdiNjVmZmM5NDE1YjhhMWYwZTgxMjAzMmU3NTYpOwoKICAgICAgICAgICAgCiAgICAgICAgCiAgICAKICAgICAgICAgICAgdmFyIGNpcmNsZV9tYXJrZXJfOTdhZjYxN2EwZDE5NGM0MmJhOTA3OWY2MDg2N2IzZDQgPSBMLmNpcmNsZU1hcmtlcigKICAgICAgICAgICAgICAgIFs0Mi43NDM4NjIyLDIzLjI2NTgyMTVdLAogICAgICAgICAgICAgICAgewogICJidWJibGluZ01vdXNlRXZlbnRzIjogdHJ1ZSwKICAiY29sb3IiOiAiYmx1ZSIsCiAgImRhc2hBcnJheSI6IG51bGwsCiAgImRhc2hPZmZzZXQiOiBudWxsLAogICJmaWxsIjogdHJ1ZSwKICAiZmlsbENvbG9yIjogIiMzMTg2Y2MiLAogICJmaWxsT3BhY2l0eSI6IDAuNywKICAiZmlsbFJ1bGUiOiAiZXZlbm9kZCIsCiAgImxpbmVDYXAiOiAicm91bmQiLAogICJsaW5lSm9pbiI6ICJyb3VuZCIsCiAgIm9wYWNpdHkiOiAxLjAsCiAgInJhZGl1cyI6IDUsCiAgInN0cm9rZSI6IHRydWUsCiAgIndlaWdodCI6IDMKfQogICAgICAgICAgICAgICAgKS5hZGRUbyhtYXBfMGIwZDY4MTE1MjQ1NGFiMzk2MTU2YWY2ZjAxYWM2MzcpOwogICAgICAgICAgICAKICAgIAogICAgICAgICAgICB2YXIgcG9wdXBfNGQwMTdjZGVkOTY4NDNlZGJjYzhkMmE1YTM2ODJlMTUgPSBMLnBvcHVwKHttYXhXaWR0aDogJzMwMCd9KTsKCiAgICAgICAgICAgIAogICAgICAgICAgICAgICAgdmFyIGh0bWxfNDdjMTA2MjcyZGI5NGY1ZmJlMmRjM2VkM2UwZmFhNDIgPSAkKCc8ZGl2IGlkPSJodG1sXzQ3YzEwNjI3MmRiOTRmNWZiZTJkYzNlZDNlMGZhYTQyIiBzdHlsZT0id2lkdGg6IDEwMC4wJTsgaGVpZ2h0OiAxMDAuMCU7Ij4gT2JlbHlhIDwvZGl2PicpWzBdOwogICAgICAgICAgICAgICAgcG9wdXBfNGQwMTdjZGVkOTY4NDNlZGJjYzhkMmE1YTM2ODJlMTUuc2V0Q29udGVudChodG1sXzQ3YzEwNjI3MmRiOTRmNWZiZTJkYzNlZDNlMGZhYTQyKTsKICAgICAgICAgICAgCgogICAgICAgICAgICBjaXJjbGVfbWFya2VyXzk3YWY2MTdhMGQxOTRjNDJiYTkwNzlmNjA4NjdiM2Q0LmJpbmRQb3B1cChwb3B1cF80ZDAxN2NkZWQ5Njg0M2VkYmNjOGQyYTVhMzY4MmUxNSk7CgogICAgICAgICAgICAKICAgICAgICAKICAgIAogICAgICAgICAgICB2YXIgY2lyY2xlX21hcmtlcl9lNzU2ZDViNTg5NDI0NzRmYTNiMzM4YWJiMTc3M2M5YyA9IEwuY2lyY2xlTWFya2VyKAogICAgICAgICAgICAgICAgWzQyLjc0NTc0NjYwMDAwMDAwNCwyMy4yNzQ3MzQ1XSwKICAgICAgICAgICAgICAgIHsKICAiYnViYmxpbmdNb3VzZUV2ZW50cyI6IHRydWUsCiAgImNvbG9yIjogImJsdWUiLAogICJkYXNoQXJyYXkiOiBudWxsLAogICJkYXNoT2Zmc2V0IjogbnVsbCwKICAiZmlsbCI6IHRydWUsCiAgImZpbGxDb2xvciI6ICIjMzE4NmNjIiwKICAiZmlsbE9wYWNpdHkiOiAwLjcsCiAgImZpbGxSdWxlIjogImV2ZW5vZGQiLAogICJsaW5lQ2FwIjogInJvdW5kIiwKICAibGluZUpvaW4iOiAicm91bmQiLAogICJvcGFjaXR5IjogMS4wLAogICJyYWRpdXMiOiA1LAogICJzdHJva2UiOiB0cnVlLAogICJ3ZWlnaHQiOiAzCn0KICAgICAgICAgICAgICAgICkuYWRkVG8obWFwXzBiMGQ2ODExNTI0NTRhYjM5NjE1NmFmNmYwMWFjNjM3KTsKICAgICAgICAgICAgCiAgICAKICAgICAgICAgICAgdmFyIHBvcHVwXzFmOGVjNWUzOTJkZDRkM2I5ZjFmNzEyMDUxN2ZmNmJlID0gTC5wb3B1cCh7bWF4V2lkdGg6ICczMDAnfSk7CgogICAgICAgICAgICAKICAgICAgICAgICAgICAgIHZhciBodG1sXzU2ZDA2OTY4YzUzMjRkZWM4NTY2NmFjZGRjOWJjOGIwID0gJCgnPGRpdiBpZD0iaHRtbF81NmQwNjk2OGM1MzI0ZGVjODU2NjZhY2RkYzliYzhiMCIgc3R5bGU9IndpZHRoOiAxMDAuMCU7IGhlaWdodDogMTAwLjAlOyI+IE9iZWx5YSAyIDwvZGl2PicpWzBdOwogICAgICAgICAgICAgICAgcG9wdXBfMWY4ZWM1ZTM5MmRkNGQzYjlmMWY3MTIwNTE3ZmY2YmUuc2V0Q29udGVudChodG1sXzU2ZDA2OTY4YzUzMjRkZWM4NTY2NmFjZGRjOWJjOGIwKTsKICAgICAgICAgICAgCgogICAgICAgICAgICBjaXJjbGVfbWFya2VyX2U3NTZkNWI1ODk0MjQ3NGZhM2IzMzhhYmIxNzczYzljLmJpbmRQb3B1cChwb3B1cF8xZjhlYzVlMzkyZGQ0ZDNiOWYxZjcxMjA1MTdmZjZiZSk7CgogICAgICAgICAgICAKICAgICAgICAKICAgIAogICAgICAgICAgICB2YXIgY2lyY2xlX21hcmtlcl9kMGI4NTExNjJkMzc0NzU0OGFkYzcwNDVkMGQ3NDMzZSA9IEwuY2lyY2xlTWFya2VyKAogICAgICAgICAgICAgICAgWzQyLjY3MzgyODEsMjMuMjYxMzA0OV0sCiAgICAgICAgICAgICAgICB7CiAgImJ1YmJsaW5nTW91c2VFdmVudHMiOiB0cnVlLAogICJjb2xvciI6ICJibHVlIiwKICAiZGFzaEFycmF5IjogbnVsbCwKICAiZGFzaE9mZnNldCI6IG51bGwsCiAgImZpbGwiOiB0cnVlLAogICJmaWxsQ29sb3IiOiAiIzMxODZjYyIsCiAgImZpbGxPcGFjaXR5IjogMC43LAogICJmaWxsUnVsZSI6ICJldmVub2RkIiwKICAibGluZUNhcCI6ICJyb3VuZCIsCiAgImxpbmVKb2luIjogInJvdW5kIiwKICAib3BhY2l0eSI6IDEuMCwKICAicmFkaXVzIjogNSwKICAic3Ryb2tlIjogdHJ1ZSwKICAid2VpZ2h0IjogMwp9CiAgICAgICAgICAgICAgICApLmFkZFRvKG1hcF8wYjBkNjgxMTUyNDU0YWIzOTYxNTZhZjZmMDFhYzYzNyk7CiAgICAgICAgICAgIAogICAgCiAgICAgICAgICAgIHZhciBwb3B1cF9iZTVkNDA3NDNiM2E0OTViYTJkZjExNzk4NzBhNmI4NSA9IEwucG9wdXAoe21heFdpZHRoOiAnMzAwJ30pOwoKICAgICAgICAgICAgCiAgICAgICAgICAgICAgICB2YXIgaHRtbF8yMjcxNzI2MDM0ODk0MWIyYjhlZTE1YjdiMmI0M2E0ZSA9ICQoJzxkaXYgaWQ9Imh0bWxfMjI3MTcyNjAzNDg5NDFiMmI4ZWUxNWI3YjJiNDNhNGUiIHN0eWxlPSJ3aWR0aDogMTAwLjAlOyBoZWlnaHQ6IDEwMC4wJTsiPiBPdmNoYSBrdXBlbCA8L2Rpdj4nKVswXTsKICAgICAgICAgICAgICAgIHBvcHVwX2JlNWQ0MDc0M2IzYTQ5NWJhMmRmMTE3OTg3MGE2Yjg1LnNldENvbnRlbnQoaHRtbF8yMjcxNzI2MDM0ODk0MWIyYjhlZTE1YjdiMmI0M2E0ZSk7CiAgICAgICAgICAgIAoKICAgICAgICAgICAgY2lyY2xlX21hcmtlcl9kMGI4NTExNjJkMzc0NzU0OGFkYzcwNDVkMGQ3NDMzZS5iaW5kUG9wdXAocG9wdXBfYmU1ZDQwNzQzYjNhNDk1YmEyZGYxMTc5ODcwYTZiODUpOwoKICAgICAgICAgICAgCiAgICAgICAgCiAgICAKICAgICAgICAgICAgdmFyIGNpcmNsZV9tYXJrZXJfOTg1ZDhjZDIwNGE0NDlmMGI1YWMyZDZlYWYyODMzODMgPSBMLmNpcmNsZU1hcmtlcigKICAgICAgICAgICAgICAgIFs0Mi42ODY1NzY4LDIzLjI0NzYzMTEwMDAwMDAwM10sCiAgICAgICAgICAgICAgICB7CiAgImJ1YmJsaW5nTW91c2VFdmVudHMiOiB0cnVlLAogICJjb2xvciI6ICJibHVlIiwKICAiZGFzaEFycmF5IjogbnVsbCwKICAiZGFzaE9mZnNldCI6IG51bGwsCiAgImZpbGwiOiB0cnVlLAogICJmaWxsQ29sb3IiOiAiIzMxODZjYyIsCiAgImZpbGxPcGFjaXR5IjogMC43LAogICJmaWxsUnVsZSI6ICJldmVub2RkIiwKICAibGluZUNhcCI6ICJyb3VuZCIsCiAgImxpbmVKb2luIjogInJvdW5kIiwKICAib3BhY2l0eSI6IDEuMCwKICAicmFkaXVzIjogNSwKICAic3Ryb2tlIjogdHJ1ZSwKICAid2VpZ2h0IjogMwp9CiAgICAgICAgICAgICAgICApLmFkZFRvKG1hcF8wYjBkNjgxMTUyNDU0YWIzOTYxNTZhZjZmMDFhYzYzNyk7CiAgICAgICAgICAgIAogICAgCiAgICAgICAgICAgIHZhciBwb3B1cF8xM2M4OTkwYmRlNDI0ZDkxOWY0YmJhZTk2MjQyODA5MiA9IEwucG9wdXAoe21heFdpZHRoOiAnMzAwJ30pOwoKICAgICAgICAgICAgCiAgICAgICAgICAgICAgICB2YXIgaHRtbF84ZmU1MDU1NzFmZTc0ZTMyYTIzNzY1ZjAyZDQxYThhYyA9ICQoJzxkaXYgaWQ9Imh0bWxfOGZlNTA1NTcxZmU3NGUzMmEyMzc2NWYwMmQ0MWE4YWMiIHN0eWxlPSJ3aWR0aDogMTAwLjAlOyBoZWlnaHQ6IDEwMC4wJTsiPiBPdmNoYSBrdXBlbCAyIDwvZGl2PicpWzBdOwogICAgICAgICAgICAgICAgcG9wdXBfMTNjODk5MGJkZTQyNGQ5MTlmNGJiYWU5NjI0MjgwOTIuc2V0Q29udGVudChodG1sXzhmZTUwNTU3MWZlNzRlMzJhMjM3NjVmMDJkNDFhOGFjKTsKICAgICAgICAgICAgCgogICAgICAgICAgICBjaXJjbGVfbWFya2VyXzk4NWQ4Y2QyMDRhNDQ5ZjBiNWFjMmQ2ZWFmMjgzMzgzLmJpbmRQb3B1cChwb3B1cF8xM2M4OTkwYmRlNDI0ZDkxOWY0YmJhZTk2MjQyODA5Mik7CgogICAgICAgICAgICAKICAgICAgICAKICAgIAogICAgICAgICAgICB2YXIgY2lyY2xlX21hcmtlcl8xZDYzOGQ2N2QwMTQ0NTM2YWQ4MzRlOTI4MjlkYjhkZSA9IEwuY2lyY2xlTWFya2VyKAogICAgICAgICAgICAgICAgWzQyLjY2NDQ4OTcwMDAwMDAwNCwyMy4yNjYxODc2OTk5OTk5OTZdLAogICAgICAgICAgICAgICAgewogICJidWJibGluZ01vdXNlRXZlbnRzIjogdHJ1ZSwKICAiY29sb3IiOiAiYmx1ZSIsCiAgImRhc2hBcnJheSI6IG51bGwsCiAgImRhc2hPZmZzZXQiOiBudWxsLAogICJmaWxsIjogdHJ1ZSwKICAiZmlsbENvbG9yIjogIiMzMTg2Y2MiLAogICJmaWxsT3BhY2l0eSI6IDAuNywKICAiZmlsbFJ1bGUiOiAiZXZlbm9kZCIsCiAgImxpbmVDYXAiOiAicm91bmQiLAogICJsaW5lSm9pbiI6ICJyb3VuZCIsCiAgIm9wYWNpdHkiOiAxLjAsCiAgInJhZGl1cyI6IDUsCiAgInN0cm9rZSI6IHRydWUsCiAgIndlaWdodCI6IDMKfQogICAgICAgICAgICAgICAgKS5hZGRUbyhtYXBfMGIwZDY4MTE1MjQ1NGFiMzk2MTU2YWY2ZjAxYWM2MzcpOwogICAgICAgICAgICAKICAgIAogICAgICAgICAgICB2YXIgcG9wdXBfYmM1MzYzNmYzNzE5NGVmMTg2MTA0YjA0MTYxNGM1YmYgPSBMLnBvcHVwKHttYXhXaWR0aDogJzMwMCd9KTsKCiAgICAgICAgICAgIAogICAgICAgICAgICAgICAgdmFyIGh0bWxfNjkyZDNjMDU5ODQxNDkzYmE1MDdiNzExZjVmNWJiOGYgPSAkKCc8ZGl2IGlkPSJodG1sXzY5MmQzYzA1OTg0MTQ5M2JhNTA3YjcxMWY1ZjViYjhmIiBzdHlsZT0id2lkdGg6IDEwMC4wJTsgaGVpZ2h0OiAxMDAuMCU7Ij4gUGF2bG92byA8L2Rpdj4nKVswXTsKICAgICAgICAgICAgICAgIHBvcHVwX2JjNTM2MzZmMzcxOTRlZjE4NjEwNGIwNDE2MTRjNWJmLnNldENvbnRlbnQoaHRtbF82OTJkM2MwNTk4NDE0OTNiYTUwN2I3MTFmNWY1YmI4Zik7CiAgICAgICAgICAgIAoKICAgICAgICAgICAgY2lyY2xlX21hcmtlcl8xZDYzOGQ2N2QwMTQ0NTM2YWQ4MzRlOTI4MjlkYjhkZS5iaW5kUG9wdXAocG9wdXBfYmM1MzYzNmYzNzE5NGVmMTg2MTA0YjA0MTYxNGM1YmYpOwoKICAgICAgICAgICAgCiAgICAgICAgCiAgICAKICAgICAgICAgICAgdmFyIGNpcmNsZV9tYXJrZXJfZDZhMDI0OWJjN2M0NGExN2I5Y2Y0NDE1ZDBmMjNlNmIgPSBMLmNpcmNsZU1hcmtlcigKICAgICAgICAgICAgICAgIFs0Mi43MDE2MTA2LDIzLjM1OTg0OTg5OTk5OTk5N10sCiAgICAgICAgICAgICAgICB7CiAgImJ1YmJsaW5nTW91c2VFdmVudHMiOiB0cnVlLAogICJjb2xvciI6ICJibHVlIiwKICAiZGFzaEFycmF5IjogbnVsbCwKICAiZGFzaE9mZnNldCI6IG51bGwsCiAgImZpbGwiOiB0cnVlLAogICJmaWxsQ29sb3IiOiAiIzMxODZjYyIsCiAgImZpbGxPcGFjaXR5IjogMC43LAogICJmaWxsUnVsZSI6ICJldmVub2RkIiwKICAibGluZUNhcCI6ICJyb3VuZCIsCiAgImxpbmVKb2luIjogInJvdW5kIiwKICAib3BhY2l0eSI6IDEuMCwKICAicmFkaXVzIjogNSwKICAic3Ryb2tlIjogdHJ1ZSwKICAid2VpZ2h0IjogMwp9CiAgICAgICAgICAgICAgICApLmFkZFRvKG1hcF8wYjBkNjgxMTUyNDU0YWIzOTYxNTZhZjZmMDFhYzYzNyk7CiAgICAgICAgICAgIAogICAgCiAgICAgICAgICAgIHZhciBwb3B1cF84YWU3NTVkMThmYTI0ZWIxOGI4YTZmMTI5NDdmMGFmMyA9IEwucG9wdXAoe21heFdpZHRoOiAnMzAwJ30pOwoKICAgICAgICAgICAgCiAgICAgICAgICAgICAgICB2YXIgaHRtbF9iNWI1MWM5MGU2MDM0OGY2YTI2NWY0NmRhZmE3ODVjYSA9ICQoJzxkaXYgaWQ9Imh0bWxfYjViNTFjOTBlNjAzNDhmNmEyNjVmNDZkYWZhNzg1Y2EiIHN0eWxlPSJ3aWR0aDogMTAwLjAlOyBoZWlnaHQ6IDEwMC4wJTsiPiBQb2R1eWFuZSA8L2Rpdj4nKVswXTsKICAgICAgICAgICAgICAgIHBvcHVwXzhhZTc1NWQxOGZhMjRlYjE4YjhhNmYxMjk0N2YwYWYzLnNldENvbnRlbnQoaHRtbF9iNWI1MWM5MGU2MDM0OGY2YTI2NWY0NmRhZmE3ODVjYSk7CiAgICAgICAgICAgIAoKICAgICAgICAgICAgY2lyY2xlX21hcmtlcl9kNmEwMjQ5YmM3YzQ0YTE3YjljZjQ0MTVkMGYyM2U2Yi5iaW5kUG9wdXAocG9wdXBfOGFlNzU1ZDE4ZmEyNGViMThiOGE2ZjEyOTQ3ZjBhZjMpOwoKICAgICAgICAgICAgCiAgICAgICAgCiAgICAKICAgICAgICAgICAgdmFyIGNpcmNsZV9tYXJrZXJfNTlmNmY0YmM4MGRiNGQ2OGI3MzQ0YzZlODU1ZGY0OWMgPSBMLmNpcmNsZU1hcmtlcigKICAgICAgICAgICAgICAgIFs0Mi42NjM4NjAyOTk5OTk5OTYsMjMuMzgwNDY2NV0sCiAgICAgICAgICAgICAgICB7CiAgImJ1YmJsaW5nTW91c2VFdmVudHMiOiB0cnVlLAogICJjb2xvciI6ICJibHVlIiwKICAiZGFzaEFycmF5IjogbnVsbCwKICAiZGFzaE9mZnNldCI6IG51bGwsCiAgImZpbGwiOiB0cnVlLAogICJmaWxsQ29sb3IiOiAiIzMxODZjYyIsCiAgImZpbGxPcGFjaXR5IjogMC43LAogICJmaWxsUnVsZSI6ICJldmVub2RkIiwKICAibGluZUNhcCI6ICJyb3VuZCIsCiAgImxpbmVKb2luIjogInJvdW5kIiwKICAib3BhY2l0eSI6IDEuMCwKICAicmFkaXVzIjogNSwKICAic3Ryb2tlIjogdHJ1ZSwKICAid2VpZ2h0IjogMwp9CiAgICAgICAgICAgICAgICApLmFkZFRvKG1hcF8wYjBkNjgxMTUyNDU0YWIzOTYxNTZhZjZmMDFhYzYzNyk7CiAgICAgICAgICAgIAogICAgCiAgICAgICAgICAgIHZhciBwb3B1cF8zOTdhNmQ0NDc0YjI0ZGM2YmVjYjk3NTFmYmMyMGRlYiA9IEwucG9wdXAoe21heFdpZHRoOiAnMzAwJ30pOwoKICAgICAgICAgICAgCiAgICAgICAgICAgICAgICB2YXIgaHRtbF9mZjRiMGEzN2UyM2Q0Mjk2ODc0OTU1NDg4NWRkYjdkOSA9ICQoJzxkaXYgaWQ9Imh0bWxfZmY0YjBhMzdlMjNkNDI5Njg3NDk1NTQ4ODVkZGI3ZDkiIHN0eWxlPSJ3aWR0aDogMTAwLjAlOyBoZWlnaHQ6IDEwMC4wJTsiPiBQb2xpZ29uYSA8L2Rpdj4nKVswXTsKICAgICAgICAgICAgICAgIHBvcHVwXzM5N2E2ZDQ0NzRiMjRkYzZiZWNiOTc1MWZiYzIwZGViLnNldENvbnRlbnQoaHRtbF9mZjRiMGEzN2UyM2Q0Mjk2ODc0OTU1NDg4NWRkYjdkOSk7CiAgICAgICAgICAgIAoKICAgICAgICAgICAgY2lyY2xlX21hcmtlcl81OWY2ZjRiYzgwZGI0ZDY4YjczNDRjNmU4NTVkZjQ5Yy5iaW5kUG9wdXAocG9wdXBfMzk3YTZkNDQ3NGIyNGRjNmJlY2I5NzUxZmJjMjBkZWIpOwoKICAgICAgICAgICAgCiAgICAgICAgCiAgICAKICAgICAgICAgICAgdmFyIGNpcmNsZV9tYXJrZXJfYWI1NjA0NjliOTQxNDc5ZmIyMWJlNTUyMGM1YTJjZjAgPSBMLmNpcmNsZU1hcmtlcigKICAgICAgICAgICAgICAgIFs0Mi42OTE3ODM5LDIzLjM2MDgxMTJdLAogICAgICAgICAgICAgICAgewogICJidWJibGluZ01vdXNlRXZlbnRzIjogdHJ1ZSwKICAiY29sb3IiOiAiYmx1ZSIsCiAgImRhc2hBcnJheSI6IG51bGwsCiAgImRhc2hPZmZzZXQiOiBudWxsLAogICJmaWxsIjogdHJ1ZSwKICAiZmlsbENvbG9yIjogIiMzMTg2Y2MiLAogICJmaWxsT3BhY2l0eSI6IDAuNywKICAiZmlsbFJ1bGUiOiAiZXZlbm9kZCIsCiAgImxpbmVDYXAiOiAicm91bmQiLAogICJsaW5lSm9pbiI6ICJyb3VuZCIsCiAgIm9wYWNpdHkiOiAxLjAsCiAgInJhZGl1cyI6IDUsCiAgInN0cm9rZSI6IHRydWUsCiAgIndlaWdodCI6IDMKfQogICAgICAgICAgICAgICAgKS5hZGRUbyhtYXBfMGIwZDY4MTE1MjQ1NGFiMzk2MTU2YWY2ZjAxYWM2MzcpOwogICAgICAgICAgICAKICAgIAogICAgICAgICAgICB2YXIgcG9wdXBfMzlhZTE1NGZhOGQ0NDRkMTkyMjQ2NzFjNTY3NDczMmQgPSBMLnBvcHVwKHttYXhXaWR0aDogJzMwMCd9KTsKCiAgICAgICAgICAgIAogICAgICAgICAgICAgICAgdmFyIGh0bWxfNWUwZWIwYTQ3ZTVhNGI4Mjk4ZWNmY2Q1MmNmNTAxMWMgPSAkKCc8ZGl2IGlkPSJodG1sXzVlMGViMGE0N2U1YTRiODI5OGVjZmNkNTJjZjUwMTFjIiBzdHlsZT0id2lkdGg6IDEwMC4wJTsgaGVpZ2h0OiAxMDAuMCU7Ij4gUmVkdXRhIDwvZGl2PicpWzBdOwogICAgICAgICAgICAgICAgcG9wdXBfMzlhZTE1NGZhOGQ0NDRkMTkyMjQ2NzFjNTY3NDczMmQuc2V0Q29udGVudChodG1sXzVlMGViMGE0N2U1YTRiODI5OGVjZmNkNTJjZjUwMTFjKTsKICAgICAgICAgICAgCgogICAgICAgICAgICBjaXJjbGVfbWFya2VyX2FiNTYwNDY5Yjk0MTQ3OWZiMjFiZTU1MjBjNWEyY2YwLmJpbmRQb3B1cChwb3B1cF8zOWFlMTU0ZmE4ZDQ0NGQxOTIyNDY3MWM1Njc0NzMyZCk7CgogICAgICAgICAgICAKICAgICAgICAKICAgIAogICAgICAgICAgICB2YXIgY2lyY2xlX21hcmtlcl81MzU4YWJiOTYxYjE0YjMyYThiNDAwMjQ2YzNhYTg0NSA9IEwuY2lyY2xlTWFya2VyKAogICAgICAgICAgICAgICAgWzQyLjczNjQxNTksMjMuMjQwMzA0ODk5OTk5OTk4XSwKICAgICAgICAgICAgICAgIHsKICAiYnViYmxpbmdNb3VzZUV2ZW50cyI6IHRydWUsCiAgImNvbG9yIjogImJsdWUiLAogICJkYXNoQXJyYXkiOiBudWxsLAogICJkYXNoT2Zmc2V0IjogbnVsbCwKICAiZmlsbCI6IHRydWUsCiAgImZpbGxDb2xvciI6ICIjMzE4NmNjIiwKICAiZmlsbE9wYWNpdHkiOiAwLjcsCiAgImZpbGxSdWxlIjogImV2ZW5vZGQiLAogICJsaW5lQ2FwIjogInJvdW5kIiwKICAibGluZUpvaW4iOiAicm91bmQiLAogICJvcGFjaXR5IjogMS4wLAogICJyYWRpdXMiOiA1LAogICJzdHJva2UiOiB0cnVlLAogICJ3ZWlnaHQiOiAzCn0KICAgICAgICAgICAgICAgICkuYWRkVG8obWFwXzBiMGQ2ODExNTI0NTRhYjM5NjE1NmFmNmYwMWFjNjM3KTsKICAgICAgICAgICAgCiAgICAKICAgICAgICAgICAgdmFyIHBvcHVwX2Q0M2E3ODQ5NmQ4ODRjYTVhZDk1MTZlY2ExYjVlYmQwID0gTC5wb3B1cCh7bWF4V2lkdGg6ICczMDAnfSk7CgogICAgICAgICAgICAKICAgICAgICAgICAgICAgIHZhciBodG1sX2I4NTY0YzNmMzQyMTRlNzBhYTAzY2UwNWFiMmZmODQ0ID0gJCgnPGRpdiBpZD0iaHRtbF9iODU2NGMzZjM0MjE0ZTcwYWEwM2NlMDVhYjJmZjg0NCIgc3R5bGU9IndpZHRoOiAxMDAuMCU7IGhlaWdodDogMTAwLjAlOyI+IFJlcHVibGlrYSA8L2Rpdj4nKVswXTsKICAgICAgICAgICAgICAgIHBvcHVwX2Q0M2E3ODQ5NmQ4ODRjYTVhZDk1MTZlY2ExYjVlYmQwLnNldENvbnRlbnQoaHRtbF9iODU2NGMzZjM0MjE0ZTcwYWEwM2NlMDVhYjJmZjg0NCk7CiAgICAgICAgICAgIAoKICAgICAgICAgICAgY2lyY2xlX21hcmtlcl81MzU4YWJiOTYxYjE0YjMyYThiNDAwMjQ2YzNhYTg0NS5iaW5kUG9wdXAocG9wdXBfZDQzYTc4NDk2ZDg4NGNhNWFkOTUxNmVjYTFiNWViZDApOwoKICAgICAgICAgICAgCiAgICAgICAgCiAgICAKICAgICAgICAgICAgdmFyIGNpcmNsZV9tYXJrZXJfN2YxNzJkNjYxMDE3NDA5MTlkZmI0ZTE3OGZmMjkzMDAgPSBMLmNpcmNsZU1hcmtlcigKICAgICAgICAgICAgICAgIFs0Mi43ODMxNTg3OTk5OTk5OTUsMjMuNTE3NjIxMV0sCiAgICAgICAgICAgICAgICB7CiAgImJ1YmJsaW5nTW91c2VFdmVudHMiOiB0cnVlLAogICJjb2xvciI6ICJibHVlIiwKICAiZGFzaEFycmF5IjogbnVsbCwKICAiZGFzaE9mZnNldCI6IG51bGwsCiAgImZpbGwiOiB0cnVlLAogICJmaWxsQ29sb3IiOiAiIzMxODZjYyIsCiAgImZpbGxPcGFjaXR5IjogMC43LAogICJmaWxsUnVsZSI6ICJldmVub2RkIiwKICAibGluZUNhcCI6ICJyb3VuZCIsCiAgImxpbmVKb2luIjogInJvdW5kIiwKICAib3BhY2l0eSI6IDEuMCwKICAicmFkaXVzIjogNSwKICAic3Ryb2tlIjogdHJ1ZSwKICAid2VpZ2h0IjogMwp9CiAgICAgICAgICAgICAgICApLmFkZFRvKG1hcF8wYjBkNjgxMTUyNDU0YWIzOTYxNTZhZjZmMDFhYzYzNyk7CiAgICAgICAgICAgIAogICAgCiAgICAgICAgICAgIHZhciBwb3B1cF8wMTdhZjZiZjc3ODE0ZmExOWU3Njg1NTRhNDcxMjRjMyA9IEwucG9wdXAoe21heFdpZHRoOiAnMzAwJ30pOwoKICAgICAgICAgICAgCiAgICAgICAgICAgICAgICB2YXIgaHRtbF9iZWE1M2QwYmU5N2Y0MGNmOGI1OWUxNjQ0YTIyZTQwNSA9ICQoJzxkaXYgaWQ9Imh0bWxfYmVhNTNkMGJlOTdmNDBjZjhiNTllMTY0NGEyMmU0MDUiIHN0eWxlPSJ3aWR0aDogMTAwLjAlOyBoZWlnaHQ6IDEwMC4wJTsiPiBTZXNsYXZ0c2kgPC9kaXY+JylbMF07CiAgICAgICAgICAgICAgICBwb3B1cF8wMTdhZjZiZjc3ODE0ZmExOWU3Njg1NTRhNDcxMjRjMy5zZXRDb250ZW50KGh0bWxfYmVhNTNkMGJlOTdmNDBjZjhiNTllMTY0NGEyMmU0MDUpOwogICAgICAgICAgICAKCiAgICAgICAgICAgIGNpcmNsZV9tYXJrZXJfN2YxNzJkNjYxMDE3NDA5MTlkZmI0ZTE3OGZmMjkzMDAuYmluZFBvcHVwKHBvcHVwXzAxN2FmNmJmNzc4MTRmYTE5ZTc2ODU1NGE0NzEyNGMzKTsKCiAgICAgICAgICAgIAogICAgICAgIAogICAgCiAgICAgICAgICAgIHZhciBjaXJjbGVfbWFya2VyXzFmYmZmYmNhZDA0MTQxZTU5MmE1ODVjYTI4ZTNhZDNiID0gTC5jaXJjbGVNYXJrZXIoCiAgICAgICAgICAgICAgICBbNDIuNjIyNzM3OSwyMy4zMzQ5MjY2XSwKICAgICAgICAgICAgICAgIHsKICAiYnViYmxpbmdNb3VzZUV2ZW50cyI6IHRydWUsCiAgImNvbG9yIjogImJsdWUiLAogICJkYXNoQXJyYXkiOiBudWxsLAogICJkYXNoT2Zmc2V0IjogbnVsbCwKICAiZmlsbCI6IHRydWUsCiAgImZpbGxDb2xvciI6ICIjMzE4NmNjIiwKICAiZmlsbE9wYWNpdHkiOiAwLjcsCiAgImZpbGxSdWxlIjogImV2ZW5vZGQiLAogICJsaW5lQ2FwIjogInJvdW5kIiwKICAibGluZUpvaW4iOiAicm91bmQiLAogICJvcGFjaXR5IjogMS4wLAogICJyYWRpdXMiOiA1LAogICJzdHJva2UiOiB0cnVlLAogICJ3ZWlnaHQiOiAzCn0KICAgICAgICAgICAgICAgICkuYWRkVG8obWFwXzBiMGQ2ODExNTI0NTRhYjM5NjE1NmFmNmYwMWFjNjM3KTsKICAgICAgICAgICAgCiAgICAKICAgICAgICAgICAgdmFyIHBvcHVwX2QxZmQ2Y2VhODEwODQyZDU4MmJhZWJjOGI0NzZmMzEzID0gTC5wb3B1cCh7bWF4V2lkdGg6ICczMDAnfSk7CgogICAgICAgICAgICAKICAgICAgICAgICAgICAgIHZhciBodG1sXzNjMzIwY2Y4YjhiZjQwOTNhNjhkODM2YTFmZjE3YTc4ID0gJCgnPGRpdiBpZD0iaHRtbF8zYzMyMGNmOGI4YmY0MDkzYTY4ZDgzNmExZmYxN2E3OCIgc3R5bGU9IndpZHRoOiAxMDAuMCU7IGhlaWdodDogMTAwLjAlOyI+IFNpbWVvbm92byA8L2Rpdj4nKVswXTsKICAgICAgICAgICAgICAgIHBvcHVwX2QxZmQ2Y2VhODEwODQyZDU4MmJhZWJjOGI0NzZmMzEzLnNldENvbnRlbnQoaHRtbF8zYzMyMGNmOGI4YmY0MDkzYTY4ZDgzNmExZmYxN2E3OCk7CiAgICAgICAgICAgIAoKICAgICAgICAgICAgY2lyY2xlX21hcmtlcl8xZmJmZmJjYWQwNDE0MWU1OTJhNTg1Y2EyOGUzYWQzYi5iaW5kUG9wdXAocG9wdXBfZDFmZDZjZWE4MTA4NDJkNTgyYmFlYmM4YjQ3NmYzMTMpOwoKICAgICAgICAgICAgCiAgICAgICAgCiAgICAKICAgICAgICAgICAgdmFyIGNpcmNsZV9tYXJrZXJfZGJlNzU3Njg2MmE3NGVhM2I2YjA1MTcwMDk3YzI5MjQgPSBMLmNpcmNsZU1hcmtlcigKICAgICAgICAgICAgICAgIFs0Mi42NzI4NDAxLDIzLjM2NDk5OTgwMDAwMDAwM10sCiAgICAgICAgICAgICAgICB7CiAgImJ1YmJsaW5nTW91c2VFdmVudHMiOiB0cnVlLAogICJjb2xvciI6ICJibHVlIiwKICAiZGFzaEFycmF5IjogbnVsbCwKICAiZGFzaE9mZnNldCI6IG51bGwsCiAgImZpbGwiOiB0cnVlLAogICJmaWxsQ29sb3IiOiAiIzMxODZjYyIsCiAgImZpbGxPcGFjaXR5IjogMC43LAogICJmaWxsUnVsZSI6ICJldmVub2RkIiwKICAibGluZUNhcCI6ICJyb3VuZCIsCiAgImxpbmVKb2luIjogInJvdW5kIiwKICAib3BhY2l0eSI6IDEuMCwKICAicmFkaXVzIjogNSwKICAic3Ryb2tlIjogdHJ1ZSwKICAid2VpZ2h0IjogMwp9CiAgICAgICAgICAgICAgICApLmFkZFRvKG1hcF8wYjBkNjgxMTUyNDU0YWIzOTYxNTZhZjZmMDFhYzYzNyk7CiAgICAgICAgICAgIAogICAgCiAgICAgICAgICAgIHZhciBwb3B1cF85OTE2YTY0OTkyNjY0YjU3YjhlMzI4ZTgwZjA5OGM3YiA9IEwucG9wdXAoe21heFdpZHRoOiAnMzAwJ30pOwoKICAgICAgICAgICAgCiAgICAgICAgICAgICAgICB2YXIgaHRtbF9mZGE1NzNiNWM5ZjI0ZGE0OTY3YWU0YzRkMzRkNWI1ZiA9ICQoJzxkaXYgaWQ9Imh0bWxfZmRhNTczYjVjOWYyNGRhNDk2N2FlNGM0ZDM0ZDViNWYiIHN0eWxlPSJ3aWR0aDogMTAwLjAlOyBoZWlnaHQ6IDEwMC4wJTsiPiBTbGF0aW5hIDwvZGl2PicpWzBdOwogICAgICAgICAgICAgICAgcG9wdXBfOTkxNmE2NDk5MjY2NGI1N2I4ZTMyOGU4MGYwOThjN2Iuc2V0Q29udGVudChodG1sX2ZkYTU3M2I1YzlmMjRkYTQ5NjdhZTRjNGQzNGQ1YjVmKTsKICAgICAgICAgICAgCgogICAgICAgICAgICBjaXJjbGVfbWFya2VyX2RiZTc1NzY4NjJhNzRlYTNiNmIwNTE3MDA5N2MyOTI0LmJpbmRQb3B1cChwb3B1cF85OTE2YTY0OTkyNjY0YjU3YjhlMzI4ZTgwZjA5OGM3Yik7CgogICAgICAgICAgICAKICAgICAgICAKICAgIAogICAgICAgICAgICB2YXIgY2lyY2xlX21hcmtlcl8zZDY3MmM3NzVkOWU0YTUxOGI2MTMxYjcyZmM3ZDQ2MyA9IEwuY2lyY2xlTWFya2VyKAogICAgICAgICAgICAgICAgWzQyLjcxMDIyNDIwMDAwMDAwNiwyMy4zNTQ5NTk1XSwKICAgICAgICAgICAgICAgIHsKICAiYnViYmxpbmdNb3VzZUV2ZW50cyI6IHRydWUsCiAgImNvbG9yIjogImJsdWUiLAogICJkYXNoQXJyYXkiOiBudWxsLAogICJkYXNoT2Zmc2V0IjogbnVsbCwKICAiZmlsbCI6IHRydWUsCiAgImZpbGxDb2xvciI6ICIjMzE4NmNjIiwKICAiZmlsbE9wYWNpdHkiOiAwLjcsCiAgImZpbGxSdWxlIjogImV2ZW5vZGQiLAogICJsaW5lQ2FwIjogInJvdW5kIiwKICAibGluZUpvaW4iOiAicm91bmQiLAogICJvcGFjaXR5IjogMS4wLAogICJyYWRpdXMiOiA1LAogICJzdHJva2UiOiB0cnVlLAogICJ3ZWlnaHQiOiAzCn0KICAgICAgICAgICAgICAgICkuYWRkVG8obWFwXzBiMGQ2ODExNTI0NTRhYjM5NjE1NmFmNmYwMWFjNjM3KTsKICAgICAgICAgICAgCiAgICAKICAgICAgICAgICAgdmFyIHBvcHVwX2Q0MTgyYTg1N2IyMjRmZjBiMmU0YWUwMmU4NTViOTQxID0gTC5wb3B1cCh7bWF4V2lkdGg6ICczMDAnfSk7CgogICAgICAgICAgICAKICAgICAgICAgICAgICAgIHZhciBodG1sX2IzZGI4YTVlNzRkODQ0NjBhMDhhZDRiY2ZmMWVlOWUzID0gJCgnPGRpdiBpZD0iaHRtbF9iM2RiOGE1ZTc0ZDg0NDYwYTA4YWQ0YmNmZjFlZTllMyIgc3R5bGU9IndpZHRoOiAxMDAuMCU7IGhlaWdodDogMTAwLjAlOyI+IFN0ZWZhbiBLYXJhZGphIDwvZGl2PicpWzBdOwogICAgICAgICAgICAgICAgcG9wdXBfZDQxODJhODU3YjIyNGZmMGIyZTRhZTAyZTg1NWI5NDEuc2V0Q29udGVudChodG1sX2IzZGI4YTVlNzRkODQ0NjBhMDhhZDRiY2ZmMWVlOWUzKTsKICAgICAgICAgICAgCgogICAgICAgICAgICBjaXJjbGVfbWFya2VyXzNkNjcyYzc3NWQ5ZTRhNTE4YjYxMzFiNzJmYzdkNDYzLmJpbmRQb3B1cChwb3B1cF9kNDE4MmE4NTdiMjI0ZmYwYjJlNGFlMDJlODU1Yjk0MSk7CgogICAgICAgICAgICAKICAgICAgICAKICAgIAogICAgICAgICAgICB2YXIgY2lyY2xlX21hcmtlcl82NjI5NjI3NWU1NTY0NmMzYWM3Zjc3MWFmMjU4M2JlZSA9IEwuY2lyY2xlTWFya2VyKAogICAgICAgICAgICAgICAgWzQyLjY3MzkxNTksMjMuMzAxMzUxNTAwMDAwMDAzXSwKICAgICAgICAgICAgICAgIHsKICAiYnViYmxpbmdNb3VzZUV2ZW50cyI6IHRydWUsCiAgImNvbG9yIjogImJsdWUiLAogICJkYXNoQXJyYXkiOiBudWxsLAogICJkYXNoT2Zmc2V0IjogbnVsbCwKICAiZmlsbCI6IHRydWUsCiAgImZpbGxDb2xvciI6ICIjMzE4NmNjIiwKICAiZmlsbE9wYWNpdHkiOiAwLjcsCiAgImZpbGxSdWxlIjogImV2ZW5vZGQiLAogICJsaW5lQ2FwIjogInJvdW5kIiwKICAibGluZUpvaW4iOiAicm91bmQiLAogICJvcGFjaXR5IjogMS4wLAogICJyYWRpdXMiOiA1LAogICJzdHJva2UiOiB0cnVlLAogICJ3ZWlnaHQiOiAzCn0KICAgICAgICAgICAgICAgICkuYWRkVG8obWFwXzBiMGQ2ODExNTI0NTRhYjM5NjE1NmFmNmYwMWFjNjM3KTsKICAgICAgICAgICAgCiAgICAKICAgICAgICAgICAgdmFyIHBvcHVwXzliY2RhMDhlYzFkNDQ5NDM5OWFjZGRjNzk3MjgzNWM1ID0gTC5wb3B1cCh7bWF4V2lkdGg6ICczMDAnfSk7CgogICAgICAgICAgICAKICAgICAgICAgICAgICAgIHZhciBodG1sXzEzZWVlMDcxNGUwMjQ5MTI5ZjM4YjQ0MjI0ZTBlZGYxID0gJCgnPGRpdiBpZD0iaHRtbF8xM2VlZTA3MTRlMDI0OTEyOWYzOGI0NDIyNGUwZWRmMSIgc3R5bGU9IndpZHRoOiAxMDAuMCU7IGhlaWdodDogMTAwLjAlOyI+IFN0cmVsYmlzaHRlIDwvZGl2PicpWzBdOwogICAgICAgICAgICAgICAgcG9wdXBfOWJjZGEwOGVjMWQ0NDk0Mzk5YWNkZGM3OTcyODM1YzUuc2V0Q29udGVudChodG1sXzEzZWVlMDcxNGUwMjQ5MTI5ZjM4YjQ0MjI0ZTBlZGYxKTsKICAgICAgICAgICAgCgogICAgICAgICAgICBjaXJjbGVfbWFya2VyXzY2Mjk2Mjc1ZTU1NjQ2YzNhYzdmNzcxYWYyNTgzYmVlLmJpbmRQb3B1cChwb3B1cF85YmNkYTA4ZWMxZDQ0OTQzOTlhY2RkYzc5NzI4MzVjNSk7CgogICAgICAgICAgICAKICAgICAgICAKICAgIAogICAgICAgICAgICB2YXIgY2lyY2xlX21hcmtlcl8xYmJkNjM4ZTliMzA0YmI4OWRjYzI1YTMzOTcxZGExZiA9IEwuY2lyY2xlTWFya2VyKAogICAgICAgICAgICAgICAgWzQyLjY1NDQzMDQsMjMuMzQyOTkwOV0sCiAgICAgICAgICAgICAgICB7CiAgImJ1YmJsaW5nTW91c2VFdmVudHMiOiB0cnVlLAogICJjb2xvciI6ICJibHVlIiwKICAiZGFzaEFycmF5IjogbnVsbCwKICAiZGFzaE9mZnNldCI6IG51bGwsCiAgImZpbGwiOiB0cnVlLAogICJmaWxsQ29sb3IiOiAiIzMxODZjYyIsCiAgImZpbGxPcGFjaXR5IjogMC43LAogICJmaWxsUnVsZSI6ICJldmVub2RkIiwKICAibGluZUNhcCI6ICJyb3VuZCIsCiAgImxpbmVKb2luIjogInJvdW5kIiwKICAib3BhY2l0eSI6IDEuMCwKICAicmFkaXVzIjogNSwKICAic3Ryb2tlIjogdHJ1ZSwKICAid2VpZ2h0IjogMwp9CiAgICAgICAgICAgICAgICApLmFkZFRvKG1hcF8wYjBkNjgxMTUyNDU0YWIzOTYxNTZhZjZmMDFhYzYzNyk7CiAgICAgICAgICAgIAogICAgCiAgICAgICAgICAgIHZhciBwb3B1cF84OGQzOGJlNWJlODU0NGJjYWViNWIxNGQ3ZThjODNjMiA9IEwucG9wdXAoe21heFdpZHRoOiAnMzAwJ30pOwoKICAgICAgICAgICAgCiAgICAgICAgICAgICAgICB2YXIgaHRtbF9kMjQyNTE2MGM3ZGM0NThlYjBiMWYyOGUzNWY1NjY3YyA9ICQoJzxkaXYgaWQ9Imh0bWxfZDI0MjUxNjBjN2RjNDU4ZWIwYjFmMjhlMzVmNTY2N2MiIHN0eWxlPSJ3aWR0aDogMTAwLjAlOyBoZWlnaHQ6IDEwMC4wJTsiPiBTdHVkZW50c2tpIGdyYWQgPC9kaXY+JylbMF07CiAgICAgICAgICAgICAgICBwb3B1cF84OGQzOGJlNWJlODU0NGJjYWViNWIxNGQ3ZThjODNjMi5zZXRDb250ZW50KGh0bWxfZDI0MjUxNjBjN2RjNDU4ZWIwYjFmMjhlMzVmNTY2N2MpOwogICAgICAgICAgICAKCiAgICAgICAgICAgIGNpcmNsZV9tYXJrZXJfMWJiZDYzOGU5YjMwNGJiODlkY2MyNWEzMzk3MWRhMWYuYmluZFBvcHVwKHBvcHVwXzg4ZDM4YmU1YmU4NTQ0YmNhZWI1YjE0ZDdlOGM4M2MyKTsKCiAgICAgICAgICAgIAogICAgICAgIAogICAgCiAgICAgICAgICAgIHZhciBjaXJjbGVfbWFya2VyXzg4Zjk0M2RmMGNmZDQzNzNhMWY2N2FhN2UxNWVhNzM0ID0gTC5jaXJjbGVNYXJrZXIoCiAgICAgICAgICAgICAgICBbNDIuNzAyMzgxMSwyMy4zNjI2NDIzXSwKICAgICAgICAgICAgICAgIHsKICAiYnViYmxpbmdNb3VzZUV2ZW50cyI6IHRydWUsCiAgImNvbG9yIjogImJsdWUiLAogICJkYXNoQXJyYXkiOiBudWxsLAogICJkYXNoT2Zmc2V0IjogbnVsbCwKICAiZmlsbCI6IHRydWUsCiAgImZpbGxDb2xvciI6ICIjMzE4NmNjIiwKICAiZmlsbE9wYWNpdHkiOiAwLjcsCiAgImZpbGxSdWxlIjogImV2ZW5vZGQiLAogICJsaW5lQ2FwIjogInJvdW5kIiwKICAibGluZUpvaW4iOiAicm91bmQiLAogICJvcGFjaXR5IjogMS4wLAogICJyYWRpdXMiOiA1LAogICJzdHJva2UiOiB0cnVlLAogICJ3ZWlnaHQiOiAzCn0KICAgICAgICAgICAgICAgICkuYWRkVG8obWFwXzBiMGQ2ODExNTI0NTRhYjM5NjE1NmFmNmYwMWFjNjM3KTsKICAgICAgICAgICAgCiAgICAKICAgICAgICAgICAgdmFyIHBvcHVwXzYyOGQxMDkzNGU1ZDQ4YmM4YzhiN2E2YzM0YjNjNTYxID0gTC5wb3B1cCh7bWF4V2lkdGg6ICczMDAnfSk7CgogICAgICAgICAgICAKICAgICAgICAgICAgICAgIHZhciBodG1sXzU2YmJhYzhjMjAzYzQ2N2Q5NDE5NjY4NDVhMDBiMjUxID0gJCgnPGRpdiBpZD0iaHRtbF81NmJiYWM4YzIwM2M0NjdkOTQxOTY2ODQ1YTAwYjI1MSIgc3R5bGU9IndpZHRoOiAxMDAuMCU7IGhlaWdodDogMTAwLjAlOyI+IFN1aGF0YSBSZWthIDwvZGl2PicpWzBdOwogICAgICAgICAgICAgICAgcG9wdXBfNjI4ZDEwOTM0ZTVkNDhiYzhjOGI3YTZjMzRiM2M1NjEuc2V0Q29udGVudChodG1sXzU2YmJhYzhjMjAzYzQ2N2Q5NDE5NjY4NDVhMDBiMjUxKTsKICAgICAgICAgICAgCgogICAgICAgICAgICBjaXJjbGVfbWFya2VyXzg4Zjk0M2RmMGNmZDQzNzNhMWY2N2FhN2UxNWVhNzM0LmJpbmRQb3B1cChwb3B1cF82MjhkMTA5MzRlNWQ0OGJjOGM4YjdhNmMzNGIzYzU2MSk7CgogICAgICAgICAgICAKICAgICAgICAKICAgIAogICAgICAgICAgICB2YXIgY2lyY2xlX21hcmtlcl80ODIwZmRkMmI0NzM0YjRmODAyZjQ1ZjRiOWU0NjcyYyA9IEwuY2lyY2xlTWFya2VyKAogICAgICAgICAgICAgICAgWzQyLjY5NTkxNTIsMjMuMjI1ODk2OF0sCiAgICAgICAgICAgICAgICB7CiAgImJ1YmJsaW5nTW91c2VFdmVudHMiOiB0cnVlLAogICJjb2xvciI6ICJibHVlIiwKICAiZGFzaEFycmF5IjogbnVsbCwKICAiZGFzaE9mZnNldCI6IG51bGwsCiAgImZpbGwiOiB0cnVlLAogICJmaWxsQ29sb3IiOiAiIzMxODZjYyIsCiAgImZpbGxPcGFjaXR5IjogMC43LAogICJmaWxsUnVsZSI6ICJldmVub2RkIiwKICAibGluZUNhcCI6ICJyb3VuZCIsCiAgImxpbmVKb2luIjogInJvdW5kIiwKICAib3BhY2l0eSI6IDEuMCwKICAicmFkaXVzIjogNSwKICAic3Ryb2tlIjogdHJ1ZSwKICAid2VpZ2h0IjogMwp9CiAgICAgICAgICAgICAgICApLmFkZFRvKG1hcF8wYjBkNjgxMTUyNDU0YWIzOTYxNTZhZjZmMDFhYzYzNyk7CiAgICAgICAgICAgIAogICAgCiAgICAgICAgICAgIHZhciBwb3B1cF81M2VlNzNlMmU0MmE0ZjY0OWYyYWNlY2Y0ZDAwYzY4NSA9IEwucG9wdXAoe21heFdpZHRoOiAnMzAwJ30pOwoKICAgICAgICAgICAgCiAgICAgICAgICAgICAgICB2YXIgaHRtbF85MzYxZGMyOWJiMjM0ZTUwYTQxOTM3MDdmNjQ5ZmI2NyA9ICQoJzxkaXYgaWQ9Imh0bWxfOTM2MWRjMjliYjIzNGU1MGE0MTkzNzA3ZjY0OWZiNjciIHN0eWxlPSJ3aWR0aDogMTAwLjAlOyBoZWlnaHQ6IDEwMC4wJTsiPiBTdWhvZG9sIDwvZGl2PicpWzBdOwogICAgICAgICAgICAgICAgcG9wdXBfNTNlZTczZTJlNDJhNGY2NDlmMmFjZWNmNGQwMGM2ODUuc2V0Q29udGVudChodG1sXzkzNjFkYzI5YmIyMzRlNTBhNDE5MzcwN2Y2NDlmYjY3KTsKICAgICAgICAgICAgCgogICAgICAgICAgICBjaXJjbGVfbWFya2VyXzQ4MjBmZGQyYjQ3MzRiNGY4MDJmNDVmNGI5ZTQ2NzJjLmJpbmRQb3B1cChwb3B1cF81M2VlNzNlMmU0MmE0ZjY0OWYyYWNlY2Y0ZDAwYzY4NSk7CgogICAgICAgICAgICAKICAgICAgICAKICAgIAogICAgICAgICAgICB2YXIgY2lyY2xlX21hcmtlcl8yMzI5NTg5NmVhMmE0MTAyOWQ1YTkxMTk0NmZmMWQ5MCA9IEwuY2lyY2xlTWFya2VyKAogICAgICAgICAgICAgICAgWzQyLjcxMTE3NzgsMjMuMjk2MTAwNjAwMDAwMDAzXSwKICAgICAgICAgICAgICAgIHsKICAiYnViYmxpbmdNb3VzZUV2ZW50cyI6IHRydWUsCiAgImNvbG9yIjogImJsdWUiLAogICJkYXNoQXJyYXkiOiBudWxsLAogICJkYXNoT2Zmc2V0IjogbnVsbCwKICAiZmlsbCI6IHRydWUsCiAgImZpbGxDb2xvciI6ICIjMzE4NmNjIiwKICAiZmlsbE9wYWNpdHkiOiAwLjcsCiAgImZpbGxSdWxlIjogImV2ZW5vZGQiLAogICJsaW5lQ2FwIjogInJvdW5kIiwKICAibGluZUpvaW4iOiAicm91bmQiLAogICJvcGFjaXR5IjogMS4wLAogICJyYWRpdXMiOiA1LAogICJzdHJva2UiOiB0cnVlLAogICJ3ZWlnaHQiOiAzCn0KICAgICAgICAgICAgICAgICkuYWRkVG8obWFwXzBiMGQ2ODExNTI0NTRhYjM5NjE1NmFmNmYwMWFjNjM3KTsKICAgICAgICAgICAgCiAgICAKICAgICAgICAgICAgdmFyIHBvcHVwX2VkOWExYzZhNGYwMjQyYTJhMWQ2NzI1MjdlOGJjNGU2ID0gTC5wb3B1cCh7bWF4V2lkdGg6ICczMDAnfSk7CgogICAgICAgICAgICAKICAgICAgICAgICAgICAgIHZhciBodG1sXzU3YWZlOWIzZWU4YzRhODQ4ZDI4MTIzOWFjMTAyMGFjID0gJCgnPGRpdiBpZD0iaHRtbF81N2FmZTliM2VlOGM0YTg0OGQyODEyMzlhYzEwMjBhYyIgc3R5bGU9IndpZHRoOiAxMDAuMCU7IGhlaWdodDogMTAwLjAlOyI+IFN2ZXRhIFRyb2l0c2EgPC9kaXY+JylbMF07CiAgICAgICAgICAgICAgICBwb3B1cF9lZDlhMWM2YTRmMDI0MmEyYTFkNjcyNTI3ZThiYzRlNi5zZXRDb250ZW50KGh0bWxfNTdhZmU5YjNlZThjNGE4NDhkMjgxMjM5YWMxMDIwYWMpOwogICAgICAgICAgICAKCiAgICAgICAgICAgIGNpcmNsZV9tYXJrZXJfMjMyOTU4OTZlYTJhNDEwMjlkNWE5MTE5NDZmZjFkOTAuYmluZFBvcHVwKHBvcHVwX2VkOWExYzZhNGYwMjQyYTJhMWQ2NzI1MjdlOGJjNGU2KTsKCiAgICAgICAgICAgIAogICAgICAgIAogICAgCiAgICAgICAgICAgIHZhciBjaXJjbGVfbWFya2VyX2M5MGQ2MWZhZTgxYzQ2YTk4OTNmZjBlOTc5OGU2ZDVkID0gTC5jaXJjbGVNYXJrZXIoCiAgICAgICAgICAgICAgICBbNDIuNzcyMjIwNiwyMy4zMTQxODk5XSwKICAgICAgICAgICAgICAgIHsKICAiYnViYmxpbmdNb3VzZUV2ZW50cyI6IHRydWUsCiAgImNvbG9yIjogImJsdWUiLAogICJkYXNoQXJyYXkiOiBudWxsLAogICJkYXNoT2Zmc2V0IjogbnVsbCwKICAiZmlsbCI6IHRydWUsCiAgImZpbGxDb2xvciI6ICIjMzE4NmNjIiwKICAiZmlsbE9wYWNpdHkiOiAwLjcsCiAgImZpbGxSdWxlIjogImV2ZW5vZGQiLAogICJsaW5lQ2FwIjogInJvdW5kIiwKICAibGluZUpvaW4iOiAicm91bmQiLAogICJvcGFjaXR5IjogMS4wLAogICJyYWRpdXMiOiA1LAogICJzdHJva2UiOiB0cnVlLAogICJ3ZWlnaHQiOiAzCn0KICAgICAgICAgICAgICAgICkuYWRkVG8obWFwXzBiMGQ2ODExNTI0NTRhYjM5NjE1NmFmNmYwMWFjNjM3KTsKICAgICAgICAgICAgCiAgICAKICAgICAgICAgICAgdmFyIHBvcHVwX2FlMDc5YWI4MTE2ODQzNjY4YTA5Y2ZmZDI4MDQxMjQ3ID0gTC5wb3B1cCh7bWF4V2lkdGg6ICczMDAnfSk7CgogICAgICAgICAgICAKICAgICAgICAgICAgICAgIHZhciBodG1sXzE2Mjc3ZGU4NGU5OTQ1ZWNiMjJmNjMyZThiMmRjZDg5ID0gJCgnPGRpdiBpZD0iaHRtbF8xNjI3N2RlODRlOTk0NWVjYjIyZjYzMmU4YjJkY2Q4OSIgc3R5bGU9IndpZHRoOiAxMDAuMCU7IGhlaWdodDogMTAwLjAlOyI+IFRyZWJpY2ggPC9kaXY+JylbMF07CiAgICAgICAgICAgICAgICBwb3B1cF9hZTA3OWFiODExNjg0MzY2OGEwOWNmZmQyODA0MTI0Ny5zZXRDb250ZW50KGh0bWxfMTYyNzdkZTg0ZTk5NDVlY2IyMmY2MzJlOGIyZGNkODkpOwogICAgICAgICAgICAKCiAgICAgICAgICAgIGNpcmNsZV9tYXJrZXJfYzkwZDYxZmFlODFjNDZhOTg5M2ZmMGU5Nzk4ZTZkNWQuYmluZFBvcHVwKHBvcHVwX2FlMDc5YWI4MTE2ODQzNjY4YTA5Y2ZmZDI4MDQxMjQ3KTsKCiAgICAgICAgICAgIAogICAgICAgIAogICAgCiAgICAgICAgICAgIHZhciBjaXJjbGVfbWFya2VyX2YzOWI2ZDI0YzUyZjQzYmJhYmVlMzc3MTExOGI0ZTU4ID0gTC5jaXJjbGVNYXJrZXIoCiAgICAgICAgICAgICAgICBbNDIuNzEyNDM2NzAwMDAwMDA1LDIzLjQwOTQwMjgwMDAwMDAwMl0sCiAgICAgICAgICAgICAgICB7CiAgImJ1YmJsaW5nTW91c2VFdmVudHMiOiB0cnVlLAogICJjb2xvciI6ICJibHVlIiwKICAiZGFzaEFycmF5IjogbnVsbCwKICAiZGFzaE9mZnNldCI6IG51bGwsCiAgImZpbGwiOiB0cnVlLAogICJmaWxsQ29sb3IiOiAiIzMxODZjYyIsCiAgImZpbGxPcGFjaXR5IjogMC43LAogICJmaWxsUnVsZSI6ICJldmVub2RkIiwKICAibGluZUNhcCI6ICJyb3VuZCIsCiAgImxpbmVKb2luIjogInJvdW5kIiwKICAib3BhY2l0eSI6IDEuMCwKICAicmFkaXVzIjogNSwKICAic3Ryb2tlIjogdHJ1ZSwKICAid2VpZ2h0IjogMwp9CiAgICAgICAgICAgICAgICApLmFkZFRvKG1hcF8wYjBkNjgxMTUyNDU0YWIzOTYxNTZhZjZmMDFhYzYzNyk7CiAgICAgICAgICAgIAogICAgCiAgICAgICAgICAgIHZhciBwb3B1cF8yNDhjZWQzMTEyNGE0ZTk0ODQwMzRiZGYzMzEwOTJkYiA9IEwucG9wdXAoe21heFdpZHRoOiAnMzAwJ30pOwoKICAgICAgICAgICAgCiAgICAgICAgICAgICAgICB2YXIgaHRtbF8xOGFjOTZlMDQ1MjU0NmQ0YjQ4NmQ1YzgzMGM4ZTA2ZiA9ICQoJzxkaXYgaWQ9Imh0bWxfMThhYzk2ZTA0NTI1NDZkNGI0ODZkNWM4MzBjOGUwNmYiIHN0eWxlPSJ3aWR0aDogMTAwLjAlOyBoZWlnaHQ6IDEwMC4wJTsiPiBWcmFqZGVibmEgPC9kaXY+JylbMF07CiAgICAgICAgICAgICAgICBwb3B1cF8yNDhjZWQzMTEyNGE0ZTk0ODQwMzRiZGYzMzEwOTJkYi5zZXRDb250ZW50KGh0bWxfMThhYzk2ZTA0NTI1NDZkNGI0ODZkNWM4MzBjOGUwNmYpOwogICAgICAgICAgICAKCiAgICAgICAgICAgIGNpcmNsZV9tYXJrZXJfZjM5YjZkMjRjNTJmNDNiYmFiZWUzNzcxMTE4YjRlNTguYmluZFBvcHVwKHBvcHVwXzI0OGNlZDMxMTI0YTRlOTQ4NDAzNGJkZjMzMTA5MmRiKTsKCiAgICAgICAgICAgIAogICAgICAgIAogICAgCiAgICAgICAgICAgIHZhciBjaXJjbGVfbWFya2VyX2JkYzJkMjkxZWUyNjQyNmM4ZTkwZmM5OTEzYTEwM2ZlID0gTC5jaXJjbGVNYXJrZXIoCiAgICAgICAgICAgICAgICBbNDIuNjg3ODM1NywyMy4zNDU1NDg2XSwKICAgICAgICAgICAgICAgIHsKICAiYnViYmxpbmdNb3VzZUV2ZW50cyI6IHRydWUsCiAgImNvbG9yIjogImJsdWUiLAogICJkYXNoQXJyYXkiOiBudWxsLAogICJkYXNoT2Zmc2V0IjogbnVsbCwKICAiZmlsbCI6IHRydWUsCiAgImZpbGxDb2xvciI6ICIjMzE4NmNjIiwKICAiZmlsbE9wYWNpdHkiOiAwLjcsCiAgImZpbGxSdWxlIjogImV2ZW5vZGQiLAogICJsaW5lQ2FwIjogInJvdW5kIiwKICAibGluZUpvaW4iOiAicm91bmQiLAogICJvcGFjaXR5IjogMS4wLAogICJyYWRpdXMiOiA1LAogICJzdHJva2UiOiB0cnVlLAogICJ3ZWlnaHQiOiAzCn0KICAgICAgICAgICAgICAgICkuYWRkVG8obWFwXzBiMGQ2ODExNTI0NTRhYjM5NjE1NmFmNmYwMWFjNjM3KTsKICAgICAgICAgICAgCiAgICAKICAgICAgICAgICAgdmFyIHBvcHVwXzljOTQ3MTNkY2U0MDQxNmE4ZTU2NzY2M2Y5YzdlNzA2ID0gTC5wb3B1cCh7bWF4V2lkdGg6ICczMDAnfSk7CgogICAgICAgICAgICAKICAgICAgICAgICAgICAgIHZhciBodG1sXzQ2YTQyNjgwY2ExNzQ4Njc4NDAwZjIzODhiOTc4YTY5ID0gJCgnPGRpdiBpZD0iaHRtbF80NmE0MjY4MGNhMTc0ODY3ODQwMGYyMzg4Yjk3OGE2OSIgc3R5bGU9IndpZHRoOiAxMDAuMCU7IGhlaWdodDogMTAwLjAlOyI+IFlhdm9yb3YgPC9kaXY+JylbMF07CiAgICAgICAgICAgICAgICBwb3B1cF85Yzk0NzEzZGNlNDA0MTZhOGU1Njc2NjNmOWM3ZTcwNi5zZXRDb250ZW50KGh0bWxfNDZhNDI2ODBjYTE3NDg2Nzg0MDBmMjM4OGI5NzhhNjkpOwogICAgICAgICAgICAKCiAgICAgICAgICAgIGNpcmNsZV9tYXJrZXJfYmRjMmQyOTFlZTI2NDI2YzhlOTBmYzk5MTNhMTAzZmUuYmluZFBvcHVwKHBvcHVwXzljOTQ3MTNkY2U0MDQxNmE4ZTU2NzY2M2Y5YzdlNzA2KTsKCiAgICAgICAgICAgIAogICAgICAgIAogICAgCiAgICAgICAgICAgIHZhciBjaXJjbGVfbWFya2VyXzQ1Nzc5NTE1YmJmYjQ1YTdhMjgyY2U2MDcyYzg2OTAzID0gTC5jaXJjbGVNYXJrZXIoCiAgICAgICAgICAgICAgICBbNDIuNzE2Mzg4NywyMy4yODg3NzY0XSwKICAgICAgICAgICAgICAgIHsKICAiYnViYmxpbmdNb3VzZUV2ZW50cyI6IHRydWUsCiAgImNvbG9yIjogImJsdWUiLAogICJkYXNoQXJyYXkiOiBudWxsLAogICJkYXNoT2Zmc2V0IjogbnVsbCwKICAiZmlsbCI6IHRydWUsCiAgImZpbGxDb2xvciI6ICIjMzE4NmNjIiwKICAiZmlsbE9wYWNpdHkiOiAwLjcsCiAgImZpbGxSdWxlIjogImV2ZW5vZGQiLAogICJsaW5lQ2FwIjogInJvdW5kIiwKICAibGluZUpvaW4iOiAicm91bmQiLAogICJvcGFjaXR5IjogMS4wLAogICJyYWRpdXMiOiA1LAogICJzdHJva2UiOiB0cnVlLAogICJ3ZWlnaHQiOiAzCn0KICAgICAgICAgICAgICAgICkuYWRkVG8obWFwXzBiMGQ2ODExNTI0NTRhYjM5NjE1NmFmNmYwMWFjNjM3KTsKICAgICAgICAgICAgCiAgICAKICAgICAgICAgICAgdmFyIHBvcHVwX2VmNWFkYjljYTQzZDRjZjU4ZTBmYzFlMDllNWNjZjMzID0gTC5wb3B1cCh7bWF4V2lkdGg6ICczMDAnfSk7CgogICAgICAgICAgICAKICAgICAgICAgICAgICAgIHZhciBodG1sX2IzNjRlZWQxZGI5YzQ3OTk5NWM0MmNkYzg2MWNhNDY1ID0gJCgnPGRpdiBpZD0iaHRtbF9iMzY0ZWVkMWRiOWM0Nzk5OTVjNDJjZGM4NjFjYTQ2NSIgc3R5bGU9IndpZHRoOiAxMDAuMCU7IGhlaWdodDogMTAwLjAlOyI+IFphaGFybmEgZmFicmlrYSA8L2Rpdj4nKVswXTsKICAgICAgICAgICAgICAgIHBvcHVwX2VmNWFkYjljYTQzZDRjZjU4ZTBmYzFlMDllNWNjZjMzLnNldENvbnRlbnQoaHRtbF9iMzY0ZWVkMWRiOWM0Nzk5OTVjNDJjZGM4NjFjYTQ2NSk7CiAgICAgICAgICAgIAoKICAgICAgICAgICAgY2lyY2xlX21hcmtlcl80NTc3OTUxNWJiZmI0NWE3YTI4MmNlNjA3MmM4NjkwMy5iaW5kUG9wdXAocG9wdXBfZWY1YWRiOWNhNDNkNGNmNThlMGZjMWUwOWU1Y2NmMzMpOwoKICAgICAgICAgICAgCiAgICAgICAgCiAgICAKICAgICAgICAgICAgdmFyIGNpcmNsZV9tYXJrZXJfNWJlNzNlNDIyODIyNDRiY2ExNzkzZTJhY2E4YjExMmUgPSBMLmNpcmNsZU1hcmtlcigKICAgICAgICAgICAgICAgIFs0Mi43MDQ2Mzk0LDIzLjI3OTk0MzQ5OTk5OTk5OF0sCiAgICAgICAgICAgICAgICB7CiAgImJ1YmJsaW5nTW91c2VFdmVudHMiOiB0cnVlLAogICJjb2xvciI6ICJibHVlIiwKICAiZGFzaEFycmF5IjogbnVsbCwKICAiZGFzaE9mZnNldCI6IG51bGwsCiAgImZpbGwiOiB0cnVlLAogICJmaWxsQ29sb3IiOiAiIzMxODZjYyIsCiAgImZpbGxPcGFjaXR5IjogMC43LAogICJmaWxsUnVsZSI6ICJldmVub2RkIiwKICAibGluZUNhcCI6ICJyb3VuZCIsCiAgImxpbmVKb2luIjogInJvdW5kIiwKICAib3BhY2l0eSI6IDEuMCwKICAicmFkaXVzIjogNSwKICAic3Ryb2tlIjogdHJ1ZSwKICAid2VpZ2h0IjogMwp9CiAgICAgICAgICAgICAgICApLmFkZFRvKG1hcF8wYjBkNjgxMTUyNDU0YWIzOTYxNTZhZjZmMDFhYzYzNyk7CiAgICAgICAgICAgIAogICAgCiAgICAgICAgICAgIHZhciBwb3B1cF85MTQ5ZTY0ODY2ZmE0Yjk2ODBhNjQ2ZWNiZjA1MWUyYyA9IEwucG9wdXAoe21heFdpZHRoOiAnMzAwJ30pOwoKICAgICAgICAgICAgCiAgICAgICAgICAgICAgICB2YXIgaHRtbF9mNjY5ZGY2Y2VmYTk0ZTczOTBlNWFiZWJjOTQwYWVlZiA9ICQoJzxkaXYgaWQ9Imh0bWxfZjY2OWRmNmNlZmE5NGU3MzkwZTVhYmViYzk0MGFlZWYiIHN0eWxlPSJ3aWR0aDogMTAwLjAlOyBoZWlnaHQ6IDEwMC4wJTsiPiBaYXBhZGVuIFBhcmsgPC9kaXY+JylbMF07CiAgICAgICAgICAgICAgICBwb3B1cF85MTQ5ZTY0ODY2ZmE0Yjk2ODBhNjQ2ZWNiZjA1MWUyYy5zZXRDb250ZW50KGh0bWxfZjY2OWRmNmNlZmE5NGU3MzkwZTVhYmViYzk0MGFlZWYpOwogICAgICAgICAgICAKCiAgICAgICAgICAgIGNpcmNsZV9tYXJrZXJfNWJlNzNlNDIyODIyNDRiY2ExNzkzZTJhY2E4YjExMmUuYmluZFBvcHVwKHBvcHVwXzkxNDllNjQ4NjZmYTRiOTY4MGE2NDZlY2JmMDUxZTJjKTsKCiAgICAgICAgICAgIAogICAgICAgIAogICAgCiAgICAgICAgICAgIHZhciBjaXJjbGVfbWFya2VyXzVhYWE2OTlkYjNhMjQ0NDA4MTg2ZTIwOTQ0YzJiMTRkID0gTC5jaXJjbGVNYXJrZXIoCiAgICAgICAgICAgICAgICBbNDIuNzAzOTA3LDIzLjMwMjgxNjM5OTk5OTk5OF0sCiAgICAgICAgICAgICAgICB7CiAgImJ1YmJsaW5nTW91c2VFdmVudHMiOiB0cnVlLAogICJjb2xvciI6ICJibHVlIiwKICAiZGFzaEFycmF5IjogbnVsbCwKICAiZGFzaE9mZnNldCI6IG51bGwsCiAgImZpbGwiOiB0cnVlLAogICJmaWxsQ29sb3IiOiAiIzMxODZjYyIsCiAgImZpbGxPcGFjaXR5IjogMC43LAogICJmaWxsUnVsZSI6ICJldmVub2RkIiwKICAibGluZUNhcCI6ICJyb3VuZCIsCiAgImxpbmVKb2luIjogInJvdW5kIiwKICAib3BhY2l0eSI6IDEuMCwKICAicmFkaXVzIjogNSwKICAic3Ryb2tlIjogdHJ1ZSwKICAid2VpZ2h0IjogMwp9CiAgICAgICAgICAgICAgICApLmFkZFRvKG1hcF8wYjBkNjgxMTUyNDU0YWIzOTYxNTZhZjZmMDFhYzYzNyk7CiAgICAgICAgICAgIAogICAgCiAgICAgICAgICAgIHZhciBwb3B1cF81YTZkZjI0YzUzOWI0MmYxYTRjYTJmMTgwZjI2MWJjOCA9IEwucG9wdXAoe21heFdpZHRoOiAnMzAwJ30pOwoKICAgICAgICAgICAgCiAgICAgICAgICAgICAgICB2YXIgaHRtbF84NWU4NGZmMDhlMGE0Mzk2OTAyNWY5Y2QzNTY5YjE2NyA9ICQoJzxkaXYgaWQ9Imh0bWxfODVlODRmZjA4ZTBhNDM5NjkwMjVmOWNkMzU2OWIxNjciIHN0eWxlPSJ3aWR0aDogMTAwLjAlOyBoZWlnaHQ6IDEwMC4wJTsiPiBab25hIEItMTggPC9kaXY+JylbMF07CiAgICAgICAgICAgICAgICBwb3B1cF81YTZkZjI0YzUzOWI0MmYxYTRjYTJmMTgwZjI2MWJjOC5zZXRDb250ZW50KGh0bWxfODVlODRmZjA4ZTBhNDM5NjkwMjVmOWNkMzU2OWIxNjcpOwogICAgICAgICAgICAKCiAgICAgICAgICAgIGNpcmNsZV9tYXJrZXJfNWFhYTY5OWRiM2EyNDQ0MDgxODZlMjA5NDRjMmIxNGQuYmluZFBvcHVwKHBvcHVwXzVhNmRmMjRjNTM5YjQyZjFhNGNhMmYxODBmMjYxYmM4KTsKCiAgICAgICAgICAgIAogICAgICAgIAogICAgCiAgICAgICAgICAgIHZhciBjaXJjbGVfbWFya2VyX2NkZWY2MWVjZmZlYTQ4MTU4ZWYxZmViOTQxODA3OWU1ID0gTC5jaXJjbGVNYXJrZXIoCiAgICAgICAgICAgICAgICBbNDIuNjk4ODc5MiwyMy4yOTkyNzY0XSwKICAgICAgICAgICAgICAgIHsKICAiYnViYmxpbmdNb3VzZUV2ZW50cyI6IHRydWUsCiAgImNvbG9yIjogImJsdWUiLAogICJkYXNoQXJyYXkiOiBudWxsLAogICJkYXNoT2Zmc2V0IjogbnVsbCwKICAiZmlsbCI6IHRydWUsCiAgImZpbGxDb2xvciI6ICIjMzE4NmNjIiwKICAiZmlsbE9wYWNpdHkiOiAwLjcsCiAgImZpbGxSdWxlIjogImV2ZW5vZGQiLAogICJsaW5lQ2FwIjogInJvdW5kIiwKICAibGluZUpvaW4iOiAicm91bmQiLAogICJvcGFjaXR5IjogMS4wLAogICJyYWRpdXMiOiA1LAogICJzdHJva2UiOiB0cnVlLAogICJ3ZWlnaHQiOiAzCn0KICAgICAgICAgICAgICAgICkuYWRkVG8obWFwXzBiMGQ2ODExNTI0NTRhYjM5NjE1NmFmNmYwMWFjNjM3KTsKICAgICAgICAgICAgCiAgICAKICAgICAgICAgICAgdmFyIHBvcHVwXzE4YmJhOWY2MjkxMDQwZTliN2Y4MTQxYjUxZDhkYmRkID0gTC5wb3B1cCh7bWF4V2lkdGg6ICczMDAnfSk7CgogICAgICAgICAgICAKICAgICAgICAgICAgICAgIHZhciBodG1sXzY4MWI4NzY0Mjc5NDQ0ZWQ5NjZjNThiNjlhODRlOThhID0gJCgnPGRpdiBpZD0iaHRtbF82ODFiODc2NDI3OTQ0NGVkOTY2YzU4YjY5YTg0ZTk4YSIgc3R5bGU9IndpZHRoOiAxMDAuMCU7IGhlaWdodDogMTAwLjAlOyI+IFpvbmEgQi0xOSA8L2Rpdj4nKVswXTsKICAgICAgICAgICAgICAgIHBvcHVwXzE4YmJhOWY2MjkxMDQwZTliN2Y4MTQxYjUxZDhkYmRkLnNldENvbnRlbnQoaHRtbF82ODFiODc2NDI3OTQ0NGVkOTY2YzU4YjY5YTg0ZTk4YSk7CiAgICAgICAgICAgIAoKICAgICAgICAgICAgY2lyY2xlX21hcmtlcl9jZGVmNjFlY2ZmZWE0ODE1OGVmMWZlYjk0MTgwNzllNS5iaW5kUG9wdXAocG9wdXBfMThiYmE5ZjYyOTEwNDBlOWI3ZjgxNDFiNTFkOGRiZGQpOwoKICAgICAgICAgICAgCiAgICAgICAgCiAgICAKICAgICAgICAgICAgdmFyIGNpcmNsZV9tYXJrZXJfZjMwYmU0Y2IyYzhkNDU4M2I1NWYzYzgzMDgyMmFhZDUgPSBMLmNpcmNsZU1hcmtlcigKICAgICAgICAgICAgICAgIFs0Mi42OTY3MjM5LDIzLjMwNjIzNDM5OTk5OTk5N10sCiAgICAgICAgICAgICAgICB7CiAgImJ1YmJsaW5nTW91c2VFdmVudHMiOiB0cnVlLAogICJjb2xvciI6ICJibHVlIiwKICAiZGFzaEFycmF5IjogbnVsbCwKICAiZGFzaE9mZnNldCI6IG51bGwsCiAgImZpbGwiOiB0cnVlLAogICJmaWxsQ29sb3IiOiAiIzMxODZjYyIsCiAgImZpbGxPcGFjaXR5IjogMC43LAogICJmaWxsUnVsZSI6ICJldmVub2RkIiwKICAibGluZUNhcCI6ICJyb3VuZCIsCiAgImxpbmVKb2luIjogInJvdW5kIiwKICAib3BhY2l0eSI6IDEuMCwKICAicmFkaXVzIjogNSwKICAic3Ryb2tlIjogdHJ1ZSwKICAid2VpZ2h0IjogMwp9CiAgICAgICAgICAgICAgICApLmFkZFRvKG1hcF8wYjBkNjgxMTUyNDU0YWIzOTYxNTZhZjZmMDFhYzYzNyk7CiAgICAgICAgICAgIAogICAgCiAgICAgICAgICAgIHZhciBwb3B1cF8xNWRiMjRjNjg3ZDg0MjIzYWZmMDQxYTdmOWVhZDYxMSA9IEwucG9wdXAoe21heFdpZHRoOiAnMzAwJ30pOwoKICAgICAgICAgICAgCiAgICAgICAgICAgICAgICB2YXIgaHRtbF83ZmNkN2RlYmY1Y2E0NDRjYmIzOTBlMTkxZjNhZjlmMCA9ICQoJzxkaXYgaWQ9Imh0bWxfN2ZjZDdkZWJmNWNhNDQ0Y2JiMzkwZTE5MWYzYWY5ZjAiIHN0eWxlPSJ3aWR0aDogMTAwLjAlOyBoZWlnaHQ6IDEwMC4wJTsiPiBab25hIEItNSA8L2Rpdj4nKVswXTsKICAgICAgICAgICAgICAgIHBvcHVwXzE1ZGIyNGM2ODdkODQyMjNhZmYwNDFhN2Y5ZWFkNjExLnNldENvbnRlbnQoaHRtbF83ZmNkN2RlYmY1Y2E0NDRjYmIzOTBlMTkxZjNhZjlmMCk7CiAgICAgICAgICAgIAoKICAgICAgICAgICAgY2lyY2xlX21hcmtlcl9mMzBiZTRjYjJjOGQ0NTgzYjU1ZjNjODMwODIyYWFkNS5iaW5kUG9wdXAocG9wdXBfMTVkYjI0YzY4N2Q4NDIyM2FmZjA0MWE3ZjllYWQ2MTEpOwoKICAgICAgICAgICAgCiAgICAgICAgCjwvc2NyaXB0Pg== onload=\"this.contentDocument.open();this.contentDocument.write(atob(this.getAttribute('data-html')));this.contentDocument.close();\" allowfullscreen webkitallowfullscreen mozallowfullscreen></iframe></div></div>"
      ],
      "text/plain": [
       "<folium.folium.Map at 0x2030b217e48>"
      ]
     },
     "execution_count": 8,
     "metadata": {},
     "output_type": "execute_result"
    }
   ],
   "source": [
    "# add markers to map\n",
    "for lat, lng, neighborhood in zip(coord['Latitude'], coord['Longitude'], coord['Neighborhood']):\n",
    "    label = '{}'.format(neighborhood)\n",
    "    label = folium.Popup(label, parse_html=True)\n",
    "    folium.CircleMarker(\n",
    "        [lat, lng],\n",
    "        radius=5,\n",
    "        popup=label,\n",
    "        color='blue',\n",
    "        fill=True,\n",
    "        fill_color='#3186cc',\n",
    "        fill_opacity=0.7,\n",
    "        parse_html=False).add_to(map_sofia)  \n",
    "    \n",
    "map_sofia"
   ]
  },
  {
   "cell_type": "markdown",
   "metadata": {},
   "source": [
    "### Getting Data On Venues in the City"
   ]
  },
  {
   "cell_type": "markdown",
   "metadata": {},
   "source": [
    "The next step of the analytic process is to obtain data about the venues that can be found in each of the neighborhoods. To this end we use a Foursquare developed account and get the data through their API."
   ]
  },
  {
   "cell_type": "code",
   "execution_count": 9,
   "metadata": {},
   "outputs": [],
   "source": [
    "CLIENT_ID = 'D3EFN25BTLMQDBKPWWCK2NZC0AW23BVIBAA2X2D2LFHKJPXN' # Foursquare ID\n",
    "CLIENT_SECRET = 'CBARVRGDBEK243FNOR4FGAARFDQQAHOHIWRJ0NCOSK551NKT' # Foursquare Secret\n",
    "VERSION = '20200305' # Foursquare API version"
   ]
  },
  {
   "cell_type": "markdown",
   "metadata": {},
   "source": [
    "This is done through sending a specific API call to one of their endpoints (in this case we use the venue one). The structure of teh call is shown below, as well as the URL that is generated for a specific call for all of Sofia's venues."
   ]
  },
  {
   "cell_type": "code",
   "execution_count": 10,
   "metadata": {},
   "outputs": [
    {
     "data": {
      "text/plain": [
       "'https://api.foursquare.com/v2/venues/explore?&client_id=D3EFN25BTLMQDBKPWWCK2NZC0AW23BVIBAA2X2D2LFHKJPXN&client_secret=CBARVRGDBEK243FNOR4FGAARFDQQAHOHIWRJ0NCOSK551NKT&v=20200305&ll=42.6978634,23.3221789&radius=500&limit=1000'"
      ]
     },
     "execution_count": 10,
     "metadata": {},
     "output_type": "execute_result"
    }
   ],
   "source": [
    "LIMIT = 1000 # limit of number of venues returned by Foursquare API\n",
    "radius = 500 # define radius\n",
    "url = 'https://api.foursquare.com/v2/venues/explore?&client_id={}&client_secret={}&v={}&ll={},{}&radius={}&limit={}'.format(\n",
    "    CLIENT_ID, \n",
    "    CLIENT_SECRET, \n",
    "    VERSION, \n",
    "    latitude, \n",
    "    longitude, \n",
    "    radius, \n",
    "    LIMIT)\n",
    "url # display URL"
   ]
  },
  {
   "cell_type": "markdown",
   "metadata": {},
   "source": [
    "We reuse a function for obtaining venue data for each neighboorhood - the `getNearbyVenues` function. Its definition follows in the next code snippet."
   ]
  },
  {
   "cell_type": "code",
   "execution_count": 13,
   "metadata": {},
   "outputs": [],
   "source": [
    "import requests\n",
    "results = requests.get(url).json()\n",
    "def getNearbyVenues(names, latitudes, longitudes, radius=500):\n",
    "    \n",
    "    venues_list=[]\n",
    "    for name, lat, lng in zip(names, latitudes, longitudes):\n",
    "                    \n",
    "        # create the API request URL\n",
    "        url = 'https://api.foursquare.com/v2/venues/explore?&client_id={}&client_secret={}&v={}&ll={},{}&radius={}&limit={}'.format(\n",
    "            CLIENT_ID, \n",
    "            CLIENT_SECRET, \n",
    "            VERSION, \n",
    "            lat, \n",
    "            lng, \n",
    "            radius, \n",
    "            LIMIT)\n",
    "            \n",
    "        # make the GET request\n",
    "        results = requests.get(url).json()[\"response\"]['groups'][0]['items']\n",
    "        \n",
    "        # return only relevant information for each nearby venue\n",
    "        venues_list.append([(\n",
    "            name, \n",
    "            lat, \n",
    "            lng, \n",
    "            v['venue']['name'], \n",
    "            v['venue']['location']['lat'], \n",
    "            v['venue']['location']['lng'],  \n",
    "            v['venue']['categories'][0]['name']) for v in results])\n",
    "\n",
    "    nearby_venues = pd.DataFrame([item for venue_list in venues_list for item in venue_list])\n",
    "    nearby_venues.columns = ['Neighborhood', \n",
    "                  'Neighborhood Latitude', \n",
    "                  'Neighborhood Longitude', \n",
    "                  'Venue', \n",
    "                  'Venue Latitude', \n",
    "                  'Venue Longitude', \n",
    "                  'Venue Category']\n",
    "    \n",
    "    return(nearby_venues)"
   ]
  },
  {
   "cell_type": "markdown",
   "metadata": {},
   "source": [
    "All of the venues in each Neighboorhood within the defined radius around its coordinates is obtained and stored in the `sof_venues` data frame. It contains information about the name of the neighborhood, its coordinates, the name of the venue (in its original language), the coordinates of the venues, and its category."
   ]
  },
  {
   "cell_type": "code",
   "execution_count": 14,
   "metadata": {},
   "outputs": [],
   "source": [
    "sof_venues = getNearbyVenues(names=coord['Neighborhood'], latitudes=coord['Latitude'], longitudes=coord['Longitude'])"
   ]
  },
  {
   "cell_type": "markdown",
   "metadata": {},
   "source": [
    "We inspect the data frame to make sure the results are as expected."
   ]
  },
  {
   "cell_type": "code",
   "execution_count": 15,
   "metadata": {},
   "outputs": [
    {
     "data": {
      "text/html": [
       "<div>\n",
       "<style scoped>\n",
       "    .dataframe tbody tr th:only-of-type {\n",
       "        vertical-align: middle;\n",
       "    }\n",
       "\n",
       "    .dataframe tbody tr th {\n",
       "        vertical-align: top;\n",
       "    }\n",
       "\n",
       "    .dataframe thead th {\n",
       "        text-align: right;\n",
       "    }\n",
       "</style>\n",
       "<table border=\"1\" class=\"dataframe\">\n",
       "  <thead>\n",
       "    <tr style=\"text-align: right;\">\n",
       "      <th></th>\n",
       "      <th>Neighborhood</th>\n",
       "      <th>Neighborhood Latitude</th>\n",
       "      <th>Neighborhood Longitude</th>\n",
       "      <th>Venue</th>\n",
       "      <th>Venue Latitude</th>\n",
       "      <th>Venue Longitude</th>\n",
       "      <th>Venue Category</th>\n",
       "    </tr>\n",
       "  </thead>\n",
       "  <tbody>\n",
       "    <tr>\n",
       "      <th>0</th>\n",
       "      <td>Bakston</td>\n",
       "      <td>42.66566</td>\n",
       "      <td>23.270201</td>\n",
       "      <td>Аванти</td>\n",
       "      <td>42.665564</td>\n",
       "      <td>23.272955</td>\n",
       "      <td>Liquor Store</td>\n",
       "    </tr>\n",
       "    <tr>\n",
       "      <th>1</th>\n",
       "      <td>Bakston</td>\n",
       "      <td>42.66566</td>\n",
       "      <td>23.270201</td>\n",
       "      <td>Млекарницата на Добрев 4</td>\n",
       "      <td>42.664005</td>\n",
       "      <td>23.266223</td>\n",
       "      <td>Cheese Shop</td>\n",
       "    </tr>\n",
       "    <tr>\n",
       "      <th>2</th>\n",
       "      <td>Bakston</td>\n",
       "      <td>42.66566</td>\n",
       "      <td>23.270201</td>\n",
       "      <td>Ресторант Слънце</td>\n",
       "      <td>42.664546</td>\n",
       "      <td>23.266423</td>\n",
       "      <td>Restaurant</td>\n",
       "    </tr>\n",
       "    <tr>\n",
       "      <th>3</th>\n",
       "      <td>Bakston</td>\n",
       "      <td>42.66566</td>\n",
       "      <td>23.270201</td>\n",
       "      <td>Сладкарница Сладки Идеи</td>\n",
       "      <td>42.669091</td>\n",
       "      <td>23.269640</td>\n",
       "      <td>Café</td>\n",
       "    </tr>\n",
       "    <tr>\n",
       "      <th>4</th>\n",
       "      <td>Bakston</td>\n",
       "      <td>42.66566</td>\n",
       "      <td>23.270201</td>\n",
       "      <td>Fitness Center IRIfit</td>\n",
       "      <td>42.668896</td>\n",
       "      <td>23.270688</td>\n",
       "      <td>Gym</td>\n",
       "    </tr>\n",
       "  </tbody>\n",
       "</table>\n",
       "</div>"
      ],
      "text/plain": [
       "  Neighborhood  Neighborhood Latitude  Neighborhood Longitude  \\\n",
       "0     Bakston                42.66566               23.270201   \n",
       "1     Bakston                42.66566               23.270201   \n",
       "2     Bakston                42.66566               23.270201   \n",
       "3     Bakston                42.66566               23.270201   \n",
       "4     Bakston                42.66566               23.270201   \n",
       "\n",
       "                      Venue  Venue Latitude  Venue Longitude Venue Category  \n",
       "0                    Аванти       42.665564        23.272955   Liquor Store  \n",
       "1  Млекарницата на Добрев 4       42.664005        23.266223    Cheese Shop  \n",
       "2          Ресторант Слънце       42.664546        23.266423     Restaurant  \n",
       "3   Сладкарница Сладки Идеи       42.669091        23.269640           Café  \n",
       "4     Fitness Center IRIfit       42.668896        23.270688            Gym  "
      ]
     },
     "execution_count": 15,
     "metadata": {},
     "output_type": "execute_result"
    }
   ],
   "source": [
    "sof_venues.head()"
   ]
  },
  {
   "cell_type": "markdown",
   "metadata": {},
   "source": [
    "We can further see all the venue categories in the dataset, displaying each unique type of venue that is found in the city. Among those some are hipster in nature, and some are not. The differentitation between the two will be one of our challenges."
   ]
  },
  {
   "cell_type": "code",
   "execution_count": 16,
   "metadata": {},
   "outputs": [
    {
     "data": {
      "text/plain": [
       "array(['Liquor Store', 'Cheese Shop', 'Restaurant', 'Café', 'Gym',\n",
       "       'Clothing Store', 'Bar', 'Pizza Place', 'Chinese Restaurant',\n",
       "       'Plaza', 'Farmers Market', 'Italian Restaurant', 'Breakfast Spot',\n",
       "       'Eastern European Restaurant', 'Bakery', 'Bistro', 'Hostel',\n",
       "       'Bike Trail', 'Lottery Retailer', 'Pub', 'Candy Store', 'Brewery',\n",
       "       'Juice Bar', 'Bulgarian Restaurant', 'Supermarket', 'Dessert Shop',\n",
       "       'Convenience Store', 'Bus Station', 'Park', 'Athletics & Sports',\n",
       "       'Spa', 'Furniture / Home Store', 'Modern European Restaurant',\n",
       "       'Deli / Bodega', 'Wine Shop', 'Food & Drink Shop',\n",
       "       'Cosmetics Shop', 'Diner', 'Playground', 'Yoga Studio',\n",
       "       'Indian Restaurant', 'Fish Market', 'Cuban Restaurant',\n",
       "       'Beer Garden', 'Greek Restaurant', 'Grocery Store',\n",
       "       'Sushi Restaurant', 'Health & Beauty Service',\n",
       "       'Paper / Office Supplies Store', 'Food Court', 'Lounge',\n",
       "       'Gym / Fitness Center', 'Pharmacy', 'BBQ Joint', 'Tanning Salon',\n",
       "       'Steakhouse', 'Turkish Restaurant', 'Wine Bar', 'Market',\n",
       "       'Toy / Game Store', 'Tram Station', 'Mediterranean Restaurant',\n",
       "       'Fruit & Vegetable Store', 'Electronics Store', 'Kids Store',\n",
       "       'Shop & Service', 'Pet Store', 'Hotel', 'Coffee Shop',\n",
       "       'Comfort Food Restaurant', 'Dairy Store', 'Video Store',\n",
       "       'Bus Stop', 'Forest', 'Garden', 'Board Shop', 'Dance Studio',\n",
       "       'College Cafeteria', 'Baseball Stadium', 'Tennis Court', 'Stadium',\n",
       "       'Shipping Store', 'Pool', 'Flower Shop', 'Hotel Pool',\n",
       "       'Badminton Court', 'Music Store', 'Performing Arts Venue',\n",
       "       'Bookstore', 'Lake', 'Middle Eastern Restaurant', 'Gun Range',\n",
       "       \"Women's Store\", 'Light Rail Station', 'Massage Studio',\n",
       "       'Cocktail Bar', 'Salsa Club', 'French Restaurant', 'Office',\n",
       "       'Fast Food Restaurant', 'Hobby Shop', 'Optical Shop', 'Hot Spring',\n",
       "       'Burrito Place', 'Photography Studio', 'Organic Grocery',\n",
       "       'Gourmet Shop', 'Sporting Goods Shop', 'Sports Club', 'Theme Park',\n",
       "       'Seafood Restaurant', 'Rock Club', 'Cable Car', 'Gastropub',\n",
       "       'Art Gallery', 'Recreation Center', 'Nightclub', 'Sandwich Place',\n",
       "       'Country Dance Club', 'Piano Bar', 'Multiplex', 'Shopping Mall',\n",
       "       'Boxing Gym', 'Frozen Yogurt Shop', 'Movie Theater', \"Men's Store\",\n",
       "       'Jewelry Store', 'Historic Site', 'Metro Station', 'Fountain',\n",
       "       'Ice Cream Shop', 'Hookah Bar', 'Doner Restaurant',\n",
       "       'Track Stadium', 'Racecourse', 'Skate Park', 'Donut Shop',\n",
       "       'Dog Run', 'Nail Salon', 'Pie Shop', 'Building',\n",
       "       'Vegetarian / Vegan Restaurant', 'Fried Chicken Joint',\n",
       "       'Pool Hall', 'Sports Bar', 'Burger Joint', 'Basketball Court',\n",
       "       'Platform', 'Gaming Cafe', 'Concert Hall', 'Record Shop',\n",
       "       'Salon / Barbershop', 'Tailor Shop', 'Camera Store',\n",
       "       'Paella Restaurant', 'Health Food Store', 'Gymnastics Gym',\n",
       "       'General Entertainment', 'Food Truck', 'Falafel Restaurant',\n",
       "       'Shoe Store', 'Food', 'Auto Garage', 'Department Store',\n",
       "       'Soccer Field', 'Mobile Phone Shop', 'Snack Place', 'Music Venue',\n",
       "       'Bank', 'Flea Market', 'Auto Workshop', 'Mountain', 'Bath House',\n",
       "       'Motorcycle Shop', 'Soccer Stadium', 'Fish & Chips Shop',\n",
       "       'Ethiopian Restaurant', 'Stables', 'Pastry Shop', 'Betting Shop',\n",
       "       'Smoke Shop', 'Creperie', 'Dive Spot', 'Casino', 'Lingerie Store',\n",
       "       'Beer Store', 'Bowling Alley', 'Gym Pool', 'Moving Target',\n",
       "       'Bus Line', 'Salad Place', 'Bagel Shop', 'Drugstore',\n",
       "       'Korean Restaurant', 'Other Nightlife', 'Car Wash', 'Winery',\n",
       "       'History Museum', 'Tennis Stadium', 'Theater',\n",
       "       'Monument / Landmark', 'Southern / Soul Food Restaurant',\n",
       "       'Whisky Bar', 'Theme Park Ride / Attraction', 'Kebab Restaurant',\n",
       "       'Russian Restaurant', 'Bridal Shop', 'Canal', 'Boutique',\n",
       "       'German Restaurant'], dtype=object)"
      ]
     },
     "execution_count": 16,
     "metadata": {},
     "output_type": "execute_result"
    }
   ],
   "source": [
    "# Show all the types of venues that are included in the dataset\n",
    "sof_venues[\"Venue Category\"].unique()"
   ]
  },
  {
   "cell_type": "markdown",
   "metadata": {},
   "source": [
    "### Visualizing Venues"
   ]
  },
  {
   "cell_type": "markdown",
   "metadata": {},
   "source": [
    "Showing the total number of venues in a neighborhood is a useful first pass for getting an initial idea of concentrations across the different parts of the city. We count the total nubmmer of venues across each neighborhood and then visualize the top 10 neighborhoods with most places of intereset. The Poligona neighborhood is most densely filled with locales - just a bit less than 60, and it is followed by Iztok, Studentski grad, Lozenets, and Beli Brezi. Those followers all have between 40 and 50 different venues."
   ]
  },
  {
   "cell_type": "code",
   "execution_count": 17,
   "metadata": {},
   "outputs": [
    {
     "data": {
      "text/plain": [
       "<matplotlib.axes._subplots.AxesSubplot at 0x2030bff5e88>"
      ]
     },
     "execution_count": 17,
     "metadata": {},
     "output_type": "execute_result"
    },
    {
     "data": {
      "image/png": "[encoded data removed]",
      "text/plain": [
       "<Figure size 432x288 with 1 Axes>"
      ]
     },
     "metadata": {
      "needs_background": "light"
     },
     "output_type": "display_data"
    }
   ],
   "source": [
    "count = sof_venues[[\"Neighborhood\", \"Venue\"]].groupby('Neighborhood').count()\n",
    "count.sort_values(by = \"Venue\", ascending=False).head(10).plot(kind = \"barh\", color = \"crimson\")"
   ]
  },
  {
   "cell_type": "markdown",
   "metadata": {},
   "source": [
    "### Hipster Locations in Sofia"
   ]
  },
  {
   "cell_type": "markdown",
   "metadata": {},
   "source": [
    "Naturally, the total number of venues is hardly an indicator of how hipster a given space is - the neighborhood all needs to have the \"right\" venue in order to be elevated to the hipster status. Using the literature review and related work, we managed to identify a number of distinguishing hipster-type of venues that are commonly associated with this subculture. We mostly focused on the following:\n",
    "- Presence of a large variety of ethnic restaurants\n",
    "- Venues with artistic functions (e.g. dance studios, galleries, etc.)\n",
    "- Outlets conducive to activites associated with the subculture (e.g. yoga studios, photography studios)\n",
    "- Coffee shops\n",
    "- Local breweries (esp. micro-breweries)\n",
    "- Shops that offer a variety of non-traditional food options (e.g. organic food stores)\n",
    "- Places where vintage or retro items can be purchases, preferably at low prices (e.g. flea markets but not upscale antique shops)\n",
    "\n",
    "To be able to distinguish better, we can go through unique venue categories and only retain those that meet the above criteria. All those types are collected in a list called `hipster` that contains typical categories,  including ethnic resturants, photgraphy and yoga studios, cafes, breweries, performing arts centers, flea markets, and many others. "
   ]
  },
  {
   "cell_type": "code",
   "execution_count": 35,
   "metadata": {},
   "outputs": [
    {
     "data": {
      "text/plain": [
       "<matplotlib.axes._subplots.AxesSubplot at 0x2030cbc9f48>"
      ]
     },
     "execution_count": 35,
     "metadata": {},
     "output_type": "execute_result"
    },
    {
     "data": {
      "image/png": "[encoded data removed]",
      "text/plain": [
       "<Figure size 432x288 with 1 Axes>"
      ]
     },
     "metadata": {
      "needs_background": "light"
     },
     "output_type": "display_data"
    }
   ],
   "source": [
    "# Define hipster venues and plot neighborhoods with highest concentration of those\n",
    "hipster = ['Neighborhood', 'Chinese Restaurant','Italian Restaurant', 'Farmers Market', 'Breakfast Spot', 'Hostel', 'Brewery', 'Juice Bar', 'Modern European Restaurant', 'Wine Shop', 'Deli / Bodega', 'Indian Restaurant', 'Yoga Studio', 'Fish Market', 'Cuban Restaurant', 'Greek Restaurant', 'Sushi Restaurant', 'Lounge', 'Turkish Restaurant', 'Wine Bar', 'Mediterranean Restaurant', 'Coffee Shop', 'Comfort Food Restaurant', 'Board Shop', 'Dance Studio', 'Flower Shop', 'Music Store', 'Performing Arts Venue', 'Bookstore', 'Cocktail Bar', 'French Restaurant', 'Photography Studio', 'Organic Grocery', 'Gourmet Shop', 'Seafood Restaurant', 'Salad Place', 'Gastropub', 'Art Gallery', 'Nightclub', 'Frozen Yogurt Shop', 'Hookah Bar', 'Doner Restaurant', 'Sculpture Garden', 'Vegetarian / Vegan Restaurant', 'Record Shop', 'Camera Store', 'Paella Restaurant', 'Health Food Store', 'Falafel Restaurant', 'Music Venue', 'Food Truck', 'Flea Market', 'Ethiopian Restaurant', 'Creperie', 'Beer Store', 'German Restaurant', 'Korean Restaurant', 'Winery', 'Southern / Soul Food Restaurant', 'Whisky Bar', 'Kebab Restaurant', 'Middle Eastern Restaurant', 'Russian Restaurant']\n",
    "hip_venues = sof_venues[sof_venues[\"Venue Category\"].isin(hipster)]\n",
    "hip_venues = hip_venues[[\"Neighborhood\", \"Venue\"]].groupby('Neighborhood').count()\n",
    "hip_venues.sort_values(by = \"Venue\", ascending=False).head(10).plot(kind = \"barh\", color = \"green\")"
   ]
  },
  {
   "cell_type": "markdown",
   "metadata": {},
   "source": [
    "We then count the number of hipster venues in each of Sofia's neighborhoods and reach a final list of hip places to live. \n",
    "\n",
    "**Top five most hipster neighborhoods** in the city are:\n",
    "1. Iztok;\n",
    "2. Zona B-18;\n",
    "3. Ivan Vazov;\n",
    "4. Poligona;\n",
    "5. Lozenets.\n",
    "\n",
    "Notably, the places with the most venues do not necessarily coincide with the place with the most hip venues, showing the importance of composition. High concentration of things to do does not always imply a high concentration of cool things to do."
   ]
  },
  {
   "cell_type": "markdown",
   "metadata": {},
   "source": [
    "### Similar Locations in the City"
   ]
  },
  {
   "cell_type": "markdown",
   "metadata": {},
   "source": [
    "The current dataset contains only places where hipster-related venues are present. Note that initially we lookeds at 83 different quarters, but there are only 58 quarters which have at least one hipster-related venue. **This means that fully 25 neibghboorhoods have no tokens or venues, associated with the hipster subculture.** \n",
    "\n",
    "Among the other 58, we note that they display significant differences among themselves. It thus makes sense to group them into clusters in such a way that each cluster is symptotatic of a different expression of hipster.  **To do this we leverage the k-means algorithm since it is a useful way to from clusters based on average values of different group features.** This is particularly useful as we can work with average propensity of a given venue appearing in a given neighborhood. Furthermore, after the grouping is complete, we can investigate the cluster centroids, interpret them, and identify the type of hipster that this cluster has captured.\n",
    "\n",
    "To this end we first prepare a data frame for the clustering taks - `hip_cluster` that contains only hipster-related venues. Then we do one hot encoding, thus defining a binary variable of whether a certain venue appears. Finally, we take the mean of this binary variable, giving an effective probability of this specific venue appearing in the specific neighborhood."
   ]
  },
  {
   "cell_type": "code",
   "execution_count": 24,
   "metadata": {},
   "outputs": [],
   "source": [
    "hip_cluster = sof_venues[sof_venues[\"Venue Category\"].isin(hipster)]\n",
    "\n",
    "# one hot encoding\n",
    "hip_onehot = pd.get_dummies(hip_cluster[['Venue Category']], prefix=\"\", prefix_sep=\"\")\n",
    "\n",
    "# add neighborhood column back to dataframe\n",
    "hip_onehot['Neighborhood'] = sof_venues['Neighborhood'] \n",
    "\n",
    "# move neighborhood column to the first column\n",
    "fixed_columns = [hip_onehot.columns[-1]] + list(hip_onehot.columns[:-1])\n",
    "hip_onehot = hip_onehot[fixed_columns]\n",
    "\n",
    "hip_grouped = hip_onehot.groupby('Neighborhood').mean().reset_index()"
   ]
  },
  {
   "cell_type": "markdown",
   "metadata": {},
   "source": [
    "To make sure everything proceeded as planned, we inspect the data frame."
   ]
  },
  {
   "cell_type": "code",
   "execution_count": 26,
   "metadata": {},
   "outputs": [
    {
     "data": {
      "text/html": [
       "<div>\n",
       "<style scoped>\n",
       "    .dataframe tbody tr th:only-of-type {\n",
       "        vertical-align: middle;\n",
       "    }\n",
       "\n",
       "    .dataframe tbody tr th {\n",
       "        vertical-align: top;\n",
       "    }\n",
       "\n",
       "    .dataframe thead th {\n",
       "        text-align: right;\n",
       "    }\n",
       "</style>\n",
       "<table border=\"1\" class=\"dataframe\">\n",
       "  <thead>\n",
       "    <tr style=\"text-align: right;\">\n",
       "      <th></th>\n",
       "      <th>Neighborhood</th>\n",
       "      <th>Art Gallery</th>\n",
       "      <th>Beer Store</th>\n",
       "      <th>Board Shop</th>\n",
       "      <th>Bookstore</th>\n",
       "      <th>Breakfast Spot</th>\n",
       "      <th>Brewery</th>\n",
       "      <th>Camera Store</th>\n",
       "      <th>Chinese Restaurant</th>\n",
       "      <th>Cocktail Bar</th>\n",
       "      <th>...</th>\n",
       "      <th>Seafood Restaurant</th>\n",
       "      <th>Southern / Soul Food Restaurant</th>\n",
       "      <th>Sushi Restaurant</th>\n",
       "      <th>Turkish Restaurant</th>\n",
       "      <th>Vegetarian / Vegan Restaurant</th>\n",
       "      <th>Whisky Bar</th>\n",
       "      <th>Wine Bar</th>\n",
       "      <th>Wine Shop</th>\n",
       "      <th>Winery</th>\n",
       "      <th>Yoga Studio</th>\n",
       "    </tr>\n",
       "  </thead>\n",
       "  <tbody>\n",
       "    <tr>\n",
       "      <th>0</th>\n",
       "      <td>Bakston</td>\n",
       "      <td>0.0</td>\n",
       "      <td>0.0</td>\n",
       "      <td>0.0</td>\n",
       "      <td>0.0</td>\n",
       "      <td>0.166667</td>\n",
       "      <td>0.0</td>\n",
       "      <td>0.0</td>\n",
       "      <td>0.166667</td>\n",
       "      <td>0.0</td>\n",
       "      <td>...</td>\n",
       "      <td>0.0</td>\n",
       "      <td>0.0</td>\n",
       "      <td>0.0</td>\n",
       "      <td>0.000000</td>\n",
       "      <td>0.0</td>\n",
       "      <td>0.0</td>\n",
       "      <td>0.000000</td>\n",
       "      <td>0.000000</td>\n",
       "      <td>0.0</td>\n",
       "      <td>0.0</td>\n",
       "    </tr>\n",
       "    <tr>\n",
       "      <th>1</th>\n",
       "      <td>Banishora</td>\n",
       "      <td>0.0</td>\n",
       "      <td>0.0</td>\n",
       "      <td>0.0</td>\n",
       "      <td>0.0</td>\n",
       "      <td>0.000000</td>\n",
       "      <td>0.5</td>\n",
       "      <td>0.0</td>\n",
       "      <td>0.000000</td>\n",
       "      <td>0.0</td>\n",
       "      <td>...</td>\n",
       "      <td>0.0</td>\n",
       "      <td>0.0</td>\n",
       "      <td>0.0</td>\n",
       "      <td>0.000000</td>\n",
       "      <td>0.0</td>\n",
       "      <td>0.0</td>\n",
       "      <td>0.000000</td>\n",
       "      <td>0.000000</td>\n",
       "      <td>0.0</td>\n",
       "      <td>0.0</td>\n",
       "    </tr>\n",
       "    <tr>\n",
       "      <th>2</th>\n",
       "      <td>Beli brezi</td>\n",
       "      <td>0.0</td>\n",
       "      <td>0.0</td>\n",
       "      <td>0.0</td>\n",
       "      <td>0.0</td>\n",
       "      <td>0.000000</td>\n",
       "      <td>0.0</td>\n",
       "      <td>0.0</td>\n",
       "      <td>0.000000</td>\n",
       "      <td>0.0</td>\n",
       "      <td>...</td>\n",
       "      <td>0.0</td>\n",
       "      <td>0.0</td>\n",
       "      <td>0.1</td>\n",
       "      <td>0.000000</td>\n",
       "      <td>0.0</td>\n",
       "      <td>0.0</td>\n",
       "      <td>0.000000</td>\n",
       "      <td>0.100000</td>\n",
       "      <td>0.0</td>\n",
       "      <td>0.1</td>\n",
       "    </tr>\n",
       "    <tr>\n",
       "      <th>3</th>\n",
       "      <td>Benkovski</td>\n",
       "      <td>0.0</td>\n",
       "      <td>0.0</td>\n",
       "      <td>0.0</td>\n",
       "      <td>0.0</td>\n",
       "      <td>0.000000</td>\n",
       "      <td>0.0</td>\n",
       "      <td>0.0</td>\n",
       "      <td>0.000000</td>\n",
       "      <td>0.0</td>\n",
       "      <td>...</td>\n",
       "      <td>0.0</td>\n",
       "      <td>0.0</td>\n",
       "      <td>0.0</td>\n",
       "      <td>0.000000</td>\n",
       "      <td>0.0</td>\n",
       "      <td>0.0</td>\n",
       "      <td>0.000000</td>\n",
       "      <td>0.000000</td>\n",
       "      <td>0.0</td>\n",
       "      <td>0.0</td>\n",
       "    </tr>\n",
       "    <tr>\n",
       "      <th>4</th>\n",
       "      <td>Borovo</td>\n",
       "      <td>0.0</td>\n",
       "      <td>0.0</td>\n",
       "      <td>0.0</td>\n",
       "      <td>0.0</td>\n",
       "      <td>0.000000</td>\n",
       "      <td>0.0</td>\n",
       "      <td>0.0</td>\n",
       "      <td>0.000000</td>\n",
       "      <td>0.0</td>\n",
       "      <td>...</td>\n",
       "      <td>0.0</td>\n",
       "      <td>0.0</td>\n",
       "      <td>0.0</td>\n",
       "      <td>0.142857</td>\n",
       "      <td>0.0</td>\n",
       "      <td>0.0</td>\n",
       "      <td>0.142857</td>\n",
       "      <td>0.285714</td>\n",
       "      <td>0.0</td>\n",
       "      <td>0.0</td>\n",
       "    </tr>\n",
       "  </tbody>\n",
       "</table>\n",
       "<p>5 rows × 62 columns</p>\n",
       "</div>"
      ],
      "text/plain": [
       "   Neighborhood  Art Gallery  Beer Store  Board Shop  Bookstore  \\\n",
       "0      Bakston           0.0         0.0         0.0        0.0   \n",
       "1    Banishora           0.0         0.0         0.0        0.0   \n",
       "2   Beli brezi           0.0         0.0         0.0        0.0   \n",
       "3    Benkovski           0.0         0.0         0.0        0.0   \n",
       "4       Borovo           0.0         0.0         0.0        0.0   \n",
       "\n",
       "   Breakfast Spot  Brewery  Camera Store  Chinese Restaurant  Cocktail Bar  \\\n",
       "0        0.166667      0.0           0.0            0.166667           0.0   \n",
       "1        0.000000      0.5           0.0            0.000000           0.0   \n",
       "2        0.000000      0.0           0.0            0.000000           0.0   \n",
       "3        0.000000      0.0           0.0            0.000000           0.0   \n",
       "4        0.000000      0.0           0.0            0.000000           0.0   \n",
       "\n",
       "   ...  Seafood Restaurant  Southern / Soul Food Restaurant  Sushi Restaurant  \\\n",
       "0  ...                 0.0                              0.0               0.0   \n",
       "1  ...                 0.0                              0.0               0.0   \n",
       "2  ...                 0.0                              0.0               0.1   \n",
       "3  ...                 0.0                              0.0               0.0   \n",
       "4  ...                 0.0                              0.0               0.0   \n",
       "\n",
       "   Turkish Restaurant  Vegetarian / Vegan Restaurant  Whisky Bar  Wine Bar  \\\n",
       "0            0.000000                            0.0         0.0  0.000000   \n",
       "1            0.000000                            0.0         0.0  0.000000   \n",
       "2            0.000000                            0.0         0.0  0.000000   \n",
       "3            0.000000                            0.0         0.0  0.000000   \n",
       "4            0.142857                            0.0         0.0  0.142857   \n",
       "\n",
       "   Wine Shop  Winery  Yoga Studio  \n",
       "0   0.000000     0.0          0.0  \n",
       "1   0.000000     0.0          0.0  \n",
       "2   0.100000     0.0          0.1  \n",
       "3   0.000000     0.0          0.0  \n",
       "4   0.285714     0.0          0.0  \n",
       "\n",
       "[5 rows x 62 columns]"
      ]
     },
     "execution_count": 26,
     "metadata": {},
     "output_type": "execute_result"
    }
   ],
   "source": [
    "hip_grouped.head()"
   ]
  },
  {
   "cell_type": "markdown",
   "metadata": {},
   "source": [
    "As  a next step we execute the k-means clustering algorithm, and add the labels to a specific `clusters` data frame. A key questions is what is the optimum number of k that is meaningful in this case. After experimentation, it seems that k of 3 or less generates very dense and generic clusters, while k of 5 or more generates very tiny clusters (of one or two neighborhoods).  This is why we set the requisite value to k = 4."
   ]
  },
  {
   "cell_type": "code",
   "execution_count": 28,
   "metadata": {},
   "outputs": [],
   "source": [
    "# set number of clusters\n",
    "kclusters = 4\n",
    "\n",
    "hip_grouped_clustering = hip_grouped.drop('Neighborhood', 1)\n",
    "\n",
    "# run k-means clustering\n",
    "kmeans = KMeans(n_clusters=kclusters, random_state=0).fit(hip_grouped_clustering)\n",
    "\n",
    "# add clustering labels\n",
    "\n",
    "clusters = pd.DataFrame(hip_grouped[\"Neighborhood\"])\n",
    "clusters[\"Cluster Label\"] = pd.DataFrame(kmeans.labels_)"
   ]
  },
  {
   "cell_type": "markdown",
   "metadata": {},
   "source": [
    "Yet again, we check if the data in the `clusters` data frame looks as expected."
   ]
  },
  {
   "cell_type": "code",
   "execution_count": 29,
   "metadata": {},
   "outputs": [
    {
     "data": {
      "text/html": [
       "<div>\n",
       "<style scoped>\n",
       "    .dataframe tbody tr th:only-of-type {\n",
       "        vertical-align: middle;\n",
       "    }\n",
       "\n",
       "    .dataframe tbody tr th {\n",
       "        vertical-align: top;\n",
       "    }\n",
       "\n",
       "    .dataframe thead th {\n",
       "        text-align: right;\n",
       "    }\n",
       "</style>\n",
       "<table border=\"1\" class=\"dataframe\">\n",
       "  <thead>\n",
       "    <tr style=\"text-align: right;\">\n",
       "      <th></th>\n",
       "      <th>Neighborhood</th>\n",
       "      <th>Cluster Label</th>\n",
       "    </tr>\n",
       "  </thead>\n",
       "  <tbody>\n",
       "    <tr>\n",
       "      <th>0</th>\n",
       "      <td>Bakston</td>\n",
       "      <td>2</td>\n",
       "    </tr>\n",
       "    <tr>\n",
       "      <th>1</th>\n",
       "      <td>Banishora</td>\n",
       "      <td>2</td>\n",
       "    </tr>\n",
       "    <tr>\n",
       "      <th>2</th>\n",
       "      <td>Beli brezi</td>\n",
       "      <td>2</td>\n",
       "    </tr>\n",
       "    <tr>\n",
       "      <th>3</th>\n",
       "      <td>Benkovski</td>\n",
       "      <td>2</td>\n",
       "    </tr>\n",
       "    <tr>\n",
       "      <th>4</th>\n",
       "      <td>Borovo</td>\n",
       "      <td>0</td>\n",
       "    </tr>\n",
       "  </tbody>\n",
       "</table>\n",
       "</div>"
      ],
      "text/plain": [
       "   Neighborhood  Cluster Label\n",
       "0      Bakston               2\n",
       "1    Banishora               2\n",
       "2   Beli brezi               2\n",
       "3    Benkovski               2\n",
       "4       Borovo               0"
      ]
     },
     "execution_count": 29,
     "metadata": {},
     "output_type": "execute_result"
    }
   ],
   "source": [
    "clusters.head()"
   ]
  },
  {
   "cell_type": "markdown",
   "metadata": {},
   "source": [
    "To be able to display the clyters on the map we add the coordianates to the neighborhood/cluster pair in a new dataframe."
   ]
  },
  {
   "cell_type": "code",
   "execution_count": 30,
   "metadata": {},
   "outputs": [
    {
     "data": {
      "text/html": [
       "<div>\n",
       "<style scoped>\n",
       "    .dataframe tbody tr th:only-of-type {\n",
       "        vertical-align: middle;\n",
       "    }\n",
       "\n",
       "    .dataframe tbody tr th {\n",
       "        vertical-align: top;\n",
       "    }\n",
       "\n",
       "    .dataframe thead th {\n",
       "        text-align: right;\n",
       "    }\n",
       "</style>\n",
       "<table border=\"1\" class=\"dataframe\">\n",
       "  <thead>\n",
       "    <tr style=\"text-align: right;\">\n",
       "      <th></th>\n",
       "      <th>Neighborhood</th>\n",
       "      <th>Cluster Label</th>\n",
       "      <th>Longitude</th>\n",
       "      <th>Latitude</th>\n",
       "    </tr>\n",
       "  </thead>\n",
       "  <tbody>\n",
       "    <tr>\n",
       "      <th>0</th>\n",
       "      <td>Bakston</td>\n",
       "      <td>2</td>\n",
       "      <td>23.270201</td>\n",
       "      <td>42.665660</td>\n",
       "    </tr>\n",
       "    <tr>\n",
       "      <th>1</th>\n",
       "      <td>Banishora</td>\n",
       "      <td>2</td>\n",
       "      <td>23.308800</td>\n",
       "      <td>42.710190</td>\n",
       "    </tr>\n",
       "    <tr>\n",
       "      <th>2</th>\n",
       "      <td>Beli brezi</td>\n",
       "      <td>2</td>\n",
       "      <td>23.292072</td>\n",
       "      <td>42.677239</td>\n",
       "    </tr>\n",
       "    <tr>\n",
       "      <th>3</th>\n",
       "      <td>Benkovski</td>\n",
       "      <td>2</td>\n",
       "      <td>23.342497</td>\n",
       "      <td>42.738117</td>\n",
       "    </tr>\n",
       "    <tr>\n",
       "      <th>4</th>\n",
       "      <td>Borovo</td>\n",
       "      <td>0</td>\n",
       "      <td>23.286333</td>\n",
       "      <td>42.669876</td>\n",
       "    </tr>\n",
       "  </tbody>\n",
       "</table>\n",
       "</div>"
      ],
      "text/plain": [
       "   Neighborhood  Cluster Label  Longitude   Latitude\n",
       "0      Bakston               2  23.270201  42.665660\n",
       "1    Banishora               2  23.308800  42.710190\n",
       "2   Beli brezi               2  23.292072  42.677239\n",
       "3    Benkovski               2  23.342497  42.738117\n",
       "4       Borovo               0  23.286333  42.669876"
      ]
     },
     "execution_count": 30,
     "metadata": {},
     "output_type": "execute_result"
    }
   ],
   "source": [
    "# merge to add latitude/longitude for each neighborhood\n",
    "hip_merged = pd.merge(clusters, coord, on = 'Neighborhood')\n",
    "hip_merged.head()"
   ]
  },
  {
   "cell_type": "markdown",
   "metadata": {},
   "source": [
    "### Flavors of Hip"
   ]
  },
  {
   "cell_type": "markdown",
   "metadata": {},
   "source": [
    "The map of hipster clusters show what type of groups we can find in the data, and those also hint that in the different parts fo the city casual strollers and tourists alike are likely to go through a set of very different hip experiences."
   ]
  },
  {
   "cell_type": "code",
   "execution_count": 31,
   "metadata": {},
   "outputs": [
    {
     "data": {
      "text/html": [
       "<div style=\"width:100%;\"><div style=\"position:relative;width:100%;height:0;padding-bottom:60%;\"><iframe src=\"about:blank\" style=\"position:absolute;width:100%;height:100%;left:0;top:0;border:none !important;\" data-html=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 onload=\"this.contentDocument.open();this.contentDocument.write(atob(this.getAttribute('data-html')));this.contentDocument.close();\" allowfullscreen webkitallowfullscreen mozallowfullscreen></iframe></div></div>"
      ],
      "text/plain": [
       "<folium.folium.Map at 0x2030c6370c8>"
      ]
     },
     "execution_count": 31,
     "metadata": {},
     "output_type": "execute_result"
    }
   ],
   "source": [
    "# create map\n",
    "map_cl = folium.Map(location=[latitude, longitude], zoom_start=12)\n",
    "\n",
    "# set color scheme for the clusters\n",
    "x = np.arange(kclusters)\n",
    "ys = [i + x + (i*x)**2 for i in range(kclusters)]\n",
    "colors_array = cm.rainbow(np.linspace(0, 1, len(ys)))\n",
    "rainbow = [colors.rgb2hex(i) for i in colors_array]\n",
    "\n",
    "# add markers to the map\n",
    "markers_colors = []\n",
    "for lat, lon, poi, cluster in zip(hip_merged['Latitude'], hip_merged['Longitude'], hip_merged['Neighborhood'], hip_merged['Cluster Label']):\n",
    "    label = folium.Popup(str(poi) + ' Cluster ' + str(cluster), parse_html=True)\n",
    "    folium.CircleMarker(\n",
    "        [lat, lon],\n",
    "        radius=5,\n",
    "        popup=label,\n",
    "        color=rainbow[cluster-1],\n",
    "        fill=True,\n",
    "        fill_color=rainbow[cluster-1],\n",
    "        fill_opacity=0.7).add_to(map_cl)\n",
    "       \n",
    "map_cl"
   ]
  },
  {
   "cell_type": "markdown",
   "metadata": {},
   "source": [
    "As a last step towards understanding the different types of neighborhoods and how they group together we can have a look at the cluster centroids and see what insight they can provide. To this end we extract the centroids from the model in order to better be able to investigate them."
   ]
  },
  {
   "cell_type": "code",
   "execution_count": 33,
   "metadata": {},
   "outputs": [],
   "source": [
    "# Create a data frame with cluster centroids\n",
    "cl_centers = pd.DataFrame(kmeans.cluster_centers_)\n",
    "cl_centers.columns = hip_grouped.iloc[:,1:63].columns"
   ]
  },
  {
   "cell_type": "markdown",
   "metadata": {},
   "source": [
    "Let us now investigate the centroids, as follows:"
   ]
  },
  {
   "cell_type": "code",
   "execution_count": 28,
   "metadata": {},
   "outputs": [
    {
     "data": {
      "text/html": [
       "<div>\n",
       "<style scoped>\n",
       "    .dataframe tbody tr th:only-of-type {\n",
       "        vertical-align: middle;\n",
       "    }\n",
       "\n",
       "    .dataframe tbody tr th {\n",
       "        vertical-align: top;\n",
       "    }\n",
       "\n",
       "    .dataframe thead th {\n",
       "        text-align: right;\n",
       "    }\n",
       "</style>\n",
       "<table border=\"1\" class=\"dataframe\">\n",
       "  <thead>\n",
       "    <tr style=\"text-align: right;\">\n",
       "      <th></th>\n",
       "      <th>0</th>\n",
       "      <th>1</th>\n",
       "      <th>2</th>\n",
       "      <th>3</th>\n",
       "    </tr>\n",
       "  </thead>\n",
       "  <tbody>\n",
       "    <tr>\n",
       "      <th>Art Gallery</th>\n",
       "      <td>0.0</td>\n",
       "      <td>0.003</td>\n",
       "      <td>0.000</td>\n",
       "      <td>0.016</td>\n",
       "    </tr>\n",
       "    <tr>\n",
       "      <th>Beer Store</th>\n",
       "      <td>0.0</td>\n",
       "      <td>0.002</td>\n",
       "      <td>0.000</td>\n",
       "      <td>0.000</td>\n",
       "    </tr>\n",
       "    <tr>\n",
       "      <th>Board Shop</th>\n",
       "      <td>0.0</td>\n",
       "      <td>0.004</td>\n",
       "      <td>0.000</td>\n",
       "      <td>0.000</td>\n",
       "    </tr>\n",
       "    <tr>\n",
       "      <th>Bookstore</th>\n",
       "      <td>0.0</td>\n",
       "      <td>0.021</td>\n",
       "      <td>0.000</td>\n",
       "      <td>0.000</td>\n",
       "    </tr>\n",
       "    <tr>\n",
       "      <th>Breakfast Spot</th>\n",
       "      <td>0.0</td>\n",
       "      <td>0.019</td>\n",
       "      <td>0.000</td>\n",
       "      <td>0.000</td>\n",
       "    </tr>\n",
       "    <tr>\n",
       "      <th>Brewery</th>\n",
       "      <td>0.0</td>\n",
       "      <td>0.008</td>\n",
       "      <td>0.000</td>\n",
       "      <td>0.000</td>\n",
       "    </tr>\n",
       "    <tr>\n",
       "      <th>Camera Store</th>\n",
       "      <td>0.0</td>\n",
       "      <td>0.013</td>\n",
       "      <td>0.000</td>\n",
       "      <td>0.000</td>\n",
       "    </tr>\n",
       "    <tr>\n",
       "      <th>Chinese Restaurant</th>\n",
       "      <td>0.0</td>\n",
       "      <td>0.055</td>\n",
       "      <td>0.792</td>\n",
       "      <td>0.074</td>\n",
       "    </tr>\n",
       "    <tr>\n",
       "      <th>Cocktail Bar</th>\n",
       "      <td>0.0</td>\n",
       "      <td>0.046</td>\n",
       "      <td>0.000</td>\n",
       "      <td>0.000</td>\n",
       "    </tr>\n",
       "    <tr>\n",
       "      <th>Coffee Shop</th>\n",
       "      <td>0.0</td>\n",
       "      <td>0.074</td>\n",
       "      <td>0.000</td>\n",
       "      <td>0.000</td>\n",
       "    </tr>\n",
       "    <tr>\n",
       "      <th>Comfort Food Restaurant</th>\n",
       "      <td>0.0</td>\n",
       "      <td>0.010</td>\n",
       "      <td>0.000</td>\n",
       "      <td>-0.000</td>\n",
       "    </tr>\n",
       "    <tr>\n",
       "      <th>Creperie</th>\n",
       "      <td>0.0</td>\n",
       "      <td>0.025</td>\n",
       "      <td>0.000</td>\n",
       "      <td>0.000</td>\n",
       "    </tr>\n",
       "    <tr>\n",
       "      <th>Cuban Restaurant</th>\n",
       "      <td>0.0</td>\n",
       "      <td>0.003</td>\n",
       "      <td>0.000</td>\n",
       "      <td>0.016</td>\n",
       "    </tr>\n",
       "    <tr>\n",
       "      <th>Dance Studio</th>\n",
       "      <td>0.0</td>\n",
       "      <td>0.047</td>\n",
       "      <td>0.000</td>\n",
       "      <td>0.000</td>\n",
       "    </tr>\n",
       "    <tr>\n",
       "      <th>Deli / Bodega</th>\n",
       "      <td>0.0</td>\n",
       "      <td>0.004</td>\n",
       "      <td>0.000</td>\n",
       "      <td>0.016</td>\n",
       "    </tr>\n",
       "    <tr>\n",
       "      <th>Doner Restaurant</th>\n",
       "      <td>0.0</td>\n",
       "      <td>0.010</td>\n",
       "      <td>0.000</td>\n",
       "      <td>0.000</td>\n",
       "    </tr>\n",
       "    <tr>\n",
       "      <th>Ethiopian Restaurant</th>\n",
       "      <td>0.0</td>\n",
       "      <td>0.000</td>\n",
       "      <td>0.000</td>\n",
       "      <td>0.037</td>\n",
       "    </tr>\n",
       "    <tr>\n",
       "      <th>Falafel Restaurant</th>\n",
       "      <td>0.0</td>\n",
       "      <td>0.049</td>\n",
       "      <td>0.000</td>\n",
       "      <td>0.000</td>\n",
       "    </tr>\n",
       "    <tr>\n",
       "      <th>Farmers Market</th>\n",
       "      <td>0.0</td>\n",
       "      <td>0.052</td>\n",
       "      <td>0.083</td>\n",
       "      <td>-0.000</td>\n",
       "    </tr>\n",
       "    <tr>\n",
       "      <th>Fish Market</th>\n",
       "      <td>0.0</td>\n",
       "      <td>0.003</td>\n",
       "      <td>0.000</td>\n",
       "      <td>0.000</td>\n",
       "    </tr>\n",
       "    <tr>\n",
       "      <th>Flower Shop</th>\n",
       "      <td>0.0</td>\n",
       "      <td>0.003</td>\n",
       "      <td>0.000</td>\n",
       "      <td>0.037</td>\n",
       "    </tr>\n",
       "    <tr>\n",
       "      <th>Food Truck</th>\n",
       "      <td>0.0</td>\n",
       "      <td>0.002</td>\n",
       "      <td>0.000</td>\n",
       "      <td>0.000</td>\n",
       "    </tr>\n",
       "    <tr>\n",
       "      <th>French Restaurant</th>\n",
       "      <td>0.0</td>\n",
       "      <td>0.007</td>\n",
       "      <td>0.000</td>\n",
       "      <td>0.000</td>\n",
       "    </tr>\n",
       "    <tr>\n",
       "      <th>Frozen Yogurt Shop</th>\n",
       "      <td>0.0</td>\n",
       "      <td>0.007</td>\n",
       "      <td>0.000</td>\n",
       "      <td>0.000</td>\n",
       "    </tr>\n",
       "    <tr>\n",
       "      <th>Gastropub</th>\n",
       "      <td>0.0</td>\n",
       "      <td>-0.000</td>\n",
       "      <td>0.125</td>\n",
       "      <td>0.016</td>\n",
       "    </tr>\n",
       "    <tr>\n",
       "      <th>German Restaurant</th>\n",
       "      <td>0.0</td>\n",
       "      <td>0.006</td>\n",
       "      <td>0.000</td>\n",
       "      <td>-0.000</td>\n",
       "    </tr>\n",
       "    <tr>\n",
       "      <th>Gourmet Shop</th>\n",
       "      <td>0.0</td>\n",
       "      <td>0.015</td>\n",
       "      <td>0.000</td>\n",
       "      <td>0.000</td>\n",
       "    </tr>\n",
       "    <tr>\n",
       "      <th>Greek Restaurant</th>\n",
       "      <td>0.0</td>\n",
       "      <td>0.042</td>\n",
       "      <td>0.000</td>\n",
       "      <td>0.000</td>\n",
       "    </tr>\n",
       "    <tr>\n",
       "      <th>Health Food Store</th>\n",
       "      <td>0.0</td>\n",
       "      <td>0.002</td>\n",
       "      <td>0.000</td>\n",
       "      <td>0.000</td>\n",
       "    </tr>\n",
       "    <tr>\n",
       "      <th>Hookah Bar</th>\n",
       "      <td>0.0</td>\n",
       "      <td>0.014</td>\n",
       "      <td>0.000</td>\n",
       "      <td>0.000</td>\n",
       "    </tr>\n",
       "    <tr>\n",
       "      <th>Hostel</th>\n",
       "      <td>0.0</td>\n",
       "      <td>0.006</td>\n",
       "      <td>0.000</td>\n",
       "      <td>-0.000</td>\n",
       "    </tr>\n",
       "    <tr>\n",
       "      <th>Indian Restaurant</th>\n",
       "      <td>0.0</td>\n",
       "      <td>0.003</td>\n",
       "      <td>0.000</td>\n",
       "      <td>0.000</td>\n",
       "    </tr>\n",
       "    <tr>\n",
       "      <th>Italian Restaurant</th>\n",
       "      <td>0.0</td>\n",
       "      <td>0.025</td>\n",
       "      <td>0.000</td>\n",
       "      <td>0.548</td>\n",
       "    </tr>\n",
       "    <tr>\n",
       "      <th>Juice Bar</th>\n",
       "      <td>0.0</td>\n",
       "      <td>0.037</td>\n",
       "      <td>0.000</td>\n",
       "      <td>0.000</td>\n",
       "    </tr>\n",
       "    <tr>\n",
       "      <th>Kebab Restaurant</th>\n",
       "      <td>0.0</td>\n",
       "      <td>0.002</td>\n",
       "      <td>0.000</td>\n",
       "      <td>0.000</td>\n",
       "    </tr>\n",
       "    <tr>\n",
       "      <th>Korean Restaurant</th>\n",
       "      <td>0.0</td>\n",
       "      <td>0.003</td>\n",
       "      <td>0.000</td>\n",
       "      <td>0.000</td>\n",
       "    </tr>\n",
       "    <tr>\n",
       "      <th>Lounge</th>\n",
       "      <td>0.0</td>\n",
       "      <td>0.026</td>\n",
       "      <td>0.000</td>\n",
       "      <td>0.000</td>\n",
       "    </tr>\n",
       "    <tr>\n",
       "      <th>Mediterranean Restaurant</th>\n",
       "      <td>0.0</td>\n",
       "      <td>0.008</td>\n",
       "      <td>0.000</td>\n",
       "      <td>0.022</td>\n",
       "    </tr>\n",
       "    <tr>\n",
       "      <th>Middle Eastern Restaurant</th>\n",
       "      <td>0.0</td>\n",
       "      <td>0.002</td>\n",
       "      <td>0.000</td>\n",
       "      <td>0.000</td>\n",
       "    </tr>\n",
       "    <tr>\n",
       "      <th>Modern European Restaurant</th>\n",
       "      <td>0.0</td>\n",
       "      <td>0.073</td>\n",
       "      <td>0.000</td>\n",
       "      <td>0.044</td>\n",
       "    </tr>\n",
       "    <tr>\n",
       "      <th>Music Store</th>\n",
       "      <td>0.0</td>\n",
       "      <td>0.008</td>\n",
       "      <td>0.000</td>\n",
       "      <td>0.000</td>\n",
       "    </tr>\n",
       "    <tr>\n",
       "      <th>Music Venue</th>\n",
       "      <td>0.0</td>\n",
       "      <td>0.019</td>\n",
       "      <td>0.000</td>\n",
       "      <td>0.037</td>\n",
       "    </tr>\n",
       "    <tr>\n",
       "      <th>Nightclub</th>\n",
       "      <td>0.0</td>\n",
       "      <td>0.031</td>\n",
       "      <td>0.000</td>\n",
       "      <td>0.000</td>\n",
       "    </tr>\n",
       "    <tr>\n",
       "      <th>Organic Grocery</th>\n",
       "      <td>0.0</td>\n",
       "      <td>0.010</td>\n",
       "      <td>0.000</td>\n",
       "      <td>-0.000</td>\n",
       "    </tr>\n",
       "    <tr>\n",
       "      <th>Paella Restaurant</th>\n",
       "      <td>0.0</td>\n",
       "      <td>0.002</td>\n",
       "      <td>0.000</td>\n",
       "      <td>0.000</td>\n",
       "    </tr>\n",
       "    <tr>\n",
       "      <th>Performing Arts Venue</th>\n",
       "      <td>0.0</td>\n",
       "      <td>0.008</td>\n",
       "      <td>0.000</td>\n",
       "      <td>0.000</td>\n",
       "    </tr>\n",
       "    <tr>\n",
       "      <th>Photography Studio</th>\n",
       "      <td>0.0</td>\n",
       "      <td>0.023</td>\n",
       "      <td>0.000</td>\n",
       "      <td>-0.000</td>\n",
       "    </tr>\n",
       "    <tr>\n",
       "      <th>Record Shop</th>\n",
       "      <td>0.0</td>\n",
       "      <td>0.002</td>\n",
       "      <td>0.000</td>\n",
       "      <td>0.037</td>\n",
       "    </tr>\n",
       "    <tr>\n",
       "      <th>Russian Restaurant</th>\n",
       "      <td>0.0</td>\n",
       "      <td>0.002</td>\n",
       "      <td>0.000</td>\n",
       "      <td>0.000</td>\n",
       "    </tr>\n",
       "    <tr>\n",
       "      <th>Salad Place</th>\n",
       "      <td>0.0</td>\n",
       "      <td>0.022</td>\n",
       "      <td>0.000</td>\n",
       "      <td>-0.000</td>\n",
       "    </tr>\n",
       "    <tr>\n",
       "      <th>Sculpture Garden</th>\n",
       "      <td>0.0</td>\n",
       "      <td>0.013</td>\n",
       "      <td>0.000</td>\n",
       "      <td>0.000</td>\n",
       "    </tr>\n",
       "    <tr>\n",
       "      <th>Seafood Restaurant</th>\n",
       "      <td>0.0</td>\n",
       "      <td>0.038</td>\n",
       "      <td>0.000</td>\n",
       "      <td>0.000</td>\n",
       "    </tr>\n",
       "    <tr>\n",
       "      <th>Southern / Soul Food Restaurant</th>\n",
       "      <td>0.0</td>\n",
       "      <td>0.008</td>\n",
       "      <td>0.000</td>\n",
       "      <td>0.000</td>\n",
       "    </tr>\n",
       "    <tr>\n",
       "      <th>Sushi Restaurant</th>\n",
       "      <td>0.0</td>\n",
       "      <td>0.012</td>\n",
       "      <td>0.000</td>\n",
       "      <td>0.000</td>\n",
       "    </tr>\n",
       "    <tr>\n",
       "      <th>Turkish Restaurant</th>\n",
       "      <td>1.0</td>\n",
       "      <td>0.007</td>\n",
       "      <td>0.000</td>\n",
       "      <td>0.022</td>\n",
       "    </tr>\n",
       "    <tr>\n",
       "      <th>Vegetarian / Vegan Restaurant</th>\n",
       "      <td>0.0</td>\n",
       "      <td>0.001</td>\n",
       "      <td>0.000</td>\n",
       "      <td>0.056</td>\n",
       "    </tr>\n",
       "    <tr>\n",
       "      <th>Whisky Bar</th>\n",
       "      <td>0.0</td>\n",
       "      <td>0.023</td>\n",
       "      <td>0.000</td>\n",
       "      <td>-0.000</td>\n",
       "    </tr>\n",
       "    <tr>\n",
       "      <th>Wine Bar</th>\n",
       "      <td>0.0</td>\n",
       "      <td>-0.000</td>\n",
       "      <td>0.000</td>\n",
       "      <td>0.022</td>\n",
       "    </tr>\n",
       "    <tr>\n",
       "      <th>Wine Shop</th>\n",
       "      <td>0.0</td>\n",
       "      <td>0.003</td>\n",
       "      <td>0.000</td>\n",
       "      <td>0.000</td>\n",
       "    </tr>\n",
       "    <tr>\n",
       "      <th>Winery</th>\n",
       "      <td>0.0</td>\n",
       "      <td>0.008</td>\n",
       "      <td>0.000</td>\n",
       "      <td>0.000</td>\n",
       "    </tr>\n",
       "  </tbody>\n",
       "</table>\n",
       "</div>"
      ],
      "text/plain": [
       "                                   0      1      2      3\n",
       "Art Gallery                      0.0  0.003  0.000  0.016\n",
       "Beer Store                       0.0  0.002  0.000  0.000\n",
       "Board Shop                       0.0  0.004  0.000  0.000\n",
       "Bookstore                        0.0  0.021  0.000  0.000\n",
       "Breakfast Spot                   0.0  0.019  0.000  0.000\n",
       "Brewery                          0.0  0.008  0.000  0.000\n",
       "Camera Store                     0.0  0.013  0.000  0.000\n",
       "Chinese Restaurant               0.0  0.055  0.792  0.074\n",
       "Cocktail Bar                     0.0  0.046  0.000  0.000\n",
       "Coffee Shop                      0.0  0.074  0.000  0.000\n",
       "Comfort Food Restaurant          0.0  0.010  0.000 -0.000\n",
       "Creperie                         0.0  0.025  0.000  0.000\n",
       "Cuban Restaurant                 0.0  0.003  0.000  0.016\n",
       "Dance Studio                     0.0  0.047  0.000  0.000\n",
       "Deli / Bodega                    0.0  0.004  0.000  0.016\n",
       "Doner Restaurant                 0.0  0.010  0.000  0.000\n",
       "Ethiopian Restaurant             0.0  0.000  0.000  0.037\n",
       "Falafel Restaurant               0.0  0.049  0.000  0.000\n",
       "Farmers Market                   0.0  0.052  0.083 -0.000\n",
       "Fish Market                      0.0  0.003  0.000  0.000\n",
       "Flower Shop                      0.0  0.003  0.000  0.037\n",
       "Food Truck                       0.0  0.002  0.000  0.000\n",
       "French Restaurant                0.0  0.007  0.000  0.000\n",
       "Frozen Yogurt Shop               0.0  0.007  0.000  0.000\n",
       "Gastropub                        0.0 -0.000  0.125  0.016\n",
       "German Restaurant                0.0  0.006  0.000 -0.000\n",
       "Gourmet Shop                     0.0  0.015  0.000  0.000\n",
       "Greek Restaurant                 0.0  0.042  0.000  0.000\n",
       "Health Food Store                0.0  0.002  0.000  0.000\n",
       "Hookah Bar                       0.0  0.014  0.000  0.000\n",
       "Hostel                           0.0  0.006  0.000 -0.000\n",
       "Indian Restaurant                0.0  0.003  0.000  0.000\n",
       "Italian Restaurant               0.0  0.025  0.000  0.548\n",
       "Juice Bar                        0.0  0.037  0.000  0.000\n",
       "Kebab Restaurant                 0.0  0.002  0.000  0.000\n",
       "Korean Restaurant                0.0  0.003  0.000  0.000\n",
       "Lounge                           0.0  0.026  0.000  0.000\n",
       "Mediterranean Restaurant         0.0  0.008  0.000  0.022\n",
       "Middle Eastern Restaurant        0.0  0.002  0.000  0.000\n",
       "Modern European Restaurant       0.0  0.073  0.000  0.044\n",
       "Music Store                      0.0  0.008  0.000  0.000\n",
       "Music Venue                      0.0  0.019  0.000  0.037\n",
       "Nightclub                        0.0  0.031  0.000  0.000\n",
       "Organic Grocery                  0.0  0.010  0.000 -0.000\n",
       "Paella Restaurant                0.0  0.002  0.000  0.000\n",
       "Performing Arts Venue            0.0  0.008  0.000  0.000\n",
       "Photography Studio               0.0  0.023  0.000 -0.000\n",
       "Record Shop                      0.0  0.002  0.000  0.037\n",
       "Russian Restaurant               0.0  0.002  0.000  0.000\n",
       "Salad Place                      0.0  0.022  0.000 -0.000\n",
       "Sculpture Garden                 0.0  0.013  0.000  0.000\n",
       "Seafood Restaurant               0.0  0.038  0.000  0.000\n",
       "Southern / Soul Food Restaurant  0.0  0.008  0.000  0.000\n",
       "Sushi Restaurant                 0.0  0.012  0.000  0.000\n",
       "Turkish Restaurant               1.0  0.007  0.000  0.022\n",
       "Vegetarian / Vegan Restaurant    0.0  0.001  0.000  0.056\n",
       "Whisky Bar                       0.0  0.023  0.000 -0.000\n",
       "Wine Bar                         0.0 -0.000  0.000  0.022\n",
       "Wine Shop                        0.0  0.003  0.000  0.000\n",
       "Winery                           0.0  0.008  0.000  0.000"
      ]
     },
     "execution_count": 28,
     "metadata": {},
     "output_type": "execute_result"
    }
   ],
   "source": [
    "cl_centers.T.head(60).round(3)"
   ]
  },
  {
   "cell_type": "markdown",
   "metadata": {},
   "source": [
    "A better understanding of the clusters enables us to distinguish between different strands and expressions of the hipster subculture. Thus, this empowers us to better understand and, at the same time, enjoy it."
   ]
  },
  {
   "cell_type": "markdown",
   "metadata": {},
   "source": [
    "## Results"
   ]
  },
  {
   "cell_type": "markdown",
   "metadata": {},
   "source": [
    "The key business problem that we started with is the proper identification of hipster neighborhoods in the city of Sofia. Building upon the assumption that hipster neighborhoods are distinguished by a higher density of hipster-related venues we take the number of those within a certain radius as a proxy for the level of hipster-ness.\n",
    "\n",
    "This research revealed that the **five most hip neighborhoods in the city of Sofia** are as follows:\n",
    "1.\tIztok;\n",
    "2.\tZona B-18;\n",
    "3.\tIvan Vazov;\n",
    "4.\tPoligona;\n",
    "5.\tLozenets.\n",
    "\n",
    "Going through the list of neighborhoods we note a significant concentration of venues in the top performers, i.e. top hipster neighborhoods are significantly more so that the bottom ones. We can even go further to conjecture that the bottom-listed ones are artifacts of noise in data. This begs the important question of what the minimum number and type of venues that need to be present to make a place qualify as hipster, and from the data it seems that this is around 7.\n",
    "\n",
    "A second important insight is that we observe a **very large variance in the density of concentration of hipster venues**. There are neighborhoods with very high density, some with very low density, and a sizable group of 25 neighborhoods that do not have one single place that is associated with the hipster subculture.\n",
    "\n",
    "The third major results from this study is that we observe **significant differences even among hipster neighborhoods in the city** that we can group into four distinct clusters. Each of those clusters is a particular expression of a different facet of the hipster lifestyle and is likely to appeal to a distinct group of individuals that are interested in the hipster subculture.\n",
    "\n",
    "We clearly see four distinct clusters:\n",
    "\n",
    "- **Turkish Quarters** - with a  very limited selection of other hipster-related venues, this cluster prominently features Turkish restaurants. While this may not be a hipster quarter per se, it is likely of ethnic origin and non-mainstream inhabitants. We consider it the least hipster, but also the most ethnic one.\n",
    "\n",
    "\n",
    "- **The Full Experience** - the second cluster features a wide range of hipster venues ranging from cafes and bookstores all the way to ethnic, vegetarian, soul food and non-traditional restaurants. It is also rich in lounges, music stores and places of artistic performance.\n",
    "\n",
    "\n",
    "- **Chinese and Gourmet** - the third cluster focuses very much on Asian (Chinese) food and related experiences. It also has gourmet shops and gastropubs and a higher concentration of yoga studios. This cluster is recommended for hipster foodies looking for a more exotic experience with an Asian flavor.\n",
    "\n",
    "\n",
    "- **Art and Food** - this fourth cluster goes very much under two headings - exotic food and all kinds of art. It features Indian, Chinese, European, and Vegetarian restaurant but also places to listen to music, buy records or even stock up on flowers. This is somewhat of a nightlife cluster and highly recommended for day's end rather than beginning."
   ]
  },
  {
   "cell_type": "markdown",
   "metadata": {},
   "source": [
    "## Discussion"
   ]
  },
  {
   "cell_type": "markdown",
   "metadata": {},
   "source": [
    "The results that stem from this small-scale project clearly show that Sofia is still a rather divided city – while there are some places with developing and vibrant hipster culture, about a third of the city shows no signs of that whatsoever. This may be due to different urban development trajectories or, more mundanely, to incomplete data. At any rate, this result is also echoed in popular opinion and media articles and is thus useful to corroborated with concrete, albeit imperfect, data. \n",
    "\n",
    "The sharp divisions are also reflected in the divergent prices of real estate and hipster neighborhoods tend to attract more interest, and thus – differentiated price premia. The results quantify the amount of “hipster-ness” of a given neighborhood and allow sellers and buyer to compare neighborhoods based on an objective data-driven metric. The results also allow us to formulate a few recommendations:\n",
    "\n",
    "- **Buyers or renters looking for hipster quarters** are well advised to consider the following hipster neighborhoods and avoid those in the non-hipster ones above.\n",
    "\n",
    "\n",
    "- **Sellers or landlords** in one of the hipster neighborhoods may find it possible to raise the prices of their real estate, thus incorporating the hipster premium in them. On the other hands sellers and landlords in non-hipster neighborhoods may have to lower the prices so that it reflects demand and thus make deals possible.\n",
    "\n",
    "\n",
    "- **Casual strollers and tourists** that would like to sample a hipster neighborhood of the city may want to choose what sort of experience they are looking for, and thus select where they go accordingly:\n",
    "\n",
    "\n",
    "1. **Turkish Quarters**: Borovo, Dianabad, Hipodruma, Krasno Selo, Lagera, Manastirski Livadi, Mladost 4, Ovcha kupel, Pavlovo, Slatina\n",
    "\n",
    "\n",
    "2. **The Full Experience**: Lyulin 10, Lyulin 3, Lyulin 4, Mladost 3, Obelya 2\n",
    "\n",
    "\n",
    "3. **Chinese and Gourmet**: Bakston, Banishora, Beli brezi, Benkovski, Boyana, Darvenitsa, Dragalevtsi, Drujba 1, Drujba 2, Geo Milev, Gorublyane, Gotse Delchev, Hadji Dimitar, Hladilnika, Ivan Vazov, Izgrev, Iztok, Krasna Polyana, Lozenets, Lyulin 7, Lyulin 8, Malashevtsi, Mladost 1, Mladost 2, Moderno predgradie, Motopista, Musagenitsa, Nadejda 3, Poligona, Reduta, Stefan Karadja, Strelbishte, Studentski grad, Suhodol, Sveta Troitsa, Vrajdebna, Zaharna fabrika, Zona B-18, Zona B-5\n",
    "\n",
    "\n",
    "4. **Art and Food**: Nadejda, Suhata Reka, Zona B-19\n",
    "\n",
    "\n",
    "The results presented here do have **some limitations** such as their accuracy and the fact that data is static and not dynamic, but they still can serve both as stand-alone and as a foundation for future work. Most notably it would be useful to combine this data with property price data per neighborhood to quantitatively measure the size of the hipster premium. \n",
    "\n",
    "Since publicly available pricing data at the neighborhood level is not available, this will have to be scraped from a number of different publications. Another venue for future research is to have snapshots of venues at given dates (results obtained from Foursquare’s API on date) and these – saved in another database. While Foursquare does not provide time series, this approach will effectively do just that and enable us to follow trends of number and type of hipster venues over time."
   ]
  },
  {
   "cell_type": "markdown",
   "metadata": {},
   "source": [
    "## Conclusion"
   ]
  },
  {
   "cell_type": "markdown",
   "metadata": {},
   "source": [
    "This project started from the simple question of what makes a place “hipster” – something which is useful for everyone with an interest in a given neighborhood – both for people looking for goods, services and experiences; and for their suppliers. Knowing the type and particularities of a given locale enables everyone on the market to plan appropriately, set expectations, and price adequately. We combined Foursquare’s rich location data with geolocation data scraped from a publicly available website and used the operationalization of what hipster is to show which are the most hipster neighborhoods in the city. \n",
    "\n",
    "\n",
    "We also saw that different expressions of this subculture lead to different flavors of neighborhoods that cluster neatly together in four groups. This insight allows us to direct strollers and tourists to the exact type of hipster experience they will enjoy most. This also holds true for potential property buyers who can now consciously choose to live in exactly the type of environment they are most fascinated with. In short, the project provided useful standalone insight for the development of a subculture in an emerging economy that can inform and entertain but also serve as a foundation for future work.\n"
   ]
  },
  {
   "cell_type": "markdown",
   "metadata": {},
   "source": [
    "## Rerences"
   ]
  },
  {
   "cell_type": "markdown",
   "metadata": {},
   "source": [
    "1. Cronin, J. M., McCarthy, M. B., & Collins, A. M. (2014). Covert distinction: how hipsters practice food-based resistance strategies in the production of identity. *Consumption Markets & Culture*, 17(1), 2-28.\n",
    "\n",
    "2. Doll, J. (2012) The Ingredients of a Hipster Neighborhood. *The Atlantic Magazine*: https://www.theatlantic.com/culture/archive/2012/09/ingredients-hipster-neighborhood/323360/ .\n",
    "\n",
    "3. Hubbard, P. (2016). Hipsters on our high streets: Consuming the gentrification frontier. *Sociological Research Online*, 21(3), 1-6.\n",
    "\n",
    "4. Hunt, K. (2013). America's Best Cities for Hipsters. *Travel + Leisure*: https://www.travelandleisure.com/culture-design/americas-best-cities-for-hipsters-2013 .\n",
    "\n",
    "5. Kinzey, J. (2012). *The Sacred and the Profane: an investigation of hipsters*. John Hunt Publishing.\n",
    "\n",
    "6. LeBesco, K., & Naccarato, P. (2015). Distinction, disdain, and gentrification: Hipsters, food people, and the ethnic other in Brooklyn, New York. In *A Place-Based Perspective of Food in Society* (pp. 121-139). Palgrave Macmillan, New York.\n",
    "\n",
    "7. Schiermer, B. (2014). Late-modern hipsters: New tendencies in popular culture. *Acta Sociologica*, 57(2), 167-181."
   ]
  }
 ],
 "metadata": {
  "kernelspec": {
   "display_name": "Python 3",
   "language": "python",
   "name": "python3"
  },
  "language_info": {
   "codemirror_mode": {
    "name": "ipython",
    "version": 3
   },
   "file_extension": ".py",
   "mimetype": "text/x-python",
   "name": "python",
   "nbconvert_exporter": "python",
   "pygments_lexer": "ipython3",
   "version": "3.7.6"
  }
 },
 "nbformat": 4,
 "nbformat_minor": 4
}
